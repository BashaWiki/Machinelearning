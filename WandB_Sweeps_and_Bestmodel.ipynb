{
  "nbformat": 4,
  "nbformat_minor": 0,
  "metadata": {
    "colab": {
      "name": "WandB Sweeps and Bestmodel.ipynb",
      "provenance": [],
      "collapsed_sections": [],
      "authorship_tag": "ABX9TyPUTzy4qVp1vdF9NZlkCS9+",
      "include_colab_link": true
    },
    "kernelspec": {
      "name": "python3",
      "display_name": "Python 3"
    },
    "language_info": {
      "name": "python"
    },
    "widgets": {
      "application/vnd.jupyter.widget-state+json": {
        "708bb2ef53274ae3a035176c0fe7e758": {
          "model_module": "@jupyter-widgets/controls",
          "model_name": "VBoxModel",
          "model_module_version": "1.5.0",
          "state": {
            "_dom_classes": [],
            "_model_module": "@jupyter-widgets/controls",
            "_model_module_version": "1.5.0",
            "_model_name": "VBoxModel",
            "_view_count": null,
            "_view_module": "@jupyter-widgets/controls",
            "_view_module_version": "1.5.0",
            "_view_name": "VBoxView",
            "box_style": "",
            "children": [
              "IPY_MODEL_37d12ebb40224c80b8828a00e3d39a88",
              "IPY_MODEL_e975cdab8ebf43bfbaf667a900fbf854"
            ],
            "layout": "IPY_MODEL_65ce69838fd3403ba2d68023591af0cd"
          }
        },
        "37d12ebb40224c80b8828a00e3d39a88": {
          "model_module": "@jupyter-widgets/controls",
          "model_name": "LabelModel",
          "model_module_version": "1.5.0",
          "state": {
            "_dom_classes": [],
            "_model_module": "@jupyter-widgets/controls",
            "_model_module_version": "1.5.0",
            "_model_name": "LabelModel",
            "_view_count": null,
            "_view_module": "@jupyter-widgets/controls",
            "_view_module_version": "1.5.0",
            "_view_name": "LabelView",
            "description": "",
            "description_tooltip": null,
            "layout": "IPY_MODEL_3cdd104da06b461e85c1937a5f896c40",
            "placeholder": "​",
            "style": "IPY_MODEL_83f08af64b0c40a480d57be43663aeee",
            "value": "1.051 MB of 1.051 MB uploaded (0.000 MB deduped)\r"
          }
        },
        "e975cdab8ebf43bfbaf667a900fbf854": {
          "model_module": "@jupyter-widgets/controls",
          "model_name": "FloatProgressModel",
          "model_module_version": "1.5.0",
          "state": {
            "_dom_classes": [],
            "_model_module": "@jupyter-widgets/controls",
            "_model_module_version": "1.5.0",
            "_model_name": "FloatProgressModel",
            "_view_count": null,
            "_view_module": "@jupyter-widgets/controls",
            "_view_module_version": "1.5.0",
            "_view_name": "ProgressView",
            "bar_style": "",
            "description": "",
            "description_tooltip": null,
            "layout": "IPY_MODEL_83b8865bf888404a8b58250e5c9aec2e",
            "max": 1,
            "min": 0,
            "orientation": "horizontal",
            "style": "IPY_MODEL_b95a1ec75a324d86b87967fc12c18b2d",
            "value": 1
          }
        },
        "65ce69838fd3403ba2d68023591af0cd": {
          "model_module": "@jupyter-widgets/base",
          "model_name": "LayoutModel",
          "model_module_version": "1.2.0",
          "state": {
            "_model_module": "@jupyter-widgets/base",
            "_model_module_version": "1.2.0",
            "_model_name": "LayoutModel",
            "_view_count": null,
            "_view_module": "@jupyter-widgets/base",
            "_view_module_version": "1.2.0",
            "_view_name": "LayoutView",
            "align_content": null,
            "align_items": null,
            "align_self": null,
            "border": null,
            "bottom": null,
            "display": null,
            "flex": null,
            "flex_flow": null,
            "grid_area": null,
            "grid_auto_columns": null,
            "grid_auto_flow": null,
            "grid_auto_rows": null,
            "grid_column": null,
            "grid_gap": null,
            "grid_row": null,
            "grid_template_areas": null,
            "grid_template_columns": null,
            "grid_template_rows": null,
            "height": null,
            "justify_content": null,
            "justify_items": null,
            "left": null,
            "margin": null,
            "max_height": null,
            "max_width": null,
            "min_height": null,
            "min_width": null,
            "object_fit": null,
            "object_position": null,
            "order": null,
            "overflow": null,
            "overflow_x": null,
            "overflow_y": null,
            "padding": null,
            "right": null,
            "top": null,
            "visibility": null,
            "width": null
          }
        },
        "3cdd104da06b461e85c1937a5f896c40": {
          "model_module": "@jupyter-widgets/base",
          "model_name": "LayoutModel",
          "model_module_version": "1.2.0",
          "state": {
            "_model_module": "@jupyter-widgets/base",
            "_model_module_version": "1.2.0",
            "_model_name": "LayoutModel",
            "_view_count": null,
            "_view_module": "@jupyter-widgets/base",
            "_view_module_version": "1.2.0",
            "_view_name": "LayoutView",
            "align_content": null,
            "align_items": null,
            "align_self": null,
            "border": null,
            "bottom": null,
            "display": null,
            "flex": null,
            "flex_flow": null,
            "grid_area": null,
            "grid_auto_columns": null,
            "grid_auto_flow": null,
            "grid_auto_rows": null,
            "grid_column": null,
            "grid_gap": null,
            "grid_row": null,
            "grid_template_areas": null,
            "grid_template_columns": null,
            "grid_template_rows": null,
            "height": null,
            "justify_content": null,
            "justify_items": null,
            "left": null,
            "margin": null,
            "max_height": null,
            "max_width": null,
            "min_height": null,
            "min_width": null,
            "object_fit": null,
            "object_position": null,
            "order": null,
            "overflow": null,
            "overflow_x": null,
            "overflow_y": null,
            "padding": null,
            "right": null,
            "top": null,
            "visibility": null,
            "width": null
          }
        },
        "83f08af64b0c40a480d57be43663aeee": {
          "model_module": "@jupyter-widgets/controls",
          "model_name": "DescriptionStyleModel",
          "model_module_version": "1.5.0",
          "state": {
            "_model_module": "@jupyter-widgets/controls",
            "_model_module_version": "1.5.0",
            "_model_name": "DescriptionStyleModel",
            "_view_count": null,
            "_view_module": "@jupyter-widgets/base",
            "_view_module_version": "1.2.0",
            "_view_name": "StyleView",
            "description_width": ""
          }
        },
        "83b8865bf888404a8b58250e5c9aec2e": {
          "model_module": "@jupyter-widgets/base",
          "model_name": "LayoutModel",
          "model_module_version": "1.2.0",
          "state": {
            "_model_module": "@jupyter-widgets/base",
            "_model_module_version": "1.2.0",
            "_model_name": "LayoutModel",
            "_view_count": null,
            "_view_module": "@jupyter-widgets/base",
            "_view_module_version": "1.2.0",
            "_view_name": "LayoutView",
            "align_content": null,
            "align_items": null,
            "align_self": null,
            "border": null,
            "bottom": null,
            "display": null,
            "flex": null,
            "flex_flow": null,
            "grid_area": null,
            "grid_auto_columns": null,
            "grid_auto_flow": null,
            "grid_auto_rows": null,
            "grid_column": null,
            "grid_gap": null,
            "grid_row": null,
            "grid_template_areas": null,
            "grid_template_columns": null,
            "grid_template_rows": null,
            "height": null,
            "justify_content": null,
            "justify_items": null,
            "left": null,
            "margin": null,
            "max_height": null,
            "max_width": null,
            "min_height": null,
            "min_width": null,
            "object_fit": null,
            "object_position": null,
            "order": null,
            "overflow": null,
            "overflow_x": null,
            "overflow_y": null,
            "padding": null,
            "right": null,
            "top": null,
            "visibility": null,
            "width": null
          }
        },
        "b95a1ec75a324d86b87967fc12c18b2d": {
          "model_module": "@jupyter-widgets/controls",
          "model_name": "ProgressStyleModel",
          "model_module_version": "1.5.0",
          "state": {
            "_model_module": "@jupyter-widgets/controls",
            "_model_module_version": "1.5.0",
            "_model_name": "ProgressStyleModel",
            "_view_count": null,
            "_view_module": "@jupyter-widgets/base",
            "_view_module_version": "1.2.0",
            "_view_name": "StyleView",
            "bar_color": null,
            "description_width": ""
          }
        },
        "e1a5e3fe910b4302839a1b5da5cf1a30": {
          "model_module": "@jupyter-widgets/controls",
          "model_name": "VBoxModel",
          "model_module_version": "1.5.0",
          "state": {
            "_dom_classes": [],
            "_model_module": "@jupyter-widgets/controls",
            "_model_module_version": "1.5.0",
            "_model_name": "VBoxModel",
            "_view_count": null,
            "_view_module": "@jupyter-widgets/controls",
            "_view_module_version": "1.5.0",
            "_view_name": "VBoxView",
            "box_style": "",
            "children": [
              "IPY_MODEL_9de6bee5d54d4ff3adf08a18985b3b0f",
              "IPY_MODEL_a876bb640f9e4db688f46a35f0b1c916"
            ],
            "layout": "IPY_MODEL_5f3606f41e5c4981a8a5d3518750441f"
          }
        },
        "9de6bee5d54d4ff3adf08a18985b3b0f": {
          "model_module": "@jupyter-widgets/controls",
          "model_name": "LabelModel",
          "model_module_version": "1.5.0",
          "state": {
            "_dom_classes": [],
            "_model_module": "@jupyter-widgets/controls",
            "_model_module_version": "1.5.0",
            "_model_name": "LabelModel",
            "_view_count": null,
            "_view_module": "@jupyter-widgets/controls",
            "_view_module_version": "1.5.0",
            "_view_name": "LabelView",
            "description": "",
            "description_tooltip": null,
            "layout": "IPY_MODEL_aa8f5aca643148d5aa795157ba409555",
            "placeholder": "​",
            "style": "IPY_MODEL_0e5d63c15fa74db6a6b13be343ba6277",
            "value": "1.055 MB of 1.055 MB uploaded (0.000 MB deduped)\r"
          }
        },
        "a876bb640f9e4db688f46a35f0b1c916": {
          "model_module": "@jupyter-widgets/controls",
          "model_name": "FloatProgressModel",
          "model_module_version": "1.5.0",
          "state": {
            "_dom_classes": [],
            "_model_module": "@jupyter-widgets/controls",
            "_model_module_version": "1.5.0",
            "_model_name": "FloatProgressModel",
            "_view_count": null,
            "_view_module": "@jupyter-widgets/controls",
            "_view_module_version": "1.5.0",
            "_view_name": "ProgressView",
            "bar_style": "",
            "description": "",
            "description_tooltip": null,
            "layout": "IPY_MODEL_56dd8724898346e5a3a2f8ecc3a570eb",
            "max": 1,
            "min": 0,
            "orientation": "horizontal",
            "style": "IPY_MODEL_ec0d7213c11047bca2ab093115454de4",
            "value": 1
          }
        },
        "5f3606f41e5c4981a8a5d3518750441f": {
          "model_module": "@jupyter-widgets/base",
          "model_name": "LayoutModel",
          "model_module_version": "1.2.0",
          "state": {
            "_model_module": "@jupyter-widgets/base",
            "_model_module_version": "1.2.0",
            "_model_name": "LayoutModel",
            "_view_count": null,
            "_view_module": "@jupyter-widgets/base",
            "_view_module_version": "1.2.0",
            "_view_name": "LayoutView",
            "align_content": null,
            "align_items": null,
            "align_self": null,
            "border": null,
            "bottom": null,
            "display": null,
            "flex": null,
            "flex_flow": null,
            "grid_area": null,
            "grid_auto_columns": null,
            "grid_auto_flow": null,
            "grid_auto_rows": null,
            "grid_column": null,
            "grid_gap": null,
            "grid_row": null,
            "grid_template_areas": null,
            "grid_template_columns": null,
            "grid_template_rows": null,
            "height": null,
            "justify_content": null,
            "justify_items": null,
            "left": null,
            "margin": null,
            "max_height": null,
            "max_width": null,
            "min_height": null,
            "min_width": null,
            "object_fit": null,
            "object_position": null,
            "order": null,
            "overflow": null,
            "overflow_x": null,
            "overflow_y": null,
            "padding": null,
            "right": null,
            "top": null,
            "visibility": null,
            "width": null
          }
        },
        "aa8f5aca643148d5aa795157ba409555": {
          "model_module": "@jupyter-widgets/base",
          "model_name": "LayoutModel",
          "model_module_version": "1.2.0",
          "state": {
            "_model_module": "@jupyter-widgets/base",
            "_model_module_version": "1.2.0",
            "_model_name": "LayoutModel",
            "_view_count": null,
            "_view_module": "@jupyter-widgets/base",
            "_view_module_version": "1.2.0",
            "_view_name": "LayoutView",
            "align_content": null,
            "align_items": null,
            "align_self": null,
            "border": null,
            "bottom": null,
            "display": null,
            "flex": null,
            "flex_flow": null,
            "grid_area": null,
            "grid_auto_columns": null,
            "grid_auto_flow": null,
            "grid_auto_rows": null,
            "grid_column": null,
            "grid_gap": null,
            "grid_row": null,
            "grid_template_areas": null,
            "grid_template_columns": null,
            "grid_template_rows": null,
            "height": null,
            "justify_content": null,
            "justify_items": null,
            "left": null,
            "margin": null,
            "max_height": null,
            "max_width": null,
            "min_height": null,
            "min_width": null,
            "object_fit": null,
            "object_position": null,
            "order": null,
            "overflow": null,
            "overflow_x": null,
            "overflow_y": null,
            "padding": null,
            "right": null,
            "top": null,
            "visibility": null,
            "width": null
          }
        },
        "0e5d63c15fa74db6a6b13be343ba6277": {
          "model_module": "@jupyter-widgets/controls",
          "model_name": "DescriptionStyleModel",
          "model_module_version": "1.5.0",
          "state": {
            "_model_module": "@jupyter-widgets/controls",
            "_model_module_version": "1.5.0",
            "_model_name": "DescriptionStyleModel",
            "_view_count": null,
            "_view_module": "@jupyter-widgets/base",
            "_view_module_version": "1.2.0",
            "_view_name": "StyleView",
            "description_width": ""
          }
        },
        "56dd8724898346e5a3a2f8ecc3a570eb": {
          "model_module": "@jupyter-widgets/base",
          "model_name": "LayoutModel",
          "model_module_version": "1.2.0",
          "state": {
            "_model_module": "@jupyter-widgets/base",
            "_model_module_version": "1.2.0",
            "_model_name": "LayoutModel",
            "_view_count": null,
            "_view_module": "@jupyter-widgets/base",
            "_view_module_version": "1.2.0",
            "_view_name": "LayoutView",
            "align_content": null,
            "align_items": null,
            "align_self": null,
            "border": null,
            "bottom": null,
            "display": null,
            "flex": null,
            "flex_flow": null,
            "grid_area": null,
            "grid_auto_columns": null,
            "grid_auto_flow": null,
            "grid_auto_rows": null,
            "grid_column": null,
            "grid_gap": null,
            "grid_row": null,
            "grid_template_areas": null,
            "grid_template_columns": null,
            "grid_template_rows": null,
            "height": null,
            "justify_content": null,
            "justify_items": null,
            "left": null,
            "margin": null,
            "max_height": null,
            "max_width": null,
            "min_height": null,
            "min_width": null,
            "object_fit": null,
            "object_position": null,
            "order": null,
            "overflow": null,
            "overflow_x": null,
            "overflow_y": null,
            "padding": null,
            "right": null,
            "top": null,
            "visibility": null,
            "width": null
          }
        },
        "ec0d7213c11047bca2ab093115454de4": {
          "model_module": "@jupyter-widgets/controls",
          "model_name": "ProgressStyleModel",
          "model_module_version": "1.5.0",
          "state": {
            "_model_module": "@jupyter-widgets/controls",
            "_model_module_version": "1.5.0",
            "_model_name": "ProgressStyleModel",
            "_view_count": null,
            "_view_module": "@jupyter-widgets/base",
            "_view_module_version": "1.2.0",
            "_view_name": "StyleView",
            "bar_color": null,
            "description_width": ""
          }
        },
        "585036505b9e469eb8bcb968d2ac53b8": {
          "model_module": "@jupyter-widgets/controls",
          "model_name": "VBoxModel",
          "model_module_version": "1.5.0",
          "state": {
            "_dom_classes": [],
            "_model_module": "@jupyter-widgets/controls",
            "_model_module_version": "1.5.0",
            "_model_name": "VBoxModel",
            "_view_count": null,
            "_view_module": "@jupyter-widgets/controls",
            "_view_module_version": "1.5.0",
            "_view_name": "VBoxView",
            "box_style": "",
            "children": [
              "IPY_MODEL_fb497e8632c043b696f3ff5275e0833b",
              "IPY_MODEL_d6129a3b37b7467f9bfadf5855dee940"
            ],
            "layout": "IPY_MODEL_ef53ab70929e4044a1889aacfb121357"
          }
        },
        "fb497e8632c043b696f3ff5275e0833b": {
          "model_module": "@jupyter-widgets/controls",
          "model_name": "LabelModel",
          "model_module_version": "1.5.0",
          "state": {
            "_dom_classes": [],
            "_model_module": "@jupyter-widgets/controls",
            "_model_module_version": "1.5.0",
            "_model_name": "LabelModel",
            "_view_count": null,
            "_view_module": "@jupyter-widgets/controls",
            "_view_module_version": "1.5.0",
            "_view_name": "LabelView",
            "description": "",
            "description_tooltip": null,
            "layout": "IPY_MODEL_188ea01b054a4841b0c7be2cfabcb6c4",
            "placeholder": "​",
            "style": "IPY_MODEL_3a573a7584c64cc78f8d1cd407cf22a0",
            "value": "1.051 MB of 1.051 MB uploaded (0.000 MB deduped)\r"
          }
        },
        "d6129a3b37b7467f9bfadf5855dee940": {
          "model_module": "@jupyter-widgets/controls",
          "model_name": "FloatProgressModel",
          "model_module_version": "1.5.0",
          "state": {
            "_dom_classes": [],
            "_model_module": "@jupyter-widgets/controls",
            "_model_module_version": "1.5.0",
            "_model_name": "FloatProgressModel",
            "_view_count": null,
            "_view_module": "@jupyter-widgets/controls",
            "_view_module_version": "1.5.0",
            "_view_name": "ProgressView",
            "bar_style": "",
            "description": "",
            "description_tooltip": null,
            "layout": "IPY_MODEL_c8f4e414d554445ab50dee8976875d22",
            "max": 1,
            "min": 0,
            "orientation": "horizontal",
            "style": "IPY_MODEL_cbdc59def9a347ecbf023e89e661a784",
            "value": 1
          }
        },
        "ef53ab70929e4044a1889aacfb121357": {
          "model_module": "@jupyter-widgets/base",
          "model_name": "LayoutModel",
          "model_module_version": "1.2.0",
          "state": {
            "_model_module": "@jupyter-widgets/base",
            "_model_module_version": "1.2.0",
            "_model_name": "LayoutModel",
            "_view_count": null,
            "_view_module": "@jupyter-widgets/base",
            "_view_module_version": "1.2.0",
            "_view_name": "LayoutView",
            "align_content": null,
            "align_items": null,
            "align_self": null,
            "border": null,
            "bottom": null,
            "display": null,
            "flex": null,
            "flex_flow": null,
            "grid_area": null,
            "grid_auto_columns": null,
            "grid_auto_flow": null,
            "grid_auto_rows": null,
            "grid_column": null,
            "grid_gap": null,
            "grid_row": null,
            "grid_template_areas": null,
            "grid_template_columns": null,
            "grid_template_rows": null,
            "height": null,
            "justify_content": null,
            "justify_items": null,
            "left": null,
            "margin": null,
            "max_height": null,
            "max_width": null,
            "min_height": null,
            "min_width": null,
            "object_fit": null,
            "object_position": null,
            "order": null,
            "overflow": null,
            "overflow_x": null,
            "overflow_y": null,
            "padding": null,
            "right": null,
            "top": null,
            "visibility": null,
            "width": null
          }
        },
        "188ea01b054a4841b0c7be2cfabcb6c4": {
          "model_module": "@jupyter-widgets/base",
          "model_name": "LayoutModel",
          "model_module_version": "1.2.0",
          "state": {
            "_model_module": "@jupyter-widgets/base",
            "_model_module_version": "1.2.0",
            "_model_name": "LayoutModel",
            "_view_count": null,
            "_view_module": "@jupyter-widgets/base",
            "_view_module_version": "1.2.0",
            "_view_name": "LayoutView",
            "align_content": null,
            "align_items": null,
            "align_self": null,
            "border": null,
            "bottom": null,
            "display": null,
            "flex": null,
            "flex_flow": null,
            "grid_area": null,
            "grid_auto_columns": null,
            "grid_auto_flow": null,
            "grid_auto_rows": null,
            "grid_column": null,
            "grid_gap": null,
            "grid_row": null,
            "grid_template_areas": null,
            "grid_template_columns": null,
            "grid_template_rows": null,
            "height": null,
            "justify_content": null,
            "justify_items": null,
            "left": null,
            "margin": null,
            "max_height": null,
            "max_width": null,
            "min_height": null,
            "min_width": null,
            "object_fit": null,
            "object_position": null,
            "order": null,
            "overflow": null,
            "overflow_x": null,
            "overflow_y": null,
            "padding": null,
            "right": null,
            "top": null,
            "visibility": null,
            "width": null
          }
        },
        "3a573a7584c64cc78f8d1cd407cf22a0": {
          "model_module": "@jupyter-widgets/controls",
          "model_name": "DescriptionStyleModel",
          "model_module_version": "1.5.0",
          "state": {
            "_model_module": "@jupyter-widgets/controls",
            "_model_module_version": "1.5.0",
            "_model_name": "DescriptionStyleModel",
            "_view_count": null,
            "_view_module": "@jupyter-widgets/base",
            "_view_module_version": "1.2.0",
            "_view_name": "StyleView",
            "description_width": ""
          }
        },
        "c8f4e414d554445ab50dee8976875d22": {
          "model_module": "@jupyter-widgets/base",
          "model_name": "LayoutModel",
          "model_module_version": "1.2.0",
          "state": {
            "_model_module": "@jupyter-widgets/base",
            "_model_module_version": "1.2.0",
            "_model_name": "LayoutModel",
            "_view_count": null,
            "_view_module": "@jupyter-widgets/base",
            "_view_module_version": "1.2.0",
            "_view_name": "LayoutView",
            "align_content": null,
            "align_items": null,
            "align_self": null,
            "border": null,
            "bottom": null,
            "display": null,
            "flex": null,
            "flex_flow": null,
            "grid_area": null,
            "grid_auto_columns": null,
            "grid_auto_flow": null,
            "grid_auto_rows": null,
            "grid_column": null,
            "grid_gap": null,
            "grid_row": null,
            "grid_template_areas": null,
            "grid_template_columns": null,
            "grid_template_rows": null,
            "height": null,
            "justify_content": null,
            "justify_items": null,
            "left": null,
            "margin": null,
            "max_height": null,
            "max_width": null,
            "min_height": null,
            "min_width": null,
            "object_fit": null,
            "object_position": null,
            "order": null,
            "overflow": null,
            "overflow_x": null,
            "overflow_y": null,
            "padding": null,
            "right": null,
            "top": null,
            "visibility": null,
            "width": null
          }
        },
        "cbdc59def9a347ecbf023e89e661a784": {
          "model_module": "@jupyter-widgets/controls",
          "model_name": "ProgressStyleModel",
          "model_module_version": "1.5.0",
          "state": {
            "_model_module": "@jupyter-widgets/controls",
            "_model_module_version": "1.5.0",
            "_model_name": "ProgressStyleModel",
            "_view_count": null,
            "_view_module": "@jupyter-widgets/base",
            "_view_module_version": "1.2.0",
            "_view_name": "StyleView",
            "bar_color": null,
            "description_width": ""
          }
        },
        "f4f5e4b6d93d480d80482f6c929e14f9": {
          "model_module": "@jupyter-widgets/controls",
          "model_name": "VBoxModel",
          "model_module_version": "1.5.0",
          "state": {
            "_dom_classes": [],
            "_model_module": "@jupyter-widgets/controls",
            "_model_module_version": "1.5.0",
            "_model_name": "VBoxModel",
            "_view_count": null,
            "_view_module": "@jupyter-widgets/controls",
            "_view_module_version": "1.5.0",
            "_view_name": "VBoxView",
            "box_style": "",
            "children": [
              "IPY_MODEL_85cfc176fa6b406db79a0a7c804b43f4",
              "IPY_MODEL_599360d1efd24be79e7d3fe9206aa18d"
            ],
            "layout": "IPY_MODEL_e39db93059a8463996ed08aa71ab6f42"
          }
        },
        "85cfc176fa6b406db79a0a7c804b43f4": {
          "model_module": "@jupyter-widgets/controls",
          "model_name": "LabelModel",
          "model_module_version": "1.5.0",
          "state": {
            "_dom_classes": [],
            "_model_module": "@jupyter-widgets/controls",
            "_model_module_version": "1.5.0",
            "_model_name": "LabelModel",
            "_view_count": null,
            "_view_module": "@jupyter-widgets/controls",
            "_view_module_version": "1.5.0",
            "_view_name": "LabelView",
            "description": "",
            "description_tooltip": null,
            "layout": "IPY_MODEL_83381c263d644bae97b16465831c7f50",
            "placeholder": "​",
            "style": "IPY_MODEL_e83be96290d14b928f892c84fe10adc3",
            "value": "1.064 MB of 1.064 MB uploaded (0.000 MB deduped)\r"
          }
        },
        "599360d1efd24be79e7d3fe9206aa18d": {
          "model_module": "@jupyter-widgets/controls",
          "model_name": "FloatProgressModel",
          "model_module_version": "1.5.0",
          "state": {
            "_dom_classes": [],
            "_model_module": "@jupyter-widgets/controls",
            "_model_module_version": "1.5.0",
            "_model_name": "FloatProgressModel",
            "_view_count": null,
            "_view_module": "@jupyter-widgets/controls",
            "_view_module_version": "1.5.0",
            "_view_name": "ProgressView",
            "bar_style": "",
            "description": "",
            "description_tooltip": null,
            "layout": "IPY_MODEL_2237af208d8b4ed5b4d571a7aee73e53",
            "max": 1,
            "min": 0,
            "orientation": "horizontal",
            "style": "IPY_MODEL_7eafba982f82469e825bba49a600ed21",
            "value": 1
          }
        },
        "e39db93059a8463996ed08aa71ab6f42": {
          "model_module": "@jupyter-widgets/base",
          "model_name": "LayoutModel",
          "model_module_version": "1.2.0",
          "state": {
            "_model_module": "@jupyter-widgets/base",
            "_model_module_version": "1.2.0",
            "_model_name": "LayoutModel",
            "_view_count": null,
            "_view_module": "@jupyter-widgets/base",
            "_view_module_version": "1.2.0",
            "_view_name": "LayoutView",
            "align_content": null,
            "align_items": null,
            "align_self": null,
            "border": null,
            "bottom": null,
            "display": null,
            "flex": null,
            "flex_flow": null,
            "grid_area": null,
            "grid_auto_columns": null,
            "grid_auto_flow": null,
            "grid_auto_rows": null,
            "grid_column": null,
            "grid_gap": null,
            "grid_row": null,
            "grid_template_areas": null,
            "grid_template_columns": null,
            "grid_template_rows": null,
            "height": null,
            "justify_content": null,
            "justify_items": null,
            "left": null,
            "margin": null,
            "max_height": null,
            "max_width": null,
            "min_height": null,
            "min_width": null,
            "object_fit": null,
            "object_position": null,
            "order": null,
            "overflow": null,
            "overflow_x": null,
            "overflow_y": null,
            "padding": null,
            "right": null,
            "top": null,
            "visibility": null,
            "width": null
          }
        },
        "83381c263d644bae97b16465831c7f50": {
          "model_module": "@jupyter-widgets/base",
          "model_name": "LayoutModel",
          "model_module_version": "1.2.0",
          "state": {
            "_model_module": "@jupyter-widgets/base",
            "_model_module_version": "1.2.0",
            "_model_name": "LayoutModel",
            "_view_count": null,
            "_view_module": "@jupyter-widgets/base",
            "_view_module_version": "1.2.0",
            "_view_name": "LayoutView",
            "align_content": null,
            "align_items": null,
            "align_self": null,
            "border": null,
            "bottom": null,
            "display": null,
            "flex": null,
            "flex_flow": null,
            "grid_area": null,
            "grid_auto_columns": null,
            "grid_auto_flow": null,
            "grid_auto_rows": null,
            "grid_column": null,
            "grid_gap": null,
            "grid_row": null,
            "grid_template_areas": null,
            "grid_template_columns": null,
            "grid_template_rows": null,
            "height": null,
            "justify_content": null,
            "justify_items": null,
            "left": null,
            "margin": null,
            "max_height": null,
            "max_width": null,
            "min_height": null,
            "min_width": null,
            "object_fit": null,
            "object_position": null,
            "order": null,
            "overflow": null,
            "overflow_x": null,
            "overflow_y": null,
            "padding": null,
            "right": null,
            "top": null,
            "visibility": null,
            "width": null
          }
        },
        "e83be96290d14b928f892c84fe10adc3": {
          "model_module": "@jupyter-widgets/controls",
          "model_name": "DescriptionStyleModel",
          "model_module_version": "1.5.0",
          "state": {
            "_model_module": "@jupyter-widgets/controls",
            "_model_module_version": "1.5.0",
            "_model_name": "DescriptionStyleModel",
            "_view_count": null,
            "_view_module": "@jupyter-widgets/base",
            "_view_module_version": "1.2.0",
            "_view_name": "StyleView",
            "description_width": ""
          }
        },
        "2237af208d8b4ed5b4d571a7aee73e53": {
          "model_module": "@jupyter-widgets/base",
          "model_name": "LayoutModel",
          "model_module_version": "1.2.0",
          "state": {
            "_model_module": "@jupyter-widgets/base",
            "_model_module_version": "1.2.0",
            "_model_name": "LayoutModel",
            "_view_count": null,
            "_view_module": "@jupyter-widgets/base",
            "_view_module_version": "1.2.0",
            "_view_name": "LayoutView",
            "align_content": null,
            "align_items": null,
            "align_self": null,
            "border": null,
            "bottom": null,
            "display": null,
            "flex": null,
            "flex_flow": null,
            "grid_area": null,
            "grid_auto_columns": null,
            "grid_auto_flow": null,
            "grid_auto_rows": null,
            "grid_column": null,
            "grid_gap": null,
            "grid_row": null,
            "grid_template_areas": null,
            "grid_template_columns": null,
            "grid_template_rows": null,
            "height": null,
            "justify_content": null,
            "justify_items": null,
            "left": null,
            "margin": null,
            "max_height": null,
            "max_width": null,
            "min_height": null,
            "min_width": null,
            "object_fit": null,
            "object_position": null,
            "order": null,
            "overflow": null,
            "overflow_x": null,
            "overflow_y": null,
            "padding": null,
            "right": null,
            "top": null,
            "visibility": null,
            "width": null
          }
        },
        "7eafba982f82469e825bba49a600ed21": {
          "model_module": "@jupyter-widgets/controls",
          "model_name": "ProgressStyleModel",
          "model_module_version": "1.5.0",
          "state": {
            "_model_module": "@jupyter-widgets/controls",
            "_model_module_version": "1.5.0",
            "_model_name": "ProgressStyleModel",
            "_view_count": null,
            "_view_module": "@jupyter-widgets/base",
            "_view_module_version": "1.2.0",
            "_view_name": "StyleView",
            "bar_color": null,
            "description_width": ""
          }
        },
        "f45726a810c648edb07bcf949209385f": {
          "model_module": "@jupyter-widgets/controls",
          "model_name": "VBoxModel",
          "model_module_version": "1.5.0",
          "state": {
            "_dom_classes": [],
            "_model_module": "@jupyter-widgets/controls",
            "_model_module_version": "1.5.0",
            "_model_name": "VBoxModel",
            "_view_count": null,
            "_view_module": "@jupyter-widgets/controls",
            "_view_module_version": "1.5.0",
            "_view_name": "VBoxView",
            "box_style": "",
            "children": [
              "IPY_MODEL_e8da08610c7a4e27847fde84e0b7e529",
              "IPY_MODEL_1e7c42b600d04c049a13d65df2193b14"
            ],
            "layout": "IPY_MODEL_20cd28ef6cab416f95da31d3e11460c1"
          }
        },
        "e8da08610c7a4e27847fde84e0b7e529": {
          "model_module": "@jupyter-widgets/controls",
          "model_name": "LabelModel",
          "model_module_version": "1.5.0",
          "state": {
            "_dom_classes": [],
            "_model_module": "@jupyter-widgets/controls",
            "_model_module_version": "1.5.0",
            "_model_name": "LabelModel",
            "_view_count": null,
            "_view_module": "@jupyter-widgets/controls",
            "_view_module_version": "1.5.0",
            "_view_name": "LabelView",
            "description": "",
            "description_tooltip": null,
            "layout": "IPY_MODEL_a522ac650c98476b98b3b41b1309841f",
            "placeholder": "​",
            "style": "IPY_MODEL_57b2ff43873c4e74a3895f7dd564a965",
            "value": "1.051 MB of 1.051 MB uploaded (0.000 MB deduped)\r"
          }
        },
        "1e7c42b600d04c049a13d65df2193b14": {
          "model_module": "@jupyter-widgets/controls",
          "model_name": "FloatProgressModel",
          "model_module_version": "1.5.0",
          "state": {
            "_dom_classes": [],
            "_model_module": "@jupyter-widgets/controls",
            "_model_module_version": "1.5.0",
            "_model_name": "FloatProgressModel",
            "_view_count": null,
            "_view_module": "@jupyter-widgets/controls",
            "_view_module_version": "1.5.0",
            "_view_name": "ProgressView",
            "bar_style": "",
            "description": "",
            "description_tooltip": null,
            "layout": "IPY_MODEL_ae71fef0d7ba48f1aa65fd51401ee507",
            "max": 1,
            "min": 0,
            "orientation": "horizontal",
            "style": "IPY_MODEL_c1b2a2ca173347ee9aa687227b04cfc7",
            "value": 1
          }
        },
        "20cd28ef6cab416f95da31d3e11460c1": {
          "model_module": "@jupyter-widgets/base",
          "model_name": "LayoutModel",
          "model_module_version": "1.2.0",
          "state": {
            "_model_module": "@jupyter-widgets/base",
            "_model_module_version": "1.2.0",
            "_model_name": "LayoutModel",
            "_view_count": null,
            "_view_module": "@jupyter-widgets/base",
            "_view_module_version": "1.2.0",
            "_view_name": "LayoutView",
            "align_content": null,
            "align_items": null,
            "align_self": null,
            "border": null,
            "bottom": null,
            "display": null,
            "flex": null,
            "flex_flow": null,
            "grid_area": null,
            "grid_auto_columns": null,
            "grid_auto_flow": null,
            "grid_auto_rows": null,
            "grid_column": null,
            "grid_gap": null,
            "grid_row": null,
            "grid_template_areas": null,
            "grid_template_columns": null,
            "grid_template_rows": null,
            "height": null,
            "justify_content": null,
            "justify_items": null,
            "left": null,
            "margin": null,
            "max_height": null,
            "max_width": null,
            "min_height": null,
            "min_width": null,
            "object_fit": null,
            "object_position": null,
            "order": null,
            "overflow": null,
            "overflow_x": null,
            "overflow_y": null,
            "padding": null,
            "right": null,
            "top": null,
            "visibility": null,
            "width": null
          }
        },
        "a522ac650c98476b98b3b41b1309841f": {
          "model_module": "@jupyter-widgets/base",
          "model_name": "LayoutModel",
          "model_module_version": "1.2.0",
          "state": {
            "_model_module": "@jupyter-widgets/base",
            "_model_module_version": "1.2.0",
            "_model_name": "LayoutModel",
            "_view_count": null,
            "_view_module": "@jupyter-widgets/base",
            "_view_module_version": "1.2.0",
            "_view_name": "LayoutView",
            "align_content": null,
            "align_items": null,
            "align_self": null,
            "border": null,
            "bottom": null,
            "display": null,
            "flex": null,
            "flex_flow": null,
            "grid_area": null,
            "grid_auto_columns": null,
            "grid_auto_flow": null,
            "grid_auto_rows": null,
            "grid_column": null,
            "grid_gap": null,
            "grid_row": null,
            "grid_template_areas": null,
            "grid_template_columns": null,
            "grid_template_rows": null,
            "height": null,
            "justify_content": null,
            "justify_items": null,
            "left": null,
            "margin": null,
            "max_height": null,
            "max_width": null,
            "min_height": null,
            "min_width": null,
            "object_fit": null,
            "object_position": null,
            "order": null,
            "overflow": null,
            "overflow_x": null,
            "overflow_y": null,
            "padding": null,
            "right": null,
            "top": null,
            "visibility": null,
            "width": null
          }
        },
        "57b2ff43873c4e74a3895f7dd564a965": {
          "model_module": "@jupyter-widgets/controls",
          "model_name": "DescriptionStyleModel",
          "model_module_version": "1.5.0",
          "state": {
            "_model_module": "@jupyter-widgets/controls",
            "_model_module_version": "1.5.0",
            "_model_name": "DescriptionStyleModel",
            "_view_count": null,
            "_view_module": "@jupyter-widgets/base",
            "_view_module_version": "1.2.0",
            "_view_name": "StyleView",
            "description_width": ""
          }
        },
        "ae71fef0d7ba48f1aa65fd51401ee507": {
          "model_module": "@jupyter-widgets/base",
          "model_name": "LayoutModel",
          "model_module_version": "1.2.0",
          "state": {
            "_model_module": "@jupyter-widgets/base",
            "_model_module_version": "1.2.0",
            "_model_name": "LayoutModel",
            "_view_count": null,
            "_view_module": "@jupyter-widgets/base",
            "_view_module_version": "1.2.0",
            "_view_name": "LayoutView",
            "align_content": null,
            "align_items": null,
            "align_self": null,
            "border": null,
            "bottom": null,
            "display": null,
            "flex": null,
            "flex_flow": null,
            "grid_area": null,
            "grid_auto_columns": null,
            "grid_auto_flow": null,
            "grid_auto_rows": null,
            "grid_column": null,
            "grid_gap": null,
            "grid_row": null,
            "grid_template_areas": null,
            "grid_template_columns": null,
            "grid_template_rows": null,
            "height": null,
            "justify_content": null,
            "justify_items": null,
            "left": null,
            "margin": null,
            "max_height": null,
            "max_width": null,
            "min_height": null,
            "min_width": null,
            "object_fit": null,
            "object_position": null,
            "order": null,
            "overflow": null,
            "overflow_x": null,
            "overflow_y": null,
            "padding": null,
            "right": null,
            "top": null,
            "visibility": null,
            "width": null
          }
        },
        "c1b2a2ca173347ee9aa687227b04cfc7": {
          "model_module": "@jupyter-widgets/controls",
          "model_name": "ProgressStyleModel",
          "model_module_version": "1.5.0",
          "state": {
            "_model_module": "@jupyter-widgets/controls",
            "_model_module_version": "1.5.0",
            "_model_name": "ProgressStyleModel",
            "_view_count": null,
            "_view_module": "@jupyter-widgets/base",
            "_view_module_version": "1.2.0",
            "_view_name": "StyleView",
            "bar_color": null,
            "description_width": ""
          }
        }
      }
    }
  },
  "cells": [
    {
      "cell_type": "markdown",
      "metadata": {
        "id": "view-in-github",
        "colab_type": "text"
      },
      "source": [
        "<a href=\"https://colab.research.google.com/github/basha-dev-coder/Machinelearning/blob/main/WandB_Sweeps_and_Bestmodel.ipynb\" target=\"_parent\"><img src=\"https://colab.research.google.com/assets/colab-badge.svg\" alt=\"Open In Colab\"/></a>"
      ]
    },
    {
      "cell_type": "code",
      "source": [
        "pip install wandb"
      ],
      "metadata": {
        "colab": {
          "base_uri": "https://localhost:8080/"
        },
        "id": "GaqM8U-IgXIS",
        "outputId": "386de221-2ec8-439b-e088-dee8df2891a8"
      },
      "execution_count": 25,
      "outputs": [
        {
          "output_type": "stream",
          "name": "stdout",
          "text": [
            "Looking in indexes: https://pypi.org/simple, https://us-python.pkg.dev/colab-wheels/public/simple/\n",
            "Collecting wandb\n",
            "  Downloading wandb-0.12.18-py2.py3-none-any.whl (1.8 MB)\n",
            "\u001b[K     |████████████████████████████████| 1.8 MB 5.2 MB/s \n",
            "\u001b[?25hRequirement already satisfied: protobuf<4.0dev,>=3.12.0 in /usr/local/lib/python3.7/dist-packages (from wandb) (3.17.3)\n",
            "Requirement already satisfied: Click!=8.0.0,>=7.0 in /usr/local/lib/python3.7/dist-packages (from wandb) (7.1.2)\n",
            "Requirement already satisfied: six>=1.13.0 in /usr/local/lib/python3.7/dist-packages (from wandb) (1.15.0)\n",
            "Requirement already satisfied: psutil>=5.0.0 in /usr/local/lib/python3.7/dist-packages (from wandb) (5.4.8)\n",
            "Collecting setproctitle\n",
            "  Downloading setproctitle-1.2.3-cp37-cp37m-manylinux_2_5_x86_64.manylinux1_x86_64.manylinux_2_17_x86_64.manylinux2014_x86_64.whl (29 kB)\n",
            "Requirement already satisfied: setuptools in /usr/local/lib/python3.7/dist-packages (from wandb) (57.4.0)\n",
            "Collecting docker-pycreds>=0.4.0\n",
            "  Downloading docker_pycreds-0.4.0-py2.py3-none-any.whl (9.0 kB)\n",
            "Collecting pathtools\n",
            "  Downloading pathtools-0.1.2.tar.gz (11 kB)\n",
            "Requirement already satisfied: PyYAML in /usr/local/lib/python3.7/dist-packages (from wandb) (3.13)\n",
            "Collecting shortuuid>=0.5.0\n",
            "  Downloading shortuuid-1.0.9-py3-none-any.whl (9.4 kB)\n",
            "Requirement already satisfied: requests<3,>=2.0.0 in /usr/local/lib/python3.7/dist-packages (from wandb) (2.23.0)\n",
            "Collecting GitPython>=1.0.0\n",
            "  Downloading GitPython-3.1.27-py3-none-any.whl (181 kB)\n",
            "\u001b[K     |████████████████████████████████| 181 kB 46.8 MB/s \n",
            "\u001b[?25hCollecting sentry-sdk>=1.0.0\n",
            "  Downloading sentry_sdk-1.6.0-py2.py3-none-any.whl (145 kB)\n",
            "\u001b[K     |████████████████████████████████| 145 kB 50.7 MB/s \n",
            "\u001b[?25hRequirement already satisfied: promise<3,>=2.0 in /usr/local/lib/python3.7/dist-packages (from wandb) (2.3)\n",
            "Collecting gitdb<5,>=4.0.1\n",
            "  Downloading gitdb-4.0.9-py3-none-any.whl (63 kB)\n",
            "\u001b[K     |████████████████████████████████| 63 kB 1.6 MB/s \n",
            "\u001b[?25hRequirement already satisfied: typing-extensions>=3.7.4.3 in /usr/local/lib/python3.7/dist-packages (from GitPython>=1.0.0->wandb) (4.1.1)\n",
            "Collecting smmap<6,>=3.0.1\n",
            "  Downloading smmap-5.0.0-py3-none-any.whl (24 kB)\n",
            "Requirement already satisfied: urllib3!=1.25.0,!=1.25.1,<1.26,>=1.21.1 in /usr/local/lib/python3.7/dist-packages (from requests<3,>=2.0.0->wandb) (1.24.3)\n",
            "Requirement already satisfied: idna<3,>=2.5 in /usr/local/lib/python3.7/dist-packages (from requests<3,>=2.0.0->wandb) (2.10)\n",
            "Requirement already satisfied: chardet<4,>=3.0.2 in /usr/local/lib/python3.7/dist-packages (from requests<3,>=2.0.0->wandb) (3.0.4)\n",
            "Requirement already satisfied: certifi>=2017.4.17 in /usr/local/lib/python3.7/dist-packages (from requests<3,>=2.0.0->wandb) (2022.6.15)\n",
            "Building wheels for collected packages: pathtools\n",
            "  Building wheel for pathtools (setup.py) ... \u001b[?25l\u001b[?25hdone\n",
            "  Created wheel for pathtools: filename=pathtools-0.1.2-py3-none-any.whl size=8806 sha256=e66cf94cae88b7886a81f8c3b66fccb2bc8ece90f2aa9a99ca6b8f6f45572154\n",
            "  Stored in directory: /root/.cache/pip/wheels/3e/31/09/fa59cef12cdcfecc627b3d24273699f390e71828921b2cbba2\n",
            "Successfully built pathtools\n",
            "Installing collected packages: smmap, gitdb, shortuuid, setproctitle, sentry-sdk, pathtools, GitPython, docker-pycreds, wandb\n",
            "Successfully installed GitPython-3.1.27 docker-pycreds-0.4.0 gitdb-4.0.9 pathtools-0.1.2 sentry-sdk-1.6.0 setproctitle-1.2.3 shortuuid-1.0.9 smmap-5.0.0 wandb-0.12.18\n"
          ]
        }
      ]
    },
    {
      "cell_type": "code",
      "execution_count": 26,
      "metadata": {
        "colab": {
          "base_uri": "https://localhost:8080/",
          "height": 88
        },
        "id": "E2MswR6RgLw3",
        "outputId": "8f14f5c2-9332-4c66-8d97-f42d279f83d5"
      },
      "outputs": [
        {
          "output_type": "display_data",
          "data": {
            "text/plain": [
              "<IPython.core.display.Javascript object>"
            ],
            "application/javascript": [
              "\n",
              "        window._wandbApiKey = new Promise((resolve, reject) => {\n",
              "            function loadScript(url) {\n",
              "            return new Promise(function(resolve, reject) {\n",
              "                let newScript = document.createElement(\"script\");\n",
              "                newScript.onerror = reject;\n",
              "                newScript.onload = resolve;\n",
              "                document.body.appendChild(newScript);\n",
              "                newScript.src = url;\n",
              "            });\n",
              "            }\n",
              "            loadScript(\"https://cdn.jsdelivr.net/npm/postmate/build/postmate.min.js\").then(() => {\n",
              "            const iframe = document.createElement('iframe')\n",
              "            iframe.style.cssText = \"width:0;height:0;border:none\"\n",
              "            document.body.appendChild(iframe)\n",
              "            const handshake = new Postmate({\n",
              "                container: iframe,\n",
              "                url: 'https://wandb.ai/authorize'\n",
              "            });\n",
              "            const timeout = setTimeout(() => reject(\"Couldn't auto authenticate\"), 5000)\n",
              "            handshake.then(function(child) {\n",
              "                child.on('authorize', data => {\n",
              "                    clearTimeout(timeout)\n",
              "                    resolve(data)\n",
              "                });\n",
              "            });\n",
              "            })\n",
              "        });\n",
              "    "
            ]
          },
          "metadata": {}
        },
        {
          "output_type": "stream",
          "name": "stderr",
          "text": [
            "\u001b[34m\u001b[1mwandb\u001b[0m: Appending key for api.wandb.ai to your netrc file: /root/.netrc\n"
          ]
        },
        {
          "output_type": "stream",
          "name": "stdout",
          "text": [
            "Create sweep with ID: bb1bxai7\n",
            "Sweep URL: https://wandb.ai/basha/uncategorized/sweeps/bb1bxai7\n"
          ]
        }
      ],
      "source": [
        "import wandb\n",
        "\n",
        "sweep_config = {\n",
        "  \"name\" : \"my-sweep\",\n",
        "  \"method\" : \"random\",\n",
        "  \"parameters\" : {\n",
        "    \"epochs\" : {\n",
        "      \"values\" : [30, 50, 70]\n",
        "    },\n",
        "    \"learning_rate\" :{\n",
        "      \"min\": 0.0001,\n",
        "      \"max\": 0.01\n",
        "    }\n",
        "  }\n",
        "}\n",
        "\n",
        "sweep_id = wandb.sweep(sweep_config)"
      ]
    },
    {
      "cell_type": "code",
      "source": [
        "sweep_config[\"parameters\"][\"epochs\"].get(0)"
      ],
      "metadata": {
        "id": "qxgImJR85g5n"
      },
      "execution_count": 3,
      "outputs": []
    },
    {
      "cell_type": "code",
      "source": [
        "sweep_id"
      ],
      "metadata": {
        "colab": {
          "base_uri": "https://localhost:8080/",
          "height": 35
        },
        "id": "RPHMd5_mgvxl",
        "outputId": "66b72aae-97f3-441c-ce08-a2972c05e180"
      },
      "execution_count": 4,
      "outputs": [
        {
          "output_type": "execute_result",
          "data": {
            "text/plain": [
              "'vci8w3gj'"
            ],
            "application/vnd.google.colaboratory.intrinsic+json": {
              "type": "string"
            }
          },
          "metadata": {},
          "execution_count": 4
        }
      ]
    },
    {
      "cell_type": "code",
      "source": [
        "import tensorflow as tf\n",
        "from tensorflow import keras\n",
        "from wandb.keras import WandbCallback\n",
        "from sklearn.metrics import roc_curve,f1_score,classification_report\n",
        "tf.__version__\n",
        "\n",
        "minst_data = keras.datasets.mnist\n",
        "(X_train,y_train),(X_test,y_test) = minst_data.load_data()"
      ],
      "metadata": {
        "colab": {
          "base_uri": "https://localhost:8080/"
        },
        "id": "j7Fz-99aoRiF",
        "outputId": "50ecc5dc-7a58-4cff-d277-e016bb2369b2"
      },
      "execution_count": 27,
      "outputs": [
        {
          "output_type": "stream",
          "name": "stdout",
          "text": [
            "Downloading data from https://storage.googleapis.com/tensorflow/tf-keras-datasets/mnist.npz\n",
            "11493376/11490434 [==============================] - 0s 0us/step\n",
            "11501568/11490434 [==============================] - 0s 0us/step\n"
          ]
        }
      ]
    },
    {
      "cell_type": "code",
      "source": [
        "X_valid_norm,X_train_norm = X_train[:5000]/255.0 , X_train[5000:]/255.0\n",
        "y_valid_norm,y_train_norm = y_train[:5000] , y_train[5000:]"
      ],
      "metadata": {
        "id": "Kpj0J2ULoWrK"
      },
      "execution_count": 6,
      "outputs": []
    },
    {
      "cell_type": "code",
      "source": [
        ""
      ],
      "metadata": {
        "id": "V_8VV089oifI"
      },
      "execution_count": 7,
      "outputs": []
    },
    {
      "cell_type": "code",
      "source": [
        "def add_gaussian_noise(image):\n",
        "    # image must be scaled in [0, 1]\n",
        "    with tf.name_scope('Add_gaussian_noise'):\n",
        "        noise = tf.random.normal(shape=tf.shape(image), mean=0.0, stddev=(50)/(255), dtype=tf.float32)\n",
        "        noise_img = image + noise\n",
        "        noise_img = tf.clip_by_value(noise_img, 0.0, 1.0)\n",
        "    return noise_img"
      ],
      "metadata": {
        "id": "svbpPkrmogDO"
      },
      "execution_count": 8,
      "outputs": []
    },
    {
      "cell_type": "code",
      "source": [
        "\n",
        "X_valid_norm_noise = X_valid_norm.copy()\n",
        "for index,image in enumerate(X_valid_norm_noise):\n",
        "  X_valid_norm_noise[index] = add_gaussian_noise(image)"
      ],
      "metadata": {
        "id": "br0JKJICojV9"
      },
      "execution_count": 9,
      "outputs": []
    },
    {
      "cell_type": "code",
      "source": [
        "def make_model(config):\n",
        "  model_updating_lr = keras.Sequential([\n",
        "        keras.layers.Flatten(input_shape=[28,28],name=\"input\"),\n",
        "        keras.layers.Dense(300,activation=\"relu\",name=\"hidden_1\"),\n",
        "        keras.layers.Dense(100,activation=\"relu\",name=\"hidden_2\"),\n",
        "        keras.layers.Dense(10,activation=\"softmax\",name=\"output\"),                  \n",
        "  ])\n",
        "  model_updating_lr.compile(optimizer=keras.optimizers.SGD(learning_rate=config.learning_rate),metrics=\"accuracy\",loss=keras.losses.SparseCategoricalCrossentropy())\n",
        "  return model_updating_lr\n"
      ],
      "metadata": {
        "id": "l1WKOh8Yg4ho"
      },
      "execution_count": 10,
      "outputs": []
    },
    {
      "cell_type": "code",
      "source": [
        "# wandb.init(project=\"Sweep Experiments\",group=\"minst_data\") "
      ],
      "metadata": {
        "id": "2Jx4l8sHyEua"
      },
      "execution_count": 11,
      "outputs": []
    },
    {
      "cell_type": "code",
      "source": [
        "dummy_history = {}"
      ],
      "metadata": {
        "id": "ZvWoKGPI1DGr"
      },
      "execution_count": 12,
      "outputs": []
    },
    {
      "cell_type": "code",
      "source": [
        "def train():\n",
        "    with wandb.init(project=\"Sweep Experiments\",group=\"minst_Data\") as run:\n",
        "        config = wandb.config\n",
        "        model = make_model(config)\n",
        "        # print(config)\n",
        "        # for epoch in range(config[\"epochs\"]):\n",
        "            # loss = model.fit()  # your model training code here\n",
        "        # print(\"epoch \", epoch)\n",
        "        history = model.fit(X_train_norm,y_train_norm,validation_data=(X_valid_norm_noise,y_valid_norm),batch_size=32,epochs=config[\"epochs\"],callbacks=[WandbCallback()])\n",
        "            # # print(\"loss \",loss.history)\n",
        "            # wandb.log({\"history\":sum(loss.history[\"loss\"])})\n",
        "        wandb.log({\"loss\":sum(history.history[\"loss\"]) / len(history.history[\"loss\"]) ,\n",
        "                   \"accuracy\":sum(history.history[\"accuracy\"]) / len(history.history[\"accuracy\"]),\n",
        "                   \"val_loss\":sum(history.history[\"val_loss\"]) / len(history.history[\"val_loss\"]),\n",
        "                   \"val_accuracy\":sum(history.history[\"val_accuracy\"]) / len(history.history[\"val_accuracy\"]),\n",
        "                   \"epochs\": config[\"epochs\"]})\n",
        "\n",
        "\n",
        "count = 5 # number of runs to execute\n",
        "wandb.agent(sweep_id, function=train, count=count)"
      ],
      "metadata": {
        "colab": {
          "base_uri": "https://localhost:8080/",
          "height": 1000,
          "referenced_widgets": [
            "708bb2ef53274ae3a035176c0fe7e758",
            "37d12ebb40224c80b8828a00e3d39a88",
            "e975cdab8ebf43bfbaf667a900fbf854",
            "65ce69838fd3403ba2d68023591af0cd",
            "3cdd104da06b461e85c1937a5f896c40",
            "83f08af64b0c40a480d57be43663aeee",
            "83b8865bf888404a8b58250e5c9aec2e",
            "b95a1ec75a324d86b87967fc12c18b2d",
            "e1a5e3fe910b4302839a1b5da5cf1a30",
            "9de6bee5d54d4ff3adf08a18985b3b0f",
            "a876bb640f9e4db688f46a35f0b1c916",
            "5f3606f41e5c4981a8a5d3518750441f",
            "aa8f5aca643148d5aa795157ba409555",
            "0e5d63c15fa74db6a6b13be343ba6277",
            "56dd8724898346e5a3a2f8ecc3a570eb",
            "ec0d7213c11047bca2ab093115454de4",
            "585036505b9e469eb8bcb968d2ac53b8",
            "fb497e8632c043b696f3ff5275e0833b",
            "d6129a3b37b7467f9bfadf5855dee940",
            "ef53ab70929e4044a1889aacfb121357",
            "188ea01b054a4841b0c7be2cfabcb6c4",
            "3a573a7584c64cc78f8d1cd407cf22a0",
            "c8f4e414d554445ab50dee8976875d22",
            "cbdc59def9a347ecbf023e89e661a784",
            "f4f5e4b6d93d480d80482f6c929e14f9",
            "85cfc176fa6b406db79a0a7c804b43f4",
            "599360d1efd24be79e7d3fe9206aa18d",
            "e39db93059a8463996ed08aa71ab6f42",
            "83381c263d644bae97b16465831c7f50",
            "e83be96290d14b928f892c84fe10adc3",
            "2237af208d8b4ed5b4d571a7aee73e53",
            "7eafba982f82469e825bba49a600ed21",
            "f45726a810c648edb07bcf949209385f",
            "e8da08610c7a4e27847fde84e0b7e529",
            "1e7c42b600d04c049a13d65df2193b14",
            "20cd28ef6cab416f95da31d3e11460c1",
            "a522ac650c98476b98b3b41b1309841f",
            "57b2ff43873c4e74a3895f7dd564a965",
            "ae71fef0d7ba48f1aa65fd51401ee507",
            "c1b2a2ca173347ee9aa687227b04cfc7"
          ]
        },
        "id": "_t-UMMtOg4oP",
        "outputId": "8e1511e8-9826-4247-efe2-563e6017183f"
      },
      "execution_count": 13,
      "outputs": [
        {
          "output_type": "stream",
          "name": "stderr",
          "text": [
            "\u001b[34m\u001b[1mwandb\u001b[0m: Agent Starting Run: z5roxz5j with config:\n",
            "\u001b[34m\u001b[1mwandb\u001b[0m: \tepochs: 30\n",
            "\u001b[34m\u001b[1mwandb\u001b[0m: \tlearning_rate: 0.00897654188601601\n",
            "\u001b[34m\u001b[1mwandb\u001b[0m: Currently logged in as: \u001b[33mbasha\u001b[0m. Use \u001b[1m`wandb login --relogin`\u001b[0m to force relogin\n",
            "\u001b[34m\u001b[1mwandb\u001b[0m: \u001b[33mWARNING\u001b[0m Ignored wandb.init() arg project when running a sweep.\n"
          ]
        },
        {
          "output_type": "display_data",
          "data": {
            "text/plain": [
              "<IPython.core.display.HTML object>"
            ],
            "text/html": [
              "Tracking run with wandb version 0.12.18"
            ]
          },
          "metadata": {}
        },
        {
          "output_type": "display_data",
          "data": {
            "text/plain": [
              "<IPython.core.display.HTML object>"
            ],
            "text/html": [
              "Run data is saved locally in <code>/content/wandb/run-20220621_091325-z5roxz5j</code>"
            ]
          },
          "metadata": {}
        },
        {
          "output_type": "display_data",
          "data": {
            "text/plain": [
              "<IPython.core.display.HTML object>"
            ],
            "text/html": [
              "Syncing run <strong><a href=\"https://wandb.ai/basha/uncategorized/runs/z5roxz5j\" target=\"_blank\">vital-sweep-1</a></strong> to <a href=\"https://wandb.ai/basha/uncategorized\" target=\"_blank\">Weights & Biases</a> (<a href=\"https://wandb.me/run\" target=\"_blank\">docs</a>)<br/>Sweep page:  <a href=\"https://wandb.ai/basha/uncategorized/sweeps/vci8w3gj\" target=\"_blank\">https://wandb.ai/basha/uncategorized/sweeps/vci8w3gj</a>"
            ]
          },
          "metadata": {}
        },
        {
          "output_type": "stream",
          "name": "stderr",
          "text": [
            "\u001b[34m\u001b[1mwandb\u001b[0m: \u001b[33mWARNING\u001b[0m The save_model argument by default saves the model in the HDF5 format that cannot save custom objects like subclassed models and custom layers. This behavior will be deprecated in a future release in favor of the SavedModel format. Meanwhile, the HDF5 model is saved as W&B files and the SavedModel as W&B Artifacts.\n"
          ]
        },
        {
          "output_type": "stream",
          "name": "stdout",
          "text": [
            "Epoch 1/30\n",
            "1719/1719 [==============================] - 10s 5ms/step - loss: 0.6367 - accuracy: 0.8371 - val_loss: 0.4237 - val_accuracy: 0.8888 - _timestamp: 1655802818.0000 - _runtime: 13.0000\n",
            "Epoch 2/30\n",
            "1719/1719 [==============================] - 6s 3ms/step - loss: 0.3035 - accuracy: 0.9137 - val_loss: 0.3778 - val_accuracy: 0.8964 - _timestamp: 1655802823.0000 - _runtime: 18.0000\n",
            "Epoch 3/30\n",
            "1719/1719 [==============================] - 5s 3ms/step - loss: 0.2508 - accuracy: 0.9290 - val_loss: 0.3214 - val_accuracy: 0.9110 - _timestamp: 1655802829.0000 - _runtime: 24.0000\n",
            "Epoch 4/30\n",
            "1719/1719 [==============================] - 5s 3ms/step - loss: 0.2160 - accuracy: 0.9389 - val_loss: 0.2942 - val_accuracy: 0.9202 - _timestamp: 1655802834.0000 - _runtime: 29.0000\n",
            "Epoch 5/30\n",
            "1719/1719 [==============================] - 6s 3ms/step - loss: 0.1888 - accuracy: 0.9460 - val_loss: 0.3051 - val_accuracy: 0.9180 - _timestamp: 1655802840.0000 - _runtime: 35.0000\n",
            "Epoch 6/30\n",
            "1719/1719 [==============================] - 5s 3ms/step - loss: 0.1678 - accuracy: 0.9518 - val_loss: 0.2770 - val_accuracy: 0.9262 - _timestamp: 1655802845.0000 - _runtime: 40.0000\n",
            "Epoch 7/30\n",
            "1719/1719 [==============================] - 6s 3ms/step - loss: 0.1510 - accuracy: 0.9574 - val_loss: 0.2630 - val_accuracy: 0.9262 - _timestamp: 1655802851.0000 - _runtime: 46.0000\n",
            "Epoch 8/30\n",
            "1719/1719 [==============================] - 6s 3ms/step - loss: 0.1369 - accuracy: 0.9613 - val_loss: 0.2841 - val_accuracy: 0.9166 - _timestamp: 1655802856.0000 - _runtime: 51.0000\n",
            "Epoch 9/30\n",
            "1719/1719 [==============================] - 5s 3ms/step - loss: 0.1247 - accuracy: 0.9648 - val_loss: 0.2531 - val_accuracy: 0.9288 - _timestamp: 1655802862.0000 - _runtime: 57.0000\n",
            "Epoch 10/30\n",
            "1719/1719 [==============================] - 5s 3ms/step - loss: 0.1145 - accuracy: 0.9676 - val_loss: 0.2490 - val_accuracy: 0.9278 - _timestamp: 1655802867.0000 - _runtime: 62.0000\n",
            "Epoch 11/30\n",
            "1719/1719 [==============================] - 5s 3ms/step - loss: 0.1058 - accuracy: 0.9702 - val_loss: 0.2848 - val_accuracy: 0.9146 - _timestamp: 1655802872.0000 - _runtime: 67.0000\n",
            "Epoch 12/30\n",
            "1719/1719 [==============================] - 5s 3ms/step - loss: 0.0980 - accuracy: 0.9725 - val_loss: 0.2238 - val_accuracy: 0.9366 - _timestamp: 1655802878.0000 - _runtime: 73.0000\n",
            "Epoch 13/30\n",
            "1719/1719 [==============================] - 5s 3ms/step - loss: 0.0912 - accuracy: 0.9744 - val_loss: 0.2545 - val_accuracy: 0.9218 - _timestamp: 1655802883.0000 - _runtime: 78.0000\n",
            "Epoch 14/30\n",
            "1719/1719 [==============================] - 6s 3ms/step - loss: 0.0850 - accuracy: 0.9766 - val_loss: 0.2621 - val_accuracy: 0.9160 - _timestamp: 1655802889.0000 - _runtime: 84.0000\n",
            "Epoch 15/30\n",
            "1719/1719 [==============================] - 6s 3ms/step - loss: 0.0795 - accuracy: 0.9779 - val_loss: 0.2810 - val_accuracy: 0.9110 - _timestamp: 1655802894.0000 - _runtime: 89.0000\n",
            "Epoch 16/30\n",
            "1719/1719 [==============================] - 5s 3ms/step - loss: 0.0746 - accuracy: 0.9791 - val_loss: 0.2847 - val_accuracy: 0.9088 - _timestamp: 1655802900.0000 - _runtime: 95.0000\n",
            "Epoch 17/30\n",
            "1719/1719 [==============================] - 6s 3ms/step - loss: 0.0701 - accuracy: 0.9807 - val_loss: 0.2790 - val_accuracy: 0.9078 - _timestamp: 1655802906.0000 - _runtime: 101.0000\n",
            "Epoch 18/30\n",
            "1719/1719 [==============================] - 5s 3ms/step - loss: 0.0659 - accuracy: 0.9823 - val_loss: 0.2114 - val_accuracy: 0.9340 - _timestamp: 1655802911.0000 - _runtime: 106.0000\n",
            "Epoch 19/30\n",
            "1719/1719 [==============================] - 6s 3ms/step - loss: 0.0619 - accuracy: 0.9831 - val_loss: 0.2378 - val_accuracy: 0.9276 - _timestamp: 1655802917.0000 - _runtime: 112.0000\n",
            "Epoch 20/30\n",
            "1719/1719 [==============================] - 6s 3ms/step - loss: 0.0585 - accuracy: 0.9841 - val_loss: 0.2527 - val_accuracy: 0.9178 - _timestamp: 1655802922.0000 - _runtime: 117.0000\n",
            "Epoch 21/30\n",
            "1719/1719 [==============================] - 6s 3ms/step - loss: 0.0553 - accuracy: 0.9854 - val_loss: 0.2482 - val_accuracy: 0.9182 - _timestamp: 1655802928.0000 - _runtime: 123.0000\n",
            "Epoch 22/30\n",
            "1719/1719 [==============================] - 6s 3ms/step - loss: 0.0522 - accuracy: 0.9863 - val_loss: 0.2437 - val_accuracy: 0.9200 - _timestamp: 1655802934.0000 - _runtime: 129.0000\n",
            "Epoch 23/30\n",
            "1719/1719 [==============================] - 6s 3ms/step - loss: 0.0493 - accuracy: 0.9874 - val_loss: 0.2424 - val_accuracy: 0.9194 - _timestamp: 1655802940.0000 - _runtime: 135.0000\n",
            "Epoch 24/30\n",
            "1719/1719 [==============================] - 6s 3ms/step - loss: 0.0469 - accuracy: 0.9875 - val_loss: 0.2186 - val_accuracy: 0.9276 - _timestamp: 1655802945.0000 - _runtime: 140.0000\n",
            "Epoch 25/30\n",
            "1719/1719 [==============================] - 6s 3ms/step - loss: 0.0444 - accuracy: 0.9888 - val_loss: 0.2359 - val_accuracy: 0.9194 - _timestamp: 1655802951.0000 - _runtime: 146.0000\n",
            "Epoch 26/30\n",
            "1719/1719 [==============================] - 6s 3ms/step - loss: 0.0419 - accuracy: 0.9894 - val_loss: 0.2164 - val_accuracy: 0.9296 - _timestamp: 1655802956.0000 - _runtime: 151.0000\n",
            "Epoch 27/30\n",
            "1719/1719 [==============================] - 6s 3ms/step - loss: 0.0400 - accuracy: 0.9895 - val_loss: 0.1988 - val_accuracy: 0.9364 - _timestamp: 1655802962.0000 - _runtime: 157.0000\n",
            "Epoch 28/30\n",
            "1719/1719 [==============================] - 6s 3ms/step - loss: 0.0377 - accuracy: 0.9907 - val_loss: 0.2452 - val_accuracy: 0.9160 - _timestamp: 1655802967.0000 - _runtime: 162.0000\n",
            "Epoch 29/30\n",
            "1719/1719 [==============================] - 7s 4ms/step - loss: 0.0356 - accuracy: 0.9911 - val_loss: 0.2748 - val_accuracy: 0.9036 - _timestamp: 1655802975.0000 - _runtime: 170.0000\n",
            "Epoch 30/30\n",
            "1719/1719 [==============================] - 5s 3ms/step - loss: 0.0341 - accuracy: 0.9918 - val_loss: 0.2351 - val_accuracy: 0.9210 - _timestamp: 1655802980.0000 - _runtime: 175.0000\n"
          ]
        },
        {
          "output_type": "display_data",
          "data": {
            "text/plain": [
              "<IPython.core.display.HTML object>"
            ],
            "text/html": [
              "Waiting for W&B process to finish... <strong style=\"color:green\">(success).</strong>"
            ]
          },
          "metadata": {}
        },
        {
          "output_type": "display_data",
          "data": {
            "text/plain": [
              "VBox(children=(Label(value='1.037 MB of 1.037 MB uploaded (0.000 MB deduped)\\r'), FloatProgress(value=1.0, max…"
            ],
            "application/vnd.jupyter.widget-view+json": {
              "version_major": 2,
              "version_minor": 0,
              "model_id": "708bb2ef53274ae3a035176c0fe7e758"
            }
          },
          "metadata": {}
        },
        {
          "output_type": "display_data",
          "data": {
            "text/plain": [
              "<IPython.core.display.HTML object>"
            ],
            "text/html": [
              "<style>\n",
              "    table.wandb td:nth-child(1) { padding: 0 10px; text-align: left ; width: auto;} td:nth-child(2) {text-align: left ; width: 100%}\n",
              "    .wandb-row { display: flex; flex-direction: row; flex-wrap: wrap; justify-content: flex-start; width: 100% }\n",
              "    .wandb-col { display: flex; flex-direction: column; flex-basis: 100%; flex: 1; padding: 10px; }\n",
              "    </style>\n",
              "<div class=\"wandb-row\"><div class=\"wandb-col\"><h3>Run history:</h3><br/><table class=\"wandb\"><tr><td>accuracy</td><td>▁▄▅▆▆▆▆▇▇▇▇▇▇▇▇▇▇█████████████▇</td></tr><tr><td>epoch</td><td>▁▁▁▂▂▂▂▃▃▃▃▄▄▄▄▅▅▅▅▆▆▆▆▇▇▇▇███</td></tr><tr><td>epochs</td><td>▁</td></tr><tr><td>loss</td><td>█▄▄▃▃▃▂▂▂▂▂▂▂▂▂▁▁▁▁▁▁▁▁▁▁▁▁▁▁▁▂</td></tr><tr><td>val_accuracy</td><td>▁▂▄▆▅▆▆▅▇▇▅█▆▅▄▄▄█▇▅▅▆▅▇▅▇█▅▃▆▅</td></tr><tr><td>val_loss</td><td>█▇▅▄▄▃▃▄▃▃▄▂▃▃▄▄▃▁▂▃▃▂▂▂▂▂▁▂▃▂▃</td></tr></table><br/></div><div class=\"wandb-col\"><h3>Run summary:</h3><br/><table class=\"wandb\"><tr><td>accuracy</td><td>0.96787</td></tr><tr><td>best_epoch</td><td>26</td></tr><tr><td>best_val_loss</td><td>0.19881</td></tr><tr><td>epoch</td><td>29</td></tr><tr><td>epochs</td><td>30</td></tr><tr><td>loss</td><td>0.11729</td></tr><tr><td>val_accuracy</td><td>0.91891</td></tr><tr><td>val_loss</td><td>0.26597</td></tr></table><br/></div></div>"
            ]
          },
          "metadata": {}
        },
        {
          "output_type": "display_data",
          "data": {
            "text/plain": [
              "<IPython.core.display.HTML object>"
            ],
            "text/html": [
              "Synced <strong style=\"color:#cdcd00\">vital-sweep-1</strong>: <a href=\"https://wandb.ai/basha/uncategorized/runs/z5roxz5j\" target=\"_blank\">https://wandb.ai/basha/uncategorized/runs/z5roxz5j</a><br/>Synced 5 W&B file(s), 1 media file(s), 0 artifact file(s) and 1 other file(s)"
            ]
          },
          "metadata": {}
        },
        {
          "output_type": "display_data",
          "data": {
            "text/plain": [
              "<IPython.core.display.HTML object>"
            ],
            "text/html": [
              "Find logs at: <code>./wandb/run-20220621_091325-z5roxz5j/logs</code>"
            ]
          },
          "metadata": {}
        },
        {
          "output_type": "stream",
          "name": "stderr",
          "text": [
            "\u001b[34m\u001b[1mwandb\u001b[0m: Agent Starting Run: tyhhjmit with config:\n",
            "\u001b[34m\u001b[1mwandb\u001b[0m: \tepochs: 50\n",
            "\u001b[34m\u001b[1mwandb\u001b[0m: \tlearning_rate: 0.00701273718131376\n",
            "\u001b[34m\u001b[1mwandb\u001b[0m: \u001b[33mWARNING\u001b[0m Ignored wandb.init() arg project when running a sweep.\n"
          ]
        },
        {
          "output_type": "display_data",
          "data": {
            "text/plain": [
              "<IPython.core.display.HTML object>"
            ],
            "text/html": [
              "Tracking run with wandb version 0.12.18"
            ]
          },
          "metadata": {}
        },
        {
          "output_type": "display_data",
          "data": {
            "text/plain": [
              "<IPython.core.display.HTML object>"
            ],
            "text/html": [
              "Run data is saved locally in <code>/content/wandb/run-20220621_091629-tyhhjmit</code>"
            ]
          },
          "metadata": {}
        },
        {
          "output_type": "display_data",
          "data": {
            "text/plain": [
              "<IPython.core.display.HTML object>"
            ],
            "text/html": [
              "Syncing run <strong><a href=\"https://wandb.ai/basha/uncategorized/runs/tyhhjmit\" target=\"_blank\">bumbling-sweep-2</a></strong> to <a href=\"https://wandb.ai/basha/uncategorized\" target=\"_blank\">Weights & Biases</a> (<a href=\"https://wandb.me/run\" target=\"_blank\">docs</a>)<br/>Sweep page:  <a href=\"https://wandb.ai/basha/uncategorized/sweeps/vci8w3gj\" target=\"_blank\">https://wandb.ai/basha/uncategorized/sweeps/vci8w3gj</a>"
            ]
          },
          "metadata": {}
        },
        {
          "output_type": "stream",
          "name": "stdout",
          "text": [
            "Epoch 1/50\n",
            "1719/1719 [==============================] - 6s 3ms/step - loss: 0.7023 - accuracy: 0.8270 - val_loss: 0.4418 - val_accuracy: 0.8846 - _timestamp: 1655802996.0000 - _runtime: 7.0000\n",
            "Epoch 2/50\n",
            "1719/1719 [==============================] - 5s 3ms/step - loss: 0.3213 - accuracy: 0.9095 - val_loss: 0.3627 - val_accuracy: 0.9020 - _timestamp: 1655803002.0000 - _runtime: 13.0000\n",
            "Epoch 3/50\n",
            "1719/1719 [==============================] - 6s 3ms/step - loss: 0.2680 - accuracy: 0.9242 - val_loss: 0.3358 - val_accuracy: 0.9076 - _timestamp: 1655803008.0000 - _runtime: 19.0000\n",
            "Epoch 4/50\n",
            "1719/1719 [==============================] - 6s 3ms/step - loss: 0.2349 - accuracy: 0.9329 - val_loss: 0.3447 - val_accuracy: 0.9034 - _timestamp: 1655803013.0000 - _runtime: 24.0000\n",
            "Epoch 5/50\n",
            "1719/1719 [==============================] - 6s 3ms/step - loss: 0.2102 - accuracy: 0.9401 - val_loss: 0.3054 - val_accuracy: 0.9164 - _timestamp: 1655803019.0000 - _runtime: 30.0000\n",
            "Epoch 6/50\n",
            "1719/1719 [==============================] - 6s 3ms/step - loss: 0.1895 - accuracy: 0.9460 - val_loss: 0.2874 - val_accuracy: 0.9224 - _timestamp: 1655803024.0000 - _runtime: 35.0000\n",
            "Epoch 7/50\n",
            "1719/1719 [==============================] - 6s 3ms/step - loss: 0.1724 - accuracy: 0.9512 - val_loss: 0.2842 - val_accuracy: 0.9236 - _timestamp: 1655803030.0000 - _runtime: 41.0000\n",
            "Epoch 8/50\n",
            "1719/1719 [==============================] - 6s 3ms/step - loss: 0.1579 - accuracy: 0.9554 - val_loss: 0.2497 - val_accuracy: 0.9336 - _timestamp: 1655803036.0000 - _runtime: 47.0000\n",
            "Epoch 9/50\n",
            "1719/1719 [==============================] - 6s 3ms/step - loss: 0.1460 - accuracy: 0.9585 - val_loss: 0.2990 - val_accuracy: 0.9140 - _timestamp: 1655803041.0000 - _runtime: 52.0000\n",
            "Epoch 10/50\n",
            "1719/1719 [==============================] - 6s 3ms/step - loss: 0.1355 - accuracy: 0.9617 - val_loss: 0.2580 - val_accuracy: 0.9282 - _timestamp: 1655803047.0000 - _runtime: 58.0000\n",
            "Epoch 11/50\n",
            "1719/1719 [==============================] - 6s 3ms/step - loss: 0.1260 - accuracy: 0.9645 - val_loss: 0.2898 - val_accuracy: 0.9162 - _timestamp: 1655803053.0000 - _runtime: 64.0000\n",
            "Epoch 12/50\n",
            "1719/1719 [==============================] - 5s 3ms/step - loss: 0.1174 - accuracy: 0.9672 - val_loss: 0.2631 - val_accuracy: 0.9256 - _timestamp: 1655803058.0000 - _runtime: 69.0000\n",
            "Epoch 13/50\n",
            "1719/1719 [==============================] - 6s 3ms/step - loss: 0.1100 - accuracy: 0.9694 - val_loss: 0.2981 - val_accuracy: 0.9112 - _timestamp: 1655803064.0000 - _runtime: 75.0000\n",
            "Epoch 14/50\n",
            "1719/1719 [==============================] - 6s 3ms/step - loss: 0.1032 - accuracy: 0.9718 - val_loss: 0.2816 - val_accuracy: 0.9164 - _timestamp: 1655803069.0000 - _runtime: 80.0000\n",
            "Epoch 15/50\n",
            "1719/1719 [==============================] - 5s 3ms/step - loss: 0.0973 - accuracy: 0.9734 - val_loss: 0.2845 - val_accuracy: 0.9160 - _timestamp: 1655803075.0000 - _runtime: 86.0000\n",
            "Epoch 16/50\n",
            "1719/1719 [==============================] - 6s 3ms/step - loss: 0.0915 - accuracy: 0.9747 - val_loss: 0.2630 - val_accuracy: 0.9204 - _timestamp: 1655803080.0000 - _runtime: 91.0000\n",
            "Epoch 17/50\n",
            "1719/1719 [==============================] - 6s 3ms/step - loss: 0.0866 - accuracy: 0.9763 - val_loss: 0.2741 - val_accuracy: 0.9178 - _timestamp: 1655803086.0000 - _runtime: 97.0000\n",
            "Epoch 18/50\n",
            "1719/1719 [==============================] - 6s 3ms/step - loss: 0.0819 - accuracy: 0.9777 - val_loss: 0.2779 - val_accuracy: 0.9136 - _timestamp: 1655803092.0000 - _runtime: 103.0000\n",
            "Epoch 19/50\n",
            "1719/1719 [==============================] - 5s 3ms/step - loss: 0.0775 - accuracy: 0.9793 - val_loss: 0.2568 - val_accuracy: 0.9198 - _timestamp: 1655803097.0000 - _runtime: 108.0000\n",
            "Epoch 20/50\n",
            "1719/1719 [==============================] - 5s 3ms/step - loss: 0.0736 - accuracy: 0.9797 - val_loss: 0.2651 - val_accuracy: 0.9168 - _timestamp: 1655803102.0000 - _runtime: 113.0000\n",
            "Epoch 21/50\n",
            "1719/1719 [==============================] - 5s 3ms/step - loss: 0.0700 - accuracy: 0.9812 - val_loss: 0.2655 - val_accuracy: 0.9162 - _timestamp: 1655803108.0000 - _runtime: 119.0000\n",
            "Epoch 22/50\n",
            "1719/1719 [==============================] - 6s 3ms/step - loss: 0.0665 - accuracy: 0.9822 - val_loss: 0.2346 - val_accuracy: 0.9276 - _timestamp: 1655803113.0000 - _runtime: 124.0000\n",
            "Epoch 23/50\n",
            "1719/1719 [==============================] - 6s 3ms/step - loss: 0.0635 - accuracy: 0.9832 - val_loss: 0.2597 - val_accuracy: 0.9162 - _timestamp: 1655803119.0000 - _runtime: 130.0000\n",
            "Epoch 24/50\n",
            "1719/1719 [==============================] - 6s 3ms/step - loss: 0.0600 - accuracy: 0.9846 - val_loss: 0.2429 - val_accuracy: 0.9234 - _timestamp: 1655803125.0000 - _runtime: 136.0000\n",
            "Epoch 25/50\n",
            "1719/1719 [==============================] - 6s 3ms/step - loss: 0.0576 - accuracy: 0.9847 - val_loss: 0.2760 - val_accuracy: 0.9090 - _timestamp: 1655803130.0000 - _runtime: 141.0000\n",
            "Epoch 26/50\n",
            "1719/1719 [==============================] - 6s 3ms/step - loss: 0.0550 - accuracy: 0.9854 - val_loss: 0.2737 - val_accuracy: 0.9078 - _timestamp: 1655803136.0000 - _runtime: 147.0000\n",
            "Epoch 27/50\n",
            "1719/1719 [==============================] - 6s 3ms/step - loss: 0.0527 - accuracy: 0.9861 - val_loss: 0.2644 - val_accuracy: 0.9112 - _timestamp: 1655803141.0000 - _runtime: 152.0000\n",
            "Epoch 28/50\n",
            "1719/1719 [==============================] - 6s 3ms/step - loss: 0.0502 - accuracy: 0.9870 - val_loss: 0.2401 - val_accuracy: 0.9240 - _timestamp: 1655803147.0000 - _runtime: 158.0000\n",
            "Epoch 29/50\n",
            "1719/1719 [==============================] - 6s 3ms/step - loss: 0.0478 - accuracy: 0.9875 - val_loss: 0.2406 - val_accuracy: 0.9196 - _timestamp: 1655803152.0000 - _runtime: 163.0000\n",
            "Epoch 30/50\n",
            "1719/1719 [==============================] - 6s 3ms/step - loss: 0.0459 - accuracy: 0.9887 - val_loss: 0.2843 - val_accuracy: 0.9012 - _timestamp: 1655803158.0000 - _runtime: 169.0000\n",
            "Epoch 31/50\n",
            "1719/1719 [==============================] - 5s 3ms/step - loss: 0.0438 - accuracy: 0.9890 - val_loss: 0.2743 - val_accuracy: 0.9086 - _timestamp: 1655803163.0000 - _runtime: 174.0000\n",
            "Epoch 32/50\n",
            "1719/1719 [==============================] - 6s 3ms/step - loss: 0.0418 - accuracy: 0.9899 - val_loss: 0.2572 - val_accuracy: 0.9132 - _timestamp: 1655803169.0000 - _runtime: 180.0000\n",
            "Epoch 33/50\n",
            "1719/1719 [==============================] - 6s 3ms/step - loss: 0.0401 - accuracy: 0.9901 - val_loss: 0.3112 - val_accuracy: 0.8910 - _timestamp: 1655803175.0000 - _runtime: 186.0000\n",
            "Epoch 34/50\n",
            "1719/1719 [==============================] - 5s 3ms/step - loss: 0.0383 - accuracy: 0.9906 - val_loss: 0.2674 - val_accuracy: 0.9080 - _timestamp: 1655803180.0000 - _runtime: 191.0000\n",
            "Epoch 35/50\n",
            "1719/1719 [==============================] - 6s 3ms/step - loss: 0.0369 - accuracy: 0.9911 - val_loss: 0.2864 - val_accuracy: 0.8992 - _timestamp: 1655803186.0000 - _runtime: 197.0000\n",
            "Epoch 36/50\n",
            "1719/1719 [==============================] - 6s 3ms/step - loss: 0.0355 - accuracy: 0.9914 - val_loss: 0.2567 - val_accuracy: 0.9092 - _timestamp: 1655803191.0000 - _runtime: 202.0000\n",
            "Epoch 37/50\n",
            "1719/1719 [==============================] - 6s 3ms/step - loss: 0.0339 - accuracy: 0.9923 - val_loss: 0.2708 - val_accuracy: 0.9064 - _timestamp: 1655803197.0000 - _runtime: 208.0000\n",
            "Epoch 38/50\n",
            "1719/1719 [==============================] - 6s 3ms/step - loss: 0.0323 - accuracy: 0.9925 - val_loss: 0.2830 - val_accuracy: 0.8986 - _timestamp: 1655803203.0000 - _runtime: 214.0000\n",
            "Epoch 39/50\n",
            "1719/1719 [==============================] - 6s 3ms/step - loss: 0.0311 - accuracy: 0.9930 - val_loss: 0.3165 - val_accuracy: 0.8864 - _timestamp: 1655803208.0000 - _runtime: 219.0000\n",
            "Epoch 40/50\n",
            "1719/1719 [==============================] - 6s 3ms/step - loss: 0.0300 - accuracy: 0.9934 - val_loss: 0.2761 - val_accuracy: 0.9032 - _timestamp: 1655803214.0000 - _runtime: 225.0000\n",
            "Epoch 41/50\n",
            "1719/1719 [==============================] - 5s 3ms/step - loss: 0.0287 - accuracy: 0.9942 - val_loss: 0.2596 - val_accuracy: 0.9112 - _timestamp: 1655803219.0000 - _runtime: 230.0000\n",
            "Epoch 42/50\n",
            "1719/1719 [==============================] - 5s 3ms/step - loss: 0.0276 - accuracy: 0.9941 - val_loss: 0.2603 - val_accuracy: 0.9100 - _timestamp: 1655803225.0000 - _runtime: 236.0000\n",
            "Epoch 43/50\n",
            "1719/1719 [==============================] - 6s 3ms/step - loss: 0.0265 - accuracy: 0.9947 - val_loss: 0.2951 - val_accuracy: 0.8960 - _timestamp: 1655803230.0000 - _runtime: 241.0000\n",
            "Epoch 44/50\n",
            "1719/1719 [==============================] - 6s 3ms/step - loss: 0.0255 - accuracy: 0.9952 - val_loss: 0.2852 - val_accuracy: 0.9004 - _timestamp: 1655803236.0000 - _runtime: 247.0000\n",
            "Epoch 45/50\n",
            "1719/1719 [==============================] - 6s 3ms/step - loss: 0.0244 - accuracy: 0.9953 - val_loss: 0.2852 - val_accuracy: 0.8996 - _timestamp: 1655803241.0000 - _runtime: 252.0000\n",
            "Epoch 46/50\n",
            "1719/1719 [==============================] - 5s 3ms/step - loss: 0.0236 - accuracy: 0.9955 - val_loss: 0.3071 - val_accuracy: 0.8860 - _timestamp: 1655803247.0000 - _runtime: 258.0000\n",
            "Epoch 47/50\n",
            "1719/1719 [==============================] - 6s 3ms/step - loss: 0.0227 - accuracy: 0.9958 - val_loss: 0.2717 - val_accuracy: 0.9040 - _timestamp: 1655803252.0000 - _runtime: 263.0000\n",
            "Epoch 48/50\n",
            "1719/1719 [==============================] - 6s 3ms/step - loss: 0.0216 - accuracy: 0.9963 - val_loss: 0.2889 - val_accuracy: 0.8976 - _timestamp: 1655803258.0000 - _runtime: 269.0000\n",
            "Epoch 49/50\n",
            "1719/1719 [==============================] - 6s 3ms/step - loss: 0.0209 - accuracy: 0.9963 - val_loss: 0.3096 - val_accuracy: 0.8886 - _timestamp: 1655803264.0000 - _runtime: 275.0000\n",
            "Epoch 50/50\n",
            "1719/1719 [==============================] - 6s 3ms/step - loss: 0.0200 - accuracy: 0.9966 - val_loss: 0.3147 - val_accuracy: 0.8862 - _timestamp: 1655803270.0000 - _runtime: 281.0000\n"
          ]
        },
        {
          "output_type": "display_data",
          "data": {
            "text/plain": [
              "<IPython.core.display.HTML object>"
            ],
            "text/html": [
              "Waiting for W&B process to finish... <strong style=\"color:green\">(success).</strong>"
            ]
          },
          "metadata": {}
        },
        {
          "output_type": "display_data",
          "data": {
            "text/plain": [
              "VBox(children=(Label(value='1.037 MB of 1.037 MB uploaded (0.000 MB deduped)\\r'), FloatProgress(value=1.0, max…"
            ],
            "application/vnd.jupyter.widget-view+json": {
              "version_major": 2,
              "version_minor": 0,
              "model_id": "e1a5e3fe910b4302839a1b5da5cf1a30"
            }
          },
          "metadata": {}
        },
        {
          "output_type": "display_data",
          "data": {
            "text/plain": [
              "<IPython.core.display.HTML object>"
            ],
            "text/html": [
              "<style>\n",
              "    table.wandb td:nth-child(1) { padding: 0 10px; text-align: left ; width: auto;} td:nth-child(2) {text-align: left ; width: 100%}\n",
              "    .wandb-row { display: flex; flex-direction: row; flex-wrap: wrap; justify-content: flex-start; width: 100% }\n",
              "    .wandb-col { display: flex; flex-direction: column; flex-basis: 100%; flex: 1; padding: 10px; }\n",
              "    </style>\n",
              "<div class=\"wandb-row\"><div class=\"wandb-col\"><h3>Run history:</h3><br/><table class=\"wandb\"><tr><td>accuracy</td><td>▁▄▅▅▆▆▆▆▇▇▇▇▇▇▇▇▇▇█████████████████████▇</td></tr><tr><td>epoch</td><td>▁▁▁▁▂▂▂▂▂▃▃▃▃▃▃▄▄▄▄▄▅▅▅▅▅▅▆▆▆▆▆▆▇▇▇▇▇███</td></tr><tr><td>epochs</td><td>▁</td></tr><tr><td>loss</td><td>█▄▄▃▃▃▂▂▂▂▂▂▂▂▂▂▂▁▁▁▁▁▁▁▁▁▁▁▁▁▁▁▁▁▁▁▁▁▁▂</td></tr><tr><td>val_accuracy</td><td>▁▃▄▄▆▇█▅▆▇▅▅▆▆▅▆▆▇▇▄▄▅▆▃▄▂▄▃▅▃▁▄▅▃▃▃▄▃▂▅</td></tr><tr><td>val_loss</td><td>█▅▄▅▃▃▂▃▃▂▃▃▂▂▂▂▂▁▁▂▂▂▁▃▂▄▂▃▂▃▄▂▂▃▃▃▂▃▄▃</td></tr></table><br/></div><div class=\"wandb-col\"><h3>Run summary:</h3><br/><table class=\"wandb\"><tr><td>accuracy</td><td>0.97517</td></tr><tr><td>best_epoch</td><td>21</td></tr><tr><td>best_val_loss</td><td>0.23457</td></tr><tr><td>epoch</td><td>49</td></tr><tr><td>epochs</td><td>50</td></tr><tr><td>loss</td><td>0.09354</td></tr><tr><td>val_accuracy</td><td>0.90938</td></tr><tr><td>val_loss</td><td>0.28362</td></tr></table><br/></div></div>"
            ]
          },
          "metadata": {}
        },
        {
          "output_type": "display_data",
          "data": {
            "text/plain": [
              "<IPython.core.display.HTML object>"
            ],
            "text/html": [
              "Synced <strong style=\"color:#cdcd00\">bumbling-sweep-2</strong>: <a href=\"https://wandb.ai/basha/uncategorized/runs/tyhhjmit\" target=\"_blank\">https://wandb.ai/basha/uncategorized/runs/tyhhjmit</a><br/>Synced 5 W&B file(s), 1 media file(s), 0 artifact file(s) and 1 other file(s)"
            ]
          },
          "metadata": {}
        },
        {
          "output_type": "display_data",
          "data": {
            "text/plain": [
              "<IPython.core.display.HTML object>"
            ],
            "text/html": [
              "Find logs at: <code>./wandb/run-20220621_091629-tyhhjmit/logs</code>"
            ]
          },
          "metadata": {}
        },
        {
          "output_type": "stream",
          "name": "stderr",
          "text": [
            "\u001b[34m\u001b[1mwandb\u001b[0m: Agent Starting Run: 3fu7t9eq with config:\n",
            "\u001b[34m\u001b[1mwandb\u001b[0m: \tepochs: 30\n",
            "\u001b[34m\u001b[1mwandb\u001b[0m: \tlearning_rate: 0.005525353811007823\n",
            "\u001b[34m\u001b[1mwandb\u001b[0m: \u001b[33mWARNING\u001b[0m Ignored wandb.init() arg project when running a sweep.\n"
          ]
        },
        {
          "output_type": "display_data",
          "data": {
            "text/plain": [
              "<IPython.core.display.HTML object>"
            ],
            "text/html": [
              "Tracking run with wandb version 0.12.18"
            ]
          },
          "metadata": {}
        },
        {
          "output_type": "display_data",
          "data": {
            "text/plain": [
              "<IPython.core.display.HTML object>"
            ],
            "text/html": [
              "Run data is saved locally in <code>/content/wandb/run-20220621_092202-3fu7t9eq</code>"
            ]
          },
          "metadata": {}
        },
        {
          "output_type": "display_data",
          "data": {
            "text/plain": [
              "<IPython.core.display.HTML object>"
            ],
            "text/html": [
              "Syncing run <strong><a href=\"https://wandb.ai/basha/uncategorized/runs/3fu7t9eq\" target=\"_blank\">major-sweep-3</a></strong> to <a href=\"https://wandb.ai/basha/uncategorized\" target=\"_blank\">Weights & Biases</a> (<a href=\"https://wandb.me/run\" target=\"_blank\">docs</a>)<br/>Sweep page:  <a href=\"https://wandb.ai/basha/uncategorized/sweeps/vci8w3gj\" target=\"_blank\">https://wandb.ai/basha/uncategorized/sweeps/vci8w3gj</a>"
            ]
          },
          "metadata": {}
        },
        {
          "output_type": "stream",
          "name": "stdout",
          "text": [
            "Epoch 1/30\n",
            "1719/1719 [==============================] - 6s 3ms/step - loss: 0.8085 - accuracy: 0.7977 - val_loss: 0.4753 - val_accuracy: 0.8864 - _timestamp: 1655803329.0000 - _runtime: 7.0000\n",
            "Epoch 2/30\n",
            "1719/1719 [==============================] - 6s 3ms/step - loss: 0.3494 - accuracy: 0.9023 - val_loss: 0.3926 - val_accuracy: 0.9014 - _timestamp: 1655803334.0000 - _runtime: 12.0000\n",
            "Epoch 3/30\n",
            "1719/1719 [==============================] - 6s 3ms/step - loss: 0.2919 - accuracy: 0.9172 - val_loss: 0.3796 - val_accuracy: 0.9036 - _timestamp: 1655803340.0000 - _runtime: 18.0000\n",
            "Epoch 4/30\n",
            "1719/1719 [==============================] - 6s 3ms/step - loss: 0.2593 - accuracy: 0.9261 - val_loss: 0.3359 - val_accuracy: 0.9136 - _timestamp: 1655803346.0000 - _runtime: 24.0000\n",
            "Epoch 5/30\n",
            "1719/1719 [==============================] - 6s 3ms/step - loss: 0.2347 - accuracy: 0.9339 - val_loss: 0.3500 - val_accuracy: 0.9090 - _timestamp: 1655803351.0000 - _runtime: 29.0000\n",
            "Epoch 6/30\n",
            "1719/1719 [==============================] - 6s 3ms/step - loss: 0.2154 - accuracy: 0.9390 - val_loss: 0.3061 - val_accuracy: 0.9224 - _timestamp: 1655803357.0000 - _runtime: 35.0000\n",
            "Epoch 7/30\n",
            "1719/1719 [==============================] - 6s 3ms/step - loss: 0.1989 - accuracy: 0.9436 - val_loss: 0.3143 - val_accuracy: 0.9200 - _timestamp: 1655803362.0000 - _runtime: 40.0000\n",
            "Epoch 8/30\n",
            "1719/1719 [==============================] - 5s 3ms/step - loss: 0.1847 - accuracy: 0.9483 - val_loss: 0.3449 - val_accuracy: 0.9018 - _timestamp: 1655803368.0000 - _runtime: 46.0000\n",
            "Epoch 9/30\n",
            "1719/1719 [==============================] - 6s 3ms/step - loss: 0.1725 - accuracy: 0.9516 - val_loss: 0.3077 - val_accuracy: 0.9204 - _timestamp: 1655803373.0000 - _runtime: 51.0000\n",
            "Epoch 10/30\n",
            "1719/1719 [==============================] - 6s 3ms/step - loss: 0.1614 - accuracy: 0.9549 - val_loss: 0.3078 - val_accuracy: 0.9170 - _timestamp: 1655803379.0000 - _runtime: 57.0000\n",
            "Epoch 11/30\n",
            "1719/1719 [==============================] - 5s 3ms/step - loss: 0.1518 - accuracy: 0.9573 - val_loss: 0.3256 - val_accuracy: 0.9098 - _timestamp: 1655803384.0000 - _runtime: 62.0000\n",
            "Epoch 12/30\n",
            "1719/1719 [==============================] - 6s 3ms/step - loss: 0.1431 - accuracy: 0.9600 - val_loss: 0.2989 - val_accuracy: 0.9140 - _timestamp: 1655803390.0000 - _runtime: 68.0000\n",
            "Epoch 13/30\n",
            "1719/1719 [==============================] - 5s 3ms/step - loss: 0.1350 - accuracy: 0.9623 - val_loss: 0.2979 - val_accuracy: 0.9180 - _timestamp: 1655803395.0000 - _runtime: 73.0000\n",
            "Epoch 14/30\n",
            "1719/1719 [==============================] - 5s 3ms/step - loss: 0.1278 - accuracy: 0.9641 - val_loss: 0.3449 - val_accuracy: 0.8990 - _timestamp: 1655803401.0000 - _runtime: 79.0000\n",
            "Epoch 15/30\n",
            "1719/1719 [==============================] - 6s 3ms/step - loss: 0.1210 - accuracy: 0.9662 - val_loss: 0.2799 - val_accuracy: 0.9192 - _timestamp: 1655803406.0000 - _runtime: 84.0000\n",
            "Epoch 16/30\n",
            "1719/1719 [==============================] - 5s 3ms/step - loss: 0.1151 - accuracy: 0.9677 - val_loss: 0.2916 - val_accuracy: 0.9154 - _timestamp: 1655803412.0000 - _runtime: 90.0000\n",
            "Epoch 17/30\n",
            "1719/1719 [==============================] - 5s 3ms/step - loss: 0.1095 - accuracy: 0.9689 - val_loss: 0.3118 - val_accuracy: 0.9072 - _timestamp: 1655803417.0000 - _runtime: 95.0000\n",
            "Epoch 18/30\n",
            "1719/1719 [==============================] - 6s 3ms/step - loss: 0.1041 - accuracy: 0.9709 - val_loss: 0.2764 - val_accuracy: 0.9184 - _timestamp: 1655803423.0000 - _runtime: 101.0000\n",
            "Epoch 19/30\n",
            "1719/1719 [==============================] - 6s 3ms/step - loss: 0.0996 - accuracy: 0.9723 - val_loss: 0.3046 - val_accuracy: 0.9060 - _timestamp: 1655803428.0000 - _runtime: 106.0000\n",
            "Epoch 20/30\n",
            "1719/1719 [==============================] - 5s 3ms/step - loss: 0.0949 - accuracy: 0.9737 - val_loss: 0.3064 - val_accuracy: 0.9048 - _timestamp: 1655803434.0000 - _runtime: 112.0000\n",
            "Epoch 21/30\n",
            "1719/1719 [==============================] - 6s 3ms/step - loss: 0.0906 - accuracy: 0.9747 - val_loss: 0.2652 - val_accuracy: 0.9182 - _timestamp: 1655803439.0000 - _runtime: 117.0000\n",
            "Epoch 22/30\n",
            "1719/1719 [==============================] - 5s 3ms/step - loss: 0.0866 - accuracy: 0.9761 - val_loss: 0.2773 - val_accuracy: 0.9142 - _timestamp: 1655803445.0000 - _runtime: 123.0000\n",
            "Epoch 23/30\n",
            "1719/1719 [==============================] - 5s 3ms/step - loss: 0.0830 - accuracy: 0.9769 - val_loss: 0.3426 - val_accuracy: 0.8894 - _timestamp: 1655803450.0000 - _runtime: 128.0000\n",
            "Epoch 24/30\n",
            "1719/1719 [==============================] - 5s 3ms/step - loss: 0.0797 - accuracy: 0.9779 - val_loss: 0.2706 - val_accuracy: 0.9158 - _timestamp: 1655803456.0000 - _runtime: 134.0000\n",
            "Epoch 25/30\n",
            "1719/1719 [==============================] - 6s 3ms/step - loss: 0.0765 - accuracy: 0.9787 - val_loss: 0.2878 - val_accuracy: 0.9096 - _timestamp: 1655803461.0000 - _runtime: 139.0000\n",
            "Epoch 26/30\n",
            "1719/1719 [==============================] - 6s 3ms/step - loss: 0.0734 - accuracy: 0.9800 - val_loss: 0.2680 - val_accuracy: 0.9180 - _timestamp: 1655803467.0000 - _runtime: 145.0000\n",
            "Epoch 27/30\n",
            "1719/1719 [==============================] - 6s 3ms/step - loss: 0.0704 - accuracy: 0.9807 - val_loss: 0.2897 - val_accuracy: 0.9066 - _timestamp: 1655803473.0000 - _runtime: 151.0000\n",
            "Epoch 28/30\n",
            "1719/1719 [==============================] - 6s 3ms/step - loss: 0.0678 - accuracy: 0.9819 - val_loss: 0.2808 - val_accuracy: 0.9086 - _timestamp: 1655803478.0000 - _runtime: 156.0000\n",
            "Epoch 29/30\n",
            "1719/1719 [==============================] - 6s 3ms/step - loss: 0.0652 - accuracy: 0.9825 - val_loss: 0.3102 - val_accuracy: 0.8994 - _timestamp: 1655803484.0000 - _runtime: 162.0000\n",
            "Epoch 30/30\n",
            "1719/1719 [==============================] - 6s 3ms/step - loss: 0.0626 - accuracy: 0.9835 - val_loss: 0.3293 - val_accuracy: 0.8900 - _timestamp: 1655803489.0000 - _runtime: 167.0000\n"
          ]
        },
        {
          "output_type": "display_data",
          "data": {
            "text/plain": [
              "<IPython.core.display.HTML object>"
            ],
            "text/html": [
              "Waiting for W&B process to finish... <strong style=\"color:green\">(success).</strong>"
            ]
          },
          "metadata": {}
        },
        {
          "output_type": "display_data",
          "data": {
            "text/plain": [
              "VBox(children=(Label(value='1.037 MB of 1.037 MB uploaded (0.000 MB deduped)\\r'), FloatProgress(value=1.0, max…"
            ],
            "application/vnd.jupyter.widget-view+json": {
              "version_major": 2,
              "version_minor": 0,
              "model_id": "585036505b9e469eb8bcb968d2ac53b8"
            }
          },
          "metadata": {}
        },
        {
          "output_type": "display_data",
          "data": {
            "text/plain": [
              "<IPython.core.display.HTML object>"
            ],
            "text/html": [
              "<style>\n",
              "    table.wandb td:nth-child(1) { padding: 0 10px; text-align: left ; width: auto;} td:nth-child(2) {text-align: left ; width: 100%}\n",
              "    .wandb-row { display: flex; flex-direction: row; flex-wrap: wrap; justify-content: flex-start; width: 100% }\n",
              "    .wandb-col { display: flex; flex-direction: column; flex-basis: 100%; flex: 1; padding: 10px; }\n",
              "    </style>\n",
              "<div class=\"wandb-row\"><div class=\"wandb-col\"><h3>Run history:</h3><br/><table class=\"wandb\"><tr><td>accuracy</td><td>▁▅▆▆▆▆▆▇▇▇▇▇▇▇▇▇▇█████████████▇</td></tr><tr><td>epoch</td><td>▁▁▁▂▂▂▂▃▃▃▃▄▄▄▄▅▅▅▅▆▆▆▆▇▇▇▇███</td></tr><tr><td>epochs</td><td>▁</td></tr><tr><td>loss</td><td>█▄▃▃▃▂▂▂▂▂▂▂▂▂▂▁▁▁▁▁▁▁▁▁▁▁▁▁▁▁▂</td></tr><tr><td>val_accuracy</td><td>▁▄▄▆▅██▄█▇▆▆▇▃▇▇▅▇▅▅▇▆▂▇▆▇▅▅▄▂▅</td></tr><tr><td>val_loss</td><td>█▅▅▃▄▂▃▄▂▂▃▂▂▄▁▂▃▁▂▂▁▁▄▁▂▁▂▂▂▃▃</td></tr></table><br/></div><div class=\"wandb-col\"><h3>Run summary:</h3><br/><table class=\"wandb\"><tr><td>accuracy</td><td>0.95569</td></tr><tr><td>best_epoch</td><td>20</td></tr><tr><td>best_val_loss</td><td>0.26521</td></tr><tr><td>epoch</td><td>29</td></tr><tr><td>epochs</td><td>30</td></tr><tr><td>loss</td><td>0.16115</td></tr><tr><td>val_accuracy</td><td>0.90924</td></tr><tr><td>val_loss</td><td>0.31578</td></tr></table><br/></div></div>"
            ]
          },
          "metadata": {}
        },
        {
          "output_type": "display_data",
          "data": {
            "text/plain": [
              "<IPython.core.display.HTML object>"
            ],
            "text/html": [
              "Synced <strong style=\"color:#cdcd00\">major-sweep-3</strong>: <a href=\"https://wandb.ai/basha/uncategorized/runs/3fu7t9eq\" target=\"_blank\">https://wandb.ai/basha/uncategorized/runs/3fu7t9eq</a><br/>Synced 5 W&B file(s), 1 media file(s), 0 artifact file(s) and 1 other file(s)"
            ]
          },
          "metadata": {}
        },
        {
          "output_type": "display_data",
          "data": {
            "text/plain": [
              "<IPython.core.display.HTML object>"
            ],
            "text/html": [
              "Find logs at: <code>./wandb/run-20220621_092202-3fu7t9eq/logs</code>"
            ]
          },
          "metadata": {}
        },
        {
          "output_type": "stream",
          "name": "stderr",
          "text": [
            "\u001b[34m\u001b[1mwandb\u001b[0m: Agent Starting Run: e3qvkca6 with config:\n",
            "\u001b[34m\u001b[1mwandb\u001b[0m: \tepochs: 70\n",
            "\u001b[34m\u001b[1mwandb\u001b[0m: \tlearning_rate: 0.006306564512832891\n",
            "\u001b[34m\u001b[1mwandb\u001b[0m: \u001b[33mWARNING\u001b[0m Ignored wandb.init() arg project when running a sweep.\n"
          ]
        },
        {
          "output_type": "display_data",
          "data": {
            "text/plain": [
              "<IPython.core.display.HTML object>"
            ],
            "text/html": [
              "Tracking run with wandb version 0.12.18"
            ]
          },
          "metadata": {}
        },
        {
          "output_type": "display_data",
          "data": {
            "text/plain": [
              "<IPython.core.display.HTML object>"
            ],
            "text/html": [
              "Run data is saved locally in <code>/content/wandb/run-20220621_092532-e3qvkca6</code>"
            ]
          },
          "metadata": {}
        },
        {
          "output_type": "display_data",
          "data": {
            "text/plain": [
              "<IPython.core.display.HTML object>"
            ],
            "text/html": [
              "Syncing run <strong><a href=\"https://wandb.ai/basha/uncategorized/runs/e3qvkca6\" target=\"_blank\">super-sweep-4</a></strong> to <a href=\"https://wandb.ai/basha/uncategorized\" target=\"_blank\">Weights & Biases</a> (<a href=\"https://wandb.me/run\" target=\"_blank\">docs</a>)<br/>Sweep page:  <a href=\"https://wandb.ai/basha/uncategorized/sweeps/vci8w3gj\" target=\"_blank\">https://wandb.ai/basha/uncategorized/sweeps/vci8w3gj</a>"
            ]
          },
          "metadata": {}
        },
        {
          "output_type": "stream",
          "name": "stdout",
          "text": [
            "Epoch 1/70\n",
            "1719/1719 [==============================] - 6s 3ms/step - loss: 0.7699 - accuracy: 0.8065 - val_loss: 0.4495 - val_accuracy: 0.8864 - _timestamp: 1655803539.0000 - _runtime: 7.0000\n",
            "Epoch 2/70\n",
            "1719/1719 [==============================] - 6s 3ms/step - loss: 0.3328 - accuracy: 0.9053 - val_loss: 0.3716 - val_accuracy: 0.9006 - _timestamp: 1655803545.0000 - _runtime: 13.0000\n",
            "Epoch 3/70\n",
            "1719/1719 [==============================] - 6s 3ms/step - loss: 0.2774 - accuracy: 0.9202 - val_loss: 0.3327 - val_accuracy: 0.9110 - _timestamp: 1655803550.0000 - _runtime: 18.0000\n",
            "Epoch 4/70\n",
            "1719/1719 [==============================] - 6s 3ms/step - loss: 0.2440 - accuracy: 0.9301 - val_loss: 0.3213 - val_accuracy: 0.9138 - _timestamp: 1655803556.0000 - _runtime: 24.0000\n",
            "Epoch 5/70\n",
            "1719/1719 [==============================] - 6s 3ms/step - loss: 0.2186 - accuracy: 0.9375 - val_loss: 0.3048 - val_accuracy: 0.9182 - _timestamp: 1655803561.0000 - _runtime: 29.0000\n",
            "Epoch 6/70\n",
            "1719/1719 [==============================] - 5s 3ms/step - loss: 0.1984 - accuracy: 0.9433 - val_loss: 0.2896 - val_accuracy: 0.9236 - _timestamp: 1655803567.0000 - _runtime: 35.0000\n",
            "Epoch 7/70\n",
            "1719/1719 [==============================] - 6s 3ms/step - loss: 0.1816 - accuracy: 0.9482 - val_loss: 0.2922 - val_accuracy: 0.9174 - _timestamp: 1655803572.0000 - _runtime: 40.0000\n",
            "Epoch 8/70\n",
            "1719/1719 [==============================] - 5s 3ms/step - loss: 0.1672 - accuracy: 0.9525 - val_loss: 0.2884 - val_accuracy: 0.9204 - _timestamp: 1655803578.0000 - _runtime: 46.0000\n",
            "Epoch 9/70\n",
            "1719/1719 [==============================] - 5s 3ms/step - loss: 0.1547 - accuracy: 0.9565 - val_loss: 0.2880 - val_accuracy: 0.9214 - _timestamp: 1655803583.0000 - _runtime: 51.0000\n",
            "Epoch 10/70\n",
            "1719/1719 [==============================] - 5s 3ms/step - loss: 0.1435 - accuracy: 0.9591 - val_loss: 0.2874 - val_accuracy: 0.9210 - _timestamp: 1655803589.0000 - _runtime: 57.0000\n",
            "Epoch 11/70\n",
            "1719/1719 [==============================] - 6s 3ms/step - loss: 0.1341 - accuracy: 0.9610 - val_loss: 0.2755 - val_accuracy: 0.9254 - _timestamp: 1655803594.0000 - _runtime: 62.0000\n",
            "Epoch 12/70\n",
            "1719/1719 [==============================] - 5s 3ms/step - loss: 0.1256 - accuracy: 0.9643 - val_loss: 0.2680 - val_accuracy: 0.9270 - _timestamp: 1655803600.0000 - _runtime: 68.0000\n",
            "Epoch 13/70\n",
            "1719/1719 [==============================] - 6s 4ms/step - loss: 0.1180 - accuracy: 0.9665 - val_loss: 0.2554 - val_accuracy: 0.9290 - _timestamp: 1655803606.0000 - _runtime: 74.0000\n",
            "Epoch 14/70\n",
            "1719/1719 [==============================] - 6s 3ms/step - loss: 0.1109 - accuracy: 0.9685 - val_loss: 0.2784 - val_accuracy: 0.9202 - _timestamp: 1655803612.0000 - _runtime: 80.0000\n",
            "Epoch 15/70\n",
            "1719/1719 [==============================] - 6s 3ms/step - loss: 0.1049 - accuracy: 0.9704 - val_loss: 0.2653 - val_accuracy: 0.9226 - _timestamp: 1655803617.0000 - _runtime: 85.0000\n",
            "Epoch 16/70\n",
            "1719/1719 [==============================] - 6s 3ms/step - loss: 0.0993 - accuracy: 0.9725 - val_loss: 0.2693 - val_accuracy: 0.9212 - _timestamp: 1655803623.0000 - _runtime: 91.0000\n",
            "Epoch 17/70\n",
            "1719/1719 [==============================] - 6s 3ms/step - loss: 0.0940 - accuracy: 0.9739 - val_loss: 0.2309 - val_accuracy: 0.9346 - _timestamp: 1655803629.0000 - _runtime: 97.0000\n",
            "Epoch 18/70\n",
            "1719/1719 [==============================] - 6s 3ms/step - loss: 0.0893 - accuracy: 0.9756 - val_loss: 0.2672 - val_accuracy: 0.9206 - _timestamp: 1655803634.0000 - _runtime: 102.0000\n",
            "Epoch 19/70\n",
            "1719/1719 [==============================] - 6s 3ms/step - loss: 0.0850 - accuracy: 0.9764 - val_loss: 0.2362 - val_accuracy: 0.9304 - _timestamp: 1655803640.0000 - _runtime: 108.0000\n",
            "Epoch 20/70\n",
            "1719/1719 [==============================] - 6s 3ms/step - loss: 0.0806 - accuracy: 0.9782 - val_loss: 0.2464 - val_accuracy: 0.9266 - _timestamp: 1655803645.0000 - _runtime: 113.0000\n",
            "Epoch 21/70\n",
            "1719/1719 [==============================] - 5s 3ms/step - loss: 0.0770 - accuracy: 0.9788 - val_loss: 0.2547 - val_accuracy: 0.9232 - _timestamp: 1655803651.0000 - _runtime: 119.0000\n",
            "Epoch 22/70\n",
            "1719/1719 [==============================] - 6s 3ms/step - loss: 0.0733 - accuracy: 0.9799 - val_loss: 0.2479 - val_accuracy: 0.9240 - _timestamp: 1655803656.0000 - _runtime: 124.0000\n",
            "Epoch 23/70\n",
            "1719/1719 [==============================] - 5s 3ms/step - loss: 0.0701 - accuracy: 0.9812 - val_loss: 0.2280 - val_accuracy: 0.9324 - _timestamp: 1655803662.0000 - _runtime: 130.0000\n",
            "Epoch 24/70\n",
            "1719/1719 [==============================] - 5s 3ms/step - loss: 0.0668 - accuracy: 0.9817 - val_loss: 0.2519 - val_accuracy: 0.9200 - _timestamp: 1655803667.0000 - _runtime: 135.0000\n",
            "Epoch 25/70\n",
            "1719/1719 [==============================] - 5s 3ms/step - loss: 0.0640 - accuracy: 0.9827 - val_loss: 0.2467 - val_accuracy: 0.9224 - _timestamp: 1655803673.0000 - _runtime: 141.0000\n",
            "Epoch 26/70\n",
            "1719/1719 [==============================] - 5s 3ms/step - loss: 0.0612 - accuracy: 0.9835 - val_loss: 0.2341 - val_accuracy: 0.9258 - _timestamp: 1655803678.0000 - _runtime: 146.0000\n",
            "Epoch 27/70\n",
            "1719/1719 [==============================] - 5s 3ms/step - loss: 0.0587 - accuracy: 0.9841 - val_loss: 0.2276 - val_accuracy: 0.9284 - _timestamp: 1655803684.0000 - _runtime: 152.0000\n",
            "Epoch 28/70\n",
            "1719/1719 [==============================] - 6s 3ms/step - loss: 0.0563 - accuracy: 0.9850 - val_loss: 0.2217 - val_accuracy: 0.9324 - _timestamp: 1655803689.0000 - _runtime: 157.0000\n",
            "Epoch 29/70\n",
            "1719/1719 [==============================] - 6s 3ms/step - loss: 0.0538 - accuracy: 0.9856 - val_loss: 0.2293 - val_accuracy: 0.9256 - _timestamp: 1655803695.0000 - _runtime: 163.0000\n",
            "Epoch 30/70\n",
            "1719/1719 [==============================] - 6s 3ms/step - loss: 0.0517 - accuracy: 0.9863 - val_loss: 0.2114 - val_accuracy: 0.9344 - _timestamp: 1655803700.0000 - _runtime: 168.0000\n",
            "Epoch 31/70\n",
            "1719/1719 [==============================] - 5s 3ms/step - loss: 0.0495 - accuracy: 0.9873 - val_loss: 0.2244 - val_accuracy: 0.9260 - _timestamp: 1655803706.0000 - _runtime: 174.0000\n",
            "Epoch 32/70\n",
            "1719/1719 [==============================] - 6s 3ms/step - loss: 0.0476 - accuracy: 0.9876 - val_loss: 0.2457 - val_accuracy: 0.9190 - _timestamp: 1655803711.0000 - _runtime: 179.0000\n",
            "Epoch 33/70\n",
            "1719/1719 [==============================] - 5s 3ms/step - loss: 0.0458 - accuracy: 0.9883 - val_loss: 0.2425 - val_accuracy: 0.9202 - _timestamp: 1655803717.0000 - _runtime: 185.0000\n",
            "Epoch 34/70\n",
            "1719/1719 [==============================] - 5s 3ms/step - loss: 0.0439 - accuracy: 0.9884 - val_loss: 0.2163 - val_accuracy: 0.9288 - _timestamp: 1655803722.0000 - _runtime: 190.0000\n",
            "Epoch 35/70\n",
            "1719/1719 [==============================] - 6s 3ms/step - loss: 0.0419 - accuracy: 0.9896 - val_loss: 0.1956 - val_accuracy: 0.9382 - _timestamp: 1655803728.0000 - _runtime: 196.0000\n",
            "Epoch 36/70\n",
            "1719/1719 [==============================] - 6s 3ms/step - loss: 0.0406 - accuracy: 0.9897 - val_loss: 0.2228 - val_accuracy: 0.9274 - _timestamp: 1655803734.0000 - _runtime: 202.0000\n",
            "Epoch 37/70\n",
            "1719/1719 [==============================] - 5s 3ms/step - loss: 0.0391 - accuracy: 0.9903 - val_loss: 0.2678 - val_accuracy: 0.9084 - _timestamp: 1655803739.0000 - _runtime: 207.0000\n",
            "Epoch 38/70\n",
            "1719/1719 [==============================] - 6s 3ms/step - loss: 0.0375 - accuracy: 0.9910 - val_loss: 0.2455 - val_accuracy: 0.9154 - _timestamp: 1655803745.0000 - _runtime: 213.0000\n",
            "Epoch 39/70\n",
            "1719/1719 [==============================] - 6s 3ms/step - loss: 0.0362 - accuracy: 0.9911 - val_loss: 0.2067 - val_accuracy: 0.9302 - _timestamp: 1655803750.0000 - _runtime: 218.0000\n",
            "Epoch 40/70\n",
            "1719/1719 [==============================] - 5s 3ms/step - loss: 0.0348 - accuracy: 0.9915 - val_loss: 0.2301 - val_accuracy: 0.9220 - _timestamp: 1655803756.0000 - _runtime: 224.0000\n",
            "Epoch 41/70\n",
            "1719/1719 [==============================] - 6s 3ms/step - loss: 0.0335 - accuracy: 0.9922 - val_loss: 0.2192 - val_accuracy: 0.9284 - _timestamp: 1655803761.0000 - _runtime: 229.0000\n",
            "Epoch 42/70\n",
            "1719/1719 [==============================] - 6s 3ms/step - loss: 0.0323 - accuracy: 0.9923 - val_loss: 0.2321 - val_accuracy: 0.9204 - _timestamp: 1655803767.0000 - _runtime: 235.0000\n",
            "Epoch 43/70\n",
            "1719/1719 [==============================] - 5s 3ms/step - loss: 0.0309 - accuracy: 0.9929 - val_loss: 0.2436 - val_accuracy: 0.9166 - _timestamp: 1655803772.0000 - _runtime: 240.0000\n",
            "Epoch 44/70\n",
            "1719/1719 [==============================] - 5s 3ms/step - loss: 0.0299 - accuracy: 0.9933 - val_loss: 0.2340 - val_accuracy: 0.9208 - _timestamp: 1655803778.0000 - _runtime: 246.0000\n",
            "Epoch 45/70\n",
            "1719/1719 [==============================] - 6s 3ms/step - loss: 0.0288 - accuracy: 0.9937 - val_loss: 0.2548 - val_accuracy: 0.9130 - _timestamp: 1655803783.0000 - _runtime: 251.0000\n",
            "Epoch 46/70\n",
            "1719/1719 [==============================] - 6s 3ms/step - loss: 0.0278 - accuracy: 0.9939 - val_loss: 0.2096 - val_accuracy: 0.9300 - _timestamp: 1655803789.0000 - _runtime: 257.0000\n",
            "Epoch 47/70\n",
            "1719/1719 [==============================] - 6s 3ms/step - loss: 0.0267 - accuracy: 0.9942 - val_loss: 0.2155 - val_accuracy: 0.9282 - _timestamp: 1655803794.0000 - _runtime: 262.0000\n",
            "Epoch 48/70\n",
            "1719/1719 [==============================] - 6s 3ms/step - loss: 0.0257 - accuracy: 0.9946 - val_loss: 0.2268 - val_accuracy: 0.9216 - _timestamp: 1655803800.0000 - _runtime: 268.0000\n",
            "Epoch 49/70\n",
            "1719/1719 [==============================] - 6s 3ms/step - loss: 0.0248 - accuracy: 0.9949 - val_loss: 0.2074 - val_accuracy: 0.9312 - _timestamp: 1655803806.0000 - _runtime: 274.0000\n",
            "Epoch 50/70\n",
            "1719/1719 [==============================] - 6s 3ms/step - loss: 0.0240 - accuracy: 0.9951 - val_loss: 0.2439 - val_accuracy: 0.9156 - _timestamp: 1655803811.0000 - _runtime: 279.0000\n",
            "Epoch 51/70\n",
            "1719/1719 [==============================] - 6s 3ms/step - loss: 0.0231 - accuracy: 0.9953 - val_loss: 0.2227 - val_accuracy: 0.9256 - _timestamp: 1655803817.0000 - _runtime: 285.0000\n",
            "Epoch 52/70\n",
            "1719/1719 [==============================] - 6s 3ms/step - loss: 0.0223 - accuracy: 0.9957 - val_loss: 0.2631 - val_accuracy: 0.9068 - _timestamp: 1655803822.0000 - _runtime: 290.0000\n",
            "Epoch 53/70\n",
            "1719/1719 [==============================] - 6s 3ms/step - loss: 0.0216 - accuracy: 0.9957 - val_loss: 0.2088 - val_accuracy: 0.9296 - _timestamp: 1655803828.0000 - _runtime: 296.0000\n",
            "Epoch 54/70\n",
            "1719/1719 [==============================] - 6s 3ms/step - loss: 0.0208 - accuracy: 0.9963 - val_loss: 0.2433 - val_accuracy: 0.9176 - _timestamp: 1655803833.0000 - _runtime: 301.0000\n",
            "Epoch 55/70\n",
            "1719/1719 [==============================] - 6s 3ms/step - loss: 0.0201 - accuracy: 0.9965 - val_loss: 0.2186 - val_accuracy: 0.9250 - _timestamp: 1655803839.0000 - _runtime: 307.0000\n",
            "Epoch 56/70\n",
            "1719/1719 [==============================] - 6s 3ms/step - loss: 0.0194 - accuracy: 0.9966 - val_loss: 0.2379 - val_accuracy: 0.9200 - _timestamp: 1655803845.0000 - _runtime: 313.0000\n",
            "Epoch 57/70\n",
            "1719/1719 [==============================] - 6s 3ms/step - loss: 0.0187 - accuracy: 0.9968 - val_loss: 0.2266 - val_accuracy: 0.9230 - _timestamp: 1655803850.0000 - _runtime: 318.0000\n",
            "Epoch 58/70\n",
            "1719/1719 [==============================] - 6s 3ms/step - loss: 0.0181 - accuracy: 0.9970 - val_loss: 0.2253 - val_accuracy: 0.9212 - _timestamp: 1655803856.0000 - _runtime: 324.0000\n",
            "Epoch 59/70\n",
            "1719/1719 [==============================] - 6s 3ms/step - loss: 0.0175 - accuracy: 0.9972 - val_loss: 0.2321 - val_accuracy: 0.9234 - _timestamp: 1655803861.0000 - _runtime: 329.0000\n",
            "Epoch 60/70\n",
            "1719/1719 [==============================] - 6s 3ms/step - loss: 0.0169 - accuracy: 0.9975 - val_loss: 0.2196 - val_accuracy: 0.9264 - _timestamp: 1655803867.0000 - _runtime: 335.0000\n",
            "Epoch 61/70\n",
            "1719/1719 [==============================] - 6s 3ms/step - loss: 0.0164 - accuracy: 0.9977 - val_loss: 0.2336 - val_accuracy: 0.9208 - _timestamp: 1655803873.0000 - _runtime: 341.0000\n",
            "Epoch 62/70\n",
            "1719/1719 [==============================] - 6s 3ms/step - loss: 0.0159 - accuracy: 0.9977 - val_loss: 0.2428 - val_accuracy: 0.9188 - _timestamp: 1655803878.0000 - _runtime: 346.0000\n",
            "Epoch 63/70\n",
            "1719/1719 [==============================] - 6s 3ms/step - loss: 0.0154 - accuracy: 0.9979 - val_loss: 0.2288 - val_accuracy: 0.9230 - _timestamp: 1655803884.0000 - _runtime: 352.0000\n",
            "Epoch 64/70\n",
            "1719/1719 [==============================] - 6s 3ms/step - loss: 0.0149 - accuracy: 0.9979 - val_loss: 0.2212 - val_accuracy: 0.9252 - _timestamp: 1655803889.0000 - _runtime: 357.0000\n",
            "Epoch 65/70\n",
            "1719/1719 [==============================] - 6s 3ms/step - loss: 0.0144 - accuracy: 0.9982 - val_loss: 0.2134 - val_accuracy: 0.9268 - _timestamp: 1655803895.0000 - _runtime: 363.0000\n",
            "Epoch 66/70\n",
            "1719/1719 [==============================] - 7s 4ms/step - loss: 0.0140 - accuracy: 0.9982 - val_loss: 0.2723 - val_accuracy: 0.9070 - _timestamp: 1655803902.0000 - _runtime: 370.0000\n",
            "Epoch 67/70\n",
            "1719/1719 [==============================] - 5s 3ms/step - loss: 0.0136 - accuracy: 0.9983 - val_loss: 0.2239 - val_accuracy: 0.9232 - _timestamp: 1655803907.0000 - _runtime: 375.0000\n",
            "Epoch 68/70\n",
            "1719/1719 [==============================] - 5s 3ms/step - loss: 0.0131 - accuracy: 0.9984 - val_loss: 0.2400 - val_accuracy: 0.9188 - _timestamp: 1655803913.0000 - _runtime: 381.0000\n",
            "Epoch 69/70\n",
            "1719/1719 [==============================] - 6s 3ms/step - loss: 0.0128 - accuracy: 0.9985 - val_loss: 0.2391 - val_accuracy: 0.9192 - _timestamp: 1655803918.0000 - _runtime: 386.0000\n",
            "Epoch 70/70\n",
            "1719/1719 [==============================] - 6s 3ms/step - loss: 0.0124 - accuracy: 0.9986 - val_loss: 0.2225 - val_accuracy: 0.9252 - _timestamp: 1655803924.0000 - _runtime: 392.0000\n"
          ]
        },
        {
          "output_type": "display_data",
          "data": {
            "text/plain": [
              "<IPython.core.display.HTML object>"
            ],
            "text/html": [
              "Waiting for W&B process to finish... <strong style=\"color:green\">(success).</strong>"
            ]
          },
          "metadata": {}
        },
        {
          "output_type": "display_data",
          "data": {
            "text/plain": [
              "VBox(children=(Label(value='1.037 MB of 1.037 MB uploaded (0.000 MB deduped)\\r'), FloatProgress(value=1.0, max…"
            ],
            "application/vnd.jupyter.widget-view+json": {
              "version_major": 2,
              "version_minor": 0,
              "model_id": "f4f5e4b6d93d480d80482f6c929e14f9"
            }
          },
          "metadata": {}
        },
        {
          "output_type": "display_data",
          "data": {
            "text/plain": [
              "<IPython.core.display.HTML object>"
            ],
            "text/html": [
              "<style>\n",
              "    table.wandb td:nth-child(1) { padding: 0 10px; text-align: left ; width: auto;} td:nth-child(2) {text-align: left ; width: 100%}\n",
              "    .wandb-row { display: flex; flex-direction: row; flex-wrap: wrap; justify-content: flex-start; width: 100% }\n",
              "    .wandb-col { display: flex; flex-direction: column; flex-basis: 100%; flex: 1; padding: 10px; }\n",
              "    </style>\n",
              "<div class=\"wandb-row\"><div class=\"wandb-col\"><h3>Run history:</h3><br/><table class=\"wandb\"><tr><td>accuracy</td><td>▁▅▆▆▆▆▇▇▇▇▇▇▇▇▇▇███████████████████████▇</td></tr><tr><td>epoch</td><td>▁▁▁▂▂▂▂▂▂▃▃▃▃▃▃▄▄▄▄▄▅▅▅▅▅▅▆▆▆▆▆▆▇▇▇▇▇███</td></tr><tr><td>epochs</td><td>▁</td></tr><tr><td>loss</td><td>█▄▃▃▂▂▂▂▂▂▂▂▂▁▁▁▁▁▁▁▁▁▁▁▁▁▁▁▁▁▁▁▁▁▁▁▁▁▁▂</td></tr><tr><td>val_accuracy</td><td>▁▃▅▆▆▆▆▇▆█▆▆▆▆▆▇▆▆▆█▇▅▆▆▆▅▇▇▆▇▅▆▆▆▅▆▆▆▅▆</td></tr><tr><td>val_loss</td><td>█▆▄▄▄▄▃▃▃▂▃▂▂▃▂▂▂▂▂▁▂▂▂▂▂▃▂▁▂▁▂▂▂▂▂▂▁▂▂▂</td></tr></table><br/></div><div class=\"wandb-col\"><h3>Run summary:</h3><br/><table class=\"wandb\"><tr><td>accuracy</td><td>0.97962</td></tr><tr><td>best_epoch</td><td>34</td></tr><tr><td>best_val_loss</td><td>0.19558</td></tr><tr><td>epoch</td><td>69</td></tr><tr><td>epochs</td><td>70</td></tr><tr><td>loss</td><td>0.07722</td></tr><tr><td>val_accuracy</td><td>0.92211</td></tr><tr><td>val_loss</td><td>0.24844</td></tr></table><br/></div></div>"
            ]
          },
          "metadata": {}
        },
        {
          "output_type": "display_data",
          "data": {
            "text/plain": [
              "<IPython.core.display.HTML object>"
            ],
            "text/html": [
              "Synced <strong style=\"color:#cdcd00\">super-sweep-4</strong>: <a href=\"https://wandb.ai/basha/uncategorized/runs/e3qvkca6\" target=\"_blank\">https://wandb.ai/basha/uncategorized/runs/e3qvkca6</a><br/>Synced 5 W&B file(s), 1 media file(s), 0 artifact file(s) and 1 other file(s)"
            ]
          },
          "metadata": {}
        },
        {
          "output_type": "display_data",
          "data": {
            "text/plain": [
              "<IPython.core.display.HTML object>"
            ],
            "text/html": [
              "Find logs at: <code>./wandb/run-20220621_092532-e3qvkca6/logs</code>"
            ]
          },
          "metadata": {}
        },
        {
          "output_type": "stream",
          "name": "stderr",
          "text": [
            "\u001b[34m\u001b[1mwandb\u001b[0m: Agent Starting Run: 9f0qdebt with config:\n",
            "\u001b[34m\u001b[1mwandb\u001b[0m: \tepochs: 30\n",
            "\u001b[34m\u001b[1mwandb\u001b[0m: \tlearning_rate: 0.0018749902570955467\n",
            "\u001b[34m\u001b[1mwandb\u001b[0m: \u001b[33mWARNING\u001b[0m Ignored wandb.init() arg project when running a sweep.\n"
          ]
        },
        {
          "output_type": "display_data",
          "data": {
            "text/plain": [
              "<IPython.core.display.HTML object>"
            ],
            "text/html": [
              "Tracking run with wandb version 0.12.18"
            ]
          },
          "metadata": {}
        },
        {
          "output_type": "display_data",
          "data": {
            "text/plain": [
              "<IPython.core.display.HTML object>"
            ],
            "text/html": [
              "Run data is saved locally in <code>/content/wandb/run-20220621_093210-9f0qdebt</code>"
            ]
          },
          "metadata": {}
        },
        {
          "output_type": "display_data",
          "data": {
            "text/plain": [
              "<IPython.core.display.HTML object>"
            ],
            "text/html": [
              "Syncing run <strong><a href=\"https://wandb.ai/basha/uncategorized/runs/9f0qdebt\" target=\"_blank\">faithful-sweep-5</a></strong> to <a href=\"https://wandb.ai/basha/uncategorized\" target=\"_blank\">Weights & Biases</a> (<a href=\"https://wandb.me/run\" target=\"_blank\">docs</a>)<br/>Sweep page:  <a href=\"https://wandb.ai/basha/uncategorized/sweeps/vci8w3gj\" target=\"_blank\">https://wandb.ai/basha/uncategorized/sweeps/vci8w3gj</a>"
            ]
          },
          "metadata": {}
        },
        {
          "output_type": "stream",
          "name": "stdout",
          "text": [
            "Epoch 1/30\n",
            "1719/1719 [==============================] - 6s 3ms/step - loss: 1.3448 - accuracy: 0.6815 - val_loss: 0.8328 - val_accuracy: 0.8348 - _timestamp: 1655803937.0000 - _runtime: 7.0000\n",
            "Epoch 2/30\n",
            "1719/1719 [==============================] - 5s 3ms/step - loss: 0.5588 - accuracy: 0.8665 - val_loss: 0.5610 - val_accuracy: 0.8748 - _timestamp: 1655803943.0000 - _runtime: 13.0000\n",
            "Epoch 3/30\n",
            "1719/1719 [==============================] - 5s 3ms/step - loss: 0.4217 - accuracy: 0.8882 - val_loss: 0.4739 - val_accuracy: 0.8854 - _timestamp: 1655803948.0000 - _runtime: 18.0000\n",
            "Epoch 4/30\n",
            "1719/1719 [==============================] - 5s 3ms/step - loss: 0.3677 - accuracy: 0.8985 - val_loss: 0.4538 - val_accuracy: 0.8860 - _timestamp: 1655803953.0000 - _runtime: 23.0000\n",
            "Epoch 5/30\n",
            "1719/1719 [==============================] - 6s 3ms/step - loss: 0.3365 - accuracy: 0.9053 - val_loss: 0.4173 - val_accuracy: 0.8928 - _timestamp: 1655803959.0000 - _runtime: 29.0000\n",
            "Epoch 6/30\n",
            "1719/1719 [==============================] - 6s 3ms/step - loss: 0.3149 - accuracy: 0.9114 - val_loss: 0.3988 - val_accuracy: 0.8978 - _timestamp: 1655803965.0000 - _runtime: 35.0000\n",
            "Epoch 7/30\n",
            "1719/1719 [==============================] - 6s 3ms/step - loss: 0.2981 - accuracy: 0.9155 - val_loss: 0.3869 - val_accuracy: 0.9008 - _timestamp: 1655803970.0000 - _runtime: 40.0000\n",
            "Epoch 8/30\n",
            "1719/1719 [==============================] - 5s 3ms/step - loss: 0.2844 - accuracy: 0.9194 - val_loss: 0.3933 - val_accuracy: 0.8976 - _timestamp: 1655803976.0000 - _runtime: 46.0000\n",
            "Epoch 9/30\n",
            "1719/1719 [==============================] - 6s 3ms/step - loss: 0.2725 - accuracy: 0.9231 - val_loss: 0.3749 - val_accuracy: 0.9024 - _timestamp: 1655803981.0000 - _runtime: 51.0000\n",
            "Epoch 10/30\n",
            "1719/1719 [==============================] - 6s 3ms/step - loss: 0.2623 - accuracy: 0.9264 - val_loss: 0.3637 - val_accuracy: 0.9024 - _timestamp: 1655803987.0000 - _runtime: 57.0000\n",
            "Epoch 11/30\n",
            "1719/1719 [==============================] - 6s 3ms/step - loss: 0.2528 - accuracy: 0.9290 - val_loss: 0.3767 - val_accuracy: 0.8994 - _timestamp: 1655803992.0000 - _runtime: 62.0000\n",
            "Epoch 12/30\n",
            "1719/1719 [==============================] - 5s 3ms/step - loss: 0.2442 - accuracy: 0.9315 - val_loss: 0.3542 - val_accuracy: 0.9048 - _timestamp: 1655803998.0000 - _runtime: 68.0000\n",
            "Epoch 13/30\n",
            "1719/1719 [==============================] - 5s 3ms/step - loss: 0.2364 - accuracy: 0.9334 - val_loss: 0.3466 - val_accuracy: 0.9064 - _timestamp: 1655804003.0000 - _runtime: 73.0000\n",
            "Epoch 14/30\n",
            "1719/1719 [==============================] - 5s 3ms/step - loss: 0.2289 - accuracy: 0.9356 - val_loss: 0.3426 - val_accuracy: 0.9082 - _timestamp: 1655804009.0000 - _runtime: 79.0000\n",
            "Epoch 15/30\n",
            "1719/1719 [==============================] - 5s 3ms/step - loss: 0.2220 - accuracy: 0.9376 - val_loss: 0.3545 - val_accuracy: 0.9044 - _timestamp: 1655804014.0000 - _runtime: 84.0000\n",
            "Epoch 16/30\n",
            "1719/1719 [==============================] - 5s 3ms/step - loss: 0.2158 - accuracy: 0.9393 - val_loss: 0.3430 - val_accuracy: 0.9056 - _timestamp: 1655804020.0000 - _runtime: 90.0000\n",
            "Epoch 17/30\n",
            "1719/1719 [==============================] - 5s 3ms/step - loss: 0.2097 - accuracy: 0.9416 - val_loss: 0.3201 - val_accuracy: 0.9132 - _timestamp: 1655804025.0000 - _runtime: 95.0000\n",
            "Epoch 18/30\n",
            "1719/1719 [==============================] - 5s 3ms/step - loss: 0.2040 - accuracy: 0.9433 - val_loss: 0.3398 - val_accuracy: 0.9086 - _timestamp: 1655804030.0000 - _runtime: 100.0000\n",
            "Epoch 19/30\n",
            "1719/1719 [==============================] - 5s 3ms/step - loss: 0.1986 - accuracy: 0.9446 - val_loss: 0.3226 - val_accuracy: 0.9116 - _timestamp: 1655804036.0000 - _runtime: 106.0000\n",
            "Epoch 20/30\n",
            "1719/1719 [==============================] - 6s 3ms/step - loss: 0.1934 - accuracy: 0.9458 - val_loss: 0.3174 - val_accuracy: 0.9140 - _timestamp: 1655804041.0000 - _runtime: 111.0000\n",
            "Epoch 21/30\n",
            "1719/1719 [==============================] - 5s 3ms/step - loss: 0.1886 - accuracy: 0.9468 - val_loss: 0.3250 - val_accuracy: 0.9108 - _timestamp: 1655804047.0000 - _runtime: 117.0000\n",
            "Epoch 22/30\n",
            "1719/1719 [==============================] - 6s 3ms/step - loss: 0.1839 - accuracy: 0.9485 - val_loss: 0.3190 - val_accuracy: 0.9134 - _timestamp: 1655804052.0000 - _runtime: 122.0000\n",
            "Epoch 23/30\n",
            "1719/1719 [==============================] - 5s 3ms/step - loss: 0.1793 - accuracy: 0.9496 - val_loss: 0.3222 - val_accuracy: 0.9100 - _timestamp: 1655804058.0000 - _runtime: 128.0000\n",
            "Epoch 24/30\n",
            "1719/1719 [==============================] - 5s 3ms/step - loss: 0.1750 - accuracy: 0.9510 - val_loss: 0.3126 - val_accuracy: 0.9158 - _timestamp: 1655804063.0000 - _runtime: 133.0000\n",
            "Epoch 25/30\n",
            "1719/1719 [==============================] - 6s 3ms/step - loss: 0.1709 - accuracy: 0.9523 - val_loss: 0.3110 - val_accuracy: 0.9154 - _timestamp: 1655804069.0000 - _runtime: 139.0000\n",
            "Epoch 26/30\n",
            "1719/1719 [==============================] - 6s 3ms/step - loss: 0.1670 - accuracy: 0.9533 - val_loss: 0.3168 - val_accuracy: 0.9142 - _timestamp: 1655804074.0000 - _runtime: 144.0000\n",
            "Epoch 27/30\n",
            "1719/1719 [==============================] - 6s 3ms/step - loss: 0.1633 - accuracy: 0.9544 - val_loss: 0.3266 - val_accuracy: 0.9080 - _timestamp: 1655804080.0000 - _runtime: 150.0000\n",
            "Epoch 28/30\n",
            "1719/1719 [==============================] - 5s 3ms/step - loss: 0.1597 - accuracy: 0.9558 - val_loss: 0.3035 - val_accuracy: 0.9166 - _timestamp: 1655804085.0000 - _runtime: 155.0000\n",
            "Epoch 29/30\n",
            "1719/1719 [==============================] - 5s 3ms/step - loss: 0.1561 - accuracy: 0.9563 - val_loss: 0.3081 - val_accuracy: 0.9128 - _timestamp: 1655804091.0000 - _runtime: 161.0000\n",
            "Epoch 30/30\n",
            "1719/1719 [==============================] - 6s 3ms/step - loss: 0.1528 - accuracy: 0.9579 - val_loss: 0.3019 - val_accuracy: 0.9172 - _timestamp: 1655804096.0000 - _runtime: 166.0000\n"
          ]
        },
        {
          "output_type": "display_data",
          "data": {
            "text/plain": [
              "<IPython.core.display.HTML object>"
            ],
            "text/html": [
              "Waiting for W&B process to finish... <strong style=\"color:green\">(success).</strong>"
            ]
          },
          "metadata": {}
        },
        {
          "output_type": "display_data",
          "data": {
            "text/plain": [
              "VBox(children=(Label(value='1.037 MB of 1.037 MB uploaded (0.000 MB deduped)\\r'), FloatProgress(value=1.0, max…"
            ],
            "application/vnd.jupyter.widget-view+json": {
              "version_major": 2,
              "version_minor": 0,
              "model_id": "f45726a810c648edb07bcf949209385f"
            }
          },
          "metadata": {}
        },
        {
          "output_type": "display_data",
          "data": {
            "text/plain": [
              "<IPython.core.display.HTML object>"
            ],
            "text/html": [
              "<style>\n",
              "    table.wandb td:nth-child(1) { padding: 0 10px; text-align: left ; width: auto;} td:nth-child(2) {text-align: left ; width: 100%}\n",
              "    .wandb-row { display: flex; flex-direction: row; flex-wrap: wrap; justify-content: flex-start; width: 100% }\n",
              "    .wandb-col { display: flex; flex-direction: column; flex-basis: 100%; flex: 1; padding: 10px; }\n",
              "    </style>\n",
              "<div class=\"wandb-row\"><div class=\"wandb-col\"><h3>Run history:</h3><br/><table class=\"wandb\"><tr><td>accuracy</td><td>▁▆▆▆▇▇▇▇▇▇▇▇▇▇▇███████████████▇</td></tr><tr><td>epoch</td><td>▁▁▁▂▂▂▂▃▃▃▃▄▄▄▄▅▅▅▅▆▆▆▆▇▇▇▇███</td></tr><tr><td>epochs</td><td>▁</td></tr><tr><td>loss</td><td>█▃▃▂▂▂▂▂▂▂▂▂▁▁▁▁▁▁▁▁▁▁▁▁▁▁▁▁▁▁▂</td></tr><tr><td>val_accuracy</td><td>▁▄▅▅▆▆▇▆▇▇▆▇▇▇▇▇█▇██▇█▇███▇███▇</td></tr><tr><td>val_loss</td><td>█▄▃▃▃▂▂▂▂▂▂▂▂▂▂▂▁▁▁▁▁▁▁▁▁▁▁▁▁▁▂</td></tr></table><br/></div><div class=\"wandb-col\"><h3>Run summary:</h3><br/><table class=\"wandb\"><tr><td>accuracy</td><td>0.92479</td></tr><tr><td>best_epoch</td><td>29</td></tr><tr><td>best_val_loss</td><td>0.3019</td></tr><tr><td>epoch</td><td>29</td></tr><tr><td>epochs</td><td>30</td></tr><tr><td>loss</td><td>0.2788</td></tr><tr><td>val_accuracy</td><td>0.90284</td></tr><tr><td>val_loss</td><td>0.37402</td></tr></table><br/></div></div>"
            ]
          },
          "metadata": {}
        },
        {
          "output_type": "display_data",
          "data": {
            "text/plain": [
              "<IPython.core.display.HTML object>"
            ],
            "text/html": [
              "Synced <strong style=\"color:#cdcd00\">faithful-sweep-5</strong>: <a href=\"https://wandb.ai/basha/uncategorized/runs/9f0qdebt\" target=\"_blank\">https://wandb.ai/basha/uncategorized/runs/9f0qdebt</a><br/>Synced 5 W&B file(s), 1 media file(s), 0 artifact file(s) and 1 other file(s)"
            ]
          },
          "metadata": {}
        },
        {
          "output_type": "display_data",
          "data": {
            "text/plain": [
              "<IPython.core.display.HTML object>"
            ],
            "text/html": [
              "Find logs at: <code>./wandb/run-20220621_093210-9f0qdebt/logs</code>"
            ]
          },
          "metadata": {}
        }
      ]
    },
    {
      "cell_type": "code",
      "source": [
        "wandb.finish()"
      ],
      "metadata": {
        "id": "Em2qGozVrIzz"
      },
      "execution_count": 14,
      "outputs": []
    },
    {
      "cell_type": "code",
      "source": [
        "\n",
        "# wandb.init()\n",
        "# config = wandb.config\n",
        "# model = make_model(config)"
      ],
      "metadata": {
        "id": "ccmjvsZHuML8"
      },
      "execution_count": 15,
      "outputs": []
    },
    {
      "cell_type": "code",
      "source": [
        "# history_loss = model.fit(X_train_norm,y_train_norm,validation_data=(X_valid_norm_noise,y_valid_norm),batch_size=32,epochs=2,callbacks=[WandbCallback()])"
      ],
      "metadata": {
        "id": "HH5g5p5iuqQ7"
      },
      "execution_count": 16,
      "outputs": []
    },
    {
      "cell_type": "code",
      "source": [
        "# sum(history_loss.history[\"loss\"])"
      ],
      "metadata": {
        "id": "b6Qt0KONu4jK"
      },
      "execution_count": 17,
      "outputs": []
    },
    {
      "cell_type": "code",
      "source": [
        "# wandb.log({\"loss\": (sum(history_loss.history[\"loss\"])) / len(history_loss.history[\"loss\"]) , \"epoch\": config.epochs})"
      ],
      "metadata": {
        "id": "fEXaCy4GwKyn"
      },
      "execution_count": 18,
      "outputs": []
    },
    {
      "cell_type": "code",
      "source": [
        "wandb.init()\n",
        "learning_rate_efficient = 0.0089\n",
        "model_best = keras.Sequential([\n",
        "        keras.layers.Flatten(input_shape=[28,28],name=\"input\"),\n",
        "        keras.layers.Dense(300,activation=\"relu\",name=\"hidden_1\"),\n",
        "        keras.layers.Dense(100,activation=\"relu\",name=\"hidden_2\"),\n",
        "        keras.layers.Dense(10,activation=\"softmax\",name=\"output\"),                  \n",
        "  ])\n",
        "model_best.compile(optimizer=keras.optimizers.SGD(learning_rate=learning_rate_efficient),metrics=\"accuracy\",loss=keras.losses.SparseCategoricalCrossentropy())\n",
        "\n",
        "        # print(config)\n",
        "        # for epoch in range(config[\"epochs\"]):\n",
        "            # loss = model.fit()  # your model training code here\n",
        "        # print(\"epoch \", epoch)\n",
        "history_best = model_best.fit(X_train_norm,y_train_norm,validation_data=(X_valid_norm_noise,y_valid_norm),batch_size=32,epochs=70,callbacks=[WandbCallback()])\n",
        "        "
      ],
      "metadata": {
        "colab": {
          "base_uri": "https://localhost:8080/",
          "height": 1000
        },
        "id": "qFmFcktBu3sf",
        "outputId": "b2dc4007-c141-42fa-b2c1-3d74c1b9e03c"
      },
      "execution_count": 21,
      "outputs": [
        {
          "output_type": "display_data",
          "data": {
            "text/plain": [
              "<IPython.core.display.HTML object>"
            ],
            "text/html": [
              "Changes to your `wandb` environment variables will be ignored because your `wandb` session has already started. For more information on how to modify your settings with `wandb.init()` arguments, please refer to <a href=\"https://wandb.me/wandb-init\" target=\"_blank\">the W&B docs</a>."
            ]
          },
          "metadata": {}
        },
        {
          "output_type": "display_data",
          "data": {
            "text/plain": [
              "<IPython.core.display.HTML object>"
            ],
            "text/html": [
              "Tracking run with wandb version 0.12.18"
            ]
          },
          "metadata": {}
        },
        {
          "output_type": "display_data",
          "data": {
            "text/plain": [
              "<IPython.core.display.HTML object>"
            ],
            "text/html": [
              "Run data is saved locally in <code>/content/wandb/run-20220621_101029-9f0qdebt</code>"
            ]
          },
          "metadata": {}
        },
        {
          "output_type": "display_data",
          "data": {
            "text/plain": [
              "<IPython.core.display.HTML object>"
            ],
            "text/html": [
              "Syncing run <strong><a href=\"https://wandb.ai/basha/uncategorized/runs/9f0qdebt\" target=\"_blank\">faithful-sweep-5</a></strong> to <a href=\"https://wandb.ai/basha/uncategorized\" target=\"_blank\">Weights & Biases</a> (<a href=\"https://wandb.me/run\" target=\"_blank\">docs</a>)<br/>Sweep page:  <a href=\"https://wandb.ai/basha/uncategorized/sweeps/vci8w3gj\" target=\"_blank\">https://wandb.ai/basha/uncategorized/sweeps/vci8w3gj</a>"
            ]
          },
          "metadata": {}
        },
        {
          "output_type": "stream",
          "name": "stdout",
          "text": [
            "Epoch 1/70\n",
            "1719/1719 [==============================] - 6s 3ms/step - loss: 0.6499 - accuracy: 0.8347 - val_loss: 0.3917 - val_accuracy: 0.9022 - _timestamp: 1655806238.0000 - _runtime: 8.0000\n",
            "Epoch 2/70\n",
            "1719/1719 [==============================] - 5s 3ms/step - loss: 0.2956 - accuracy: 0.9170 - val_loss: 0.3353 - val_accuracy: 0.9156 - _timestamp: 1655806243.0000 - _runtime: 13.0000\n",
            "Epoch 3/70\n",
            "1719/1719 [==============================] - 5s 3ms/step - loss: 0.2432 - accuracy: 0.9316 - val_loss: 0.2956 - val_accuracy: 0.9256 - _timestamp: 1655806248.0000 - _runtime: 18.0000\n",
            "Epoch 4/70\n",
            "1719/1719 [==============================] - 5s 3ms/step - loss: 0.2093 - accuracy: 0.9405 - val_loss: 0.3054 - val_accuracy: 0.9192 - _timestamp: 1655806253.0000 - _runtime: 23.0000\n",
            "Epoch 5/70\n",
            "1719/1719 [==============================] - 5s 3ms/step - loss: 0.1837 - accuracy: 0.9477 - val_loss: 0.2722 - val_accuracy: 0.9324 - _timestamp: 1655806259.0000 - _runtime: 29.0000\n",
            "Epoch 6/70\n",
            "1719/1719 [==============================] - 5s 3ms/step - loss: 0.1628 - accuracy: 0.9537 - val_loss: 0.2707 - val_accuracy: 0.9264 - _timestamp: 1655806264.0000 - _runtime: 34.0000\n",
            "Epoch 7/70\n",
            "1719/1719 [==============================] - 6s 4ms/step - loss: 0.1463 - accuracy: 0.9581 - val_loss: 0.2564 - val_accuracy: 0.9298 - _timestamp: 1655806271.0000 - _runtime: 41.0000\n",
            "Epoch 8/70\n",
            "1719/1719 [==============================] - 5s 3ms/step - loss: 0.1326 - accuracy: 0.9624 - val_loss: 0.2456 - val_accuracy: 0.9336 - _timestamp: 1655806276.0000 - _runtime: 46.0000\n",
            "Epoch 9/70\n",
            "1719/1719 [==============================] - 5s 3ms/step - loss: 0.1208 - accuracy: 0.9660 - val_loss: 0.2688 - val_accuracy: 0.9212 - _timestamp: 1655806281.0000 - _runtime: 51.0000\n",
            "Epoch 10/70\n",
            "1719/1719 [==============================] - 5s 3ms/step - loss: 0.1112 - accuracy: 0.9688 - val_loss: 0.2282 - val_accuracy: 0.9366 - _timestamp: 1655806286.0000 - _runtime: 56.0000\n",
            "Epoch 11/70\n",
            "1719/1719 [==============================] - 5s 3ms/step - loss: 0.1024 - accuracy: 0.9715 - val_loss: 0.2263 - val_accuracy: 0.9338 - _timestamp: 1655806292.0000 - _runtime: 62.0000\n",
            "Epoch 12/70\n",
            "1719/1719 [==============================] - 5s 3ms/step - loss: 0.0950 - accuracy: 0.9732 - val_loss: 0.2248 - val_accuracy: 0.9316 - _timestamp: 1655806297.0000 - _runtime: 67.0000\n",
            "Epoch 13/70\n",
            "1719/1719 [==============================] - 5s 3ms/step - loss: 0.0885 - accuracy: 0.9752 - val_loss: 0.2276 - val_accuracy: 0.9292 - _timestamp: 1655806302.0000 - _runtime: 72.0000\n",
            "Epoch 14/70\n",
            "1719/1719 [==============================] - 6s 3ms/step - loss: 0.0824 - accuracy: 0.9768 - val_loss: 0.2341 - val_accuracy: 0.9272 - _timestamp: 1655806308.0000 - _runtime: 78.0000\n",
            "Epoch 15/70\n",
            "1719/1719 [==============================] - 5s 3ms/step - loss: 0.0771 - accuracy: 0.9787 - val_loss: 0.2146 - val_accuracy: 0.9326 - _timestamp: 1655806313.0000 - _runtime: 83.0000\n",
            "Epoch 16/70\n",
            "1719/1719 [==============================] - 5s 3ms/step - loss: 0.0723 - accuracy: 0.9799 - val_loss: 0.2115 - val_accuracy: 0.9322 - _timestamp: 1655806319.0000 - _runtime: 89.0000\n",
            "Epoch 17/70\n",
            "1719/1719 [==============================] - 5s 3ms/step - loss: 0.0680 - accuracy: 0.9807 - val_loss: 0.2126 - val_accuracy: 0.9302 - _timestamp: 1655806324.0000 - _runtime: 94.0000\n",
            "Epoch 18/70\n",
            "1719/1719 [==============================] - 5s 3ms/step - loss: 0.0638 - accuracy: 0.9825 - val_loss: 0.2022 - val_accuracy: 0.9364 - _timestamp: 1655806329.0000 - _runtime: 99.0000\n",
            "Epoch 19/70\n",
            "1719/1719 [==============================] - 5s 3ms/step - loss: 0.0602 - accuracy: 0.9835 - val_loss: 0.2313 - val_accuracy: 0.9246 - _timestamp: 1655806335.0000 - _runtime: 105.0000\n",
            "Epoch 20/70\n",
            "1719/1719 [==============================] - 5s 3ms/step - loss: 0.0568 - accuracy: 0.9843 - val_loss: 0.2356 - val_accuracy: 0.9208 - _timestamp: 1655806340.0000 - _runtime: 110.0000\n",
            "Epoch 21/70\n",
            "1719/1719 [==============================] - 5s 3ms/step - loss: 0.0536 - accuracy: 0.9855 - val_loss: 0.2292 - val_accuracy: 0.9228 - _timestamp: 1655806345.0000 - _runtime: 115.0000\n",
            "Epoch 22/70\n",
            "1719/1719 [==============================] - 5s 3ms/step - loss: 0.0503 - accuracy: 0.9865 - val_loss: 0.1970 - val_accuracy: 0.9376 - _timestamp: 1655806351.0000 - _runtime: 121.0000\n",
            "Epoch 23/70\n",
            "1719/1719 [==============================] - 5s 3ms/step - loss: 0.0480 - accuracy: 0.9873 - val_loss: 0.2443 - val_accuracy: 0.9148 - _timestamp: 1655806356.0000 - _runtime: 126.0000\n",
            "Epoch 24/70\n",
            "1719/1719 [==============================] - 5s 3ms/step - loss: 0.0453 - accuracy: 0.9880 - val_loss: 0.2047 - val_accuracy: 0.9348 - _timestamp: 1655806361.0000 - _runtime: 131.0000\n",
            "Epoch 25/70\n",
            "1719/1719 [==============================] - 5s 3ms/step - loss: 0.0431 - accuracy: 0.9887 - val_loss: 0.2053 - val_accuracy: 0.9316 - _timestamp: 1655806367.0000 - _runtime: 137.0000\n",
            "Epoch 26/70\n",
            "1719/1719 [==============================] - 5s 3ms/step - loss: 0.0404 - accuracy: 0.9898 - val_loss: 0.2339 - val_accuracy: 0.9176 - _timestamp: 1655806372.0000 - _runtime: 142.0000\n",
            "Epoch 27/70\n",
            "1719/1719 [==============================] - 5s 3ms/step - loss: 0.0387 - accuracy: 0.9901 - val_loss: 0.2126 - val_accuracy: 0.9242 - _timestamp: 1655806377.0000 - _runtime: 147.0000\n",
            "Epoch 28/70\n",
            "1719/1719 [==============================] - 5s 3ms/step - loss: 0.0367 - accuracy: 0.9908 - val_loss: 0.2314 - val_accuracy: 0.9190 - _timestamp: 1655806383.0000 - _runtime: 153.0000\n",
            "Epoch 29/70\n",
            "1719/1719 [==============================] - 5s 3ms/step - loss: 0.0349 - accuracy: 0.9913 - val_loss: 0.2277 - val_accuracy: 0.9220 - _timestamp: 1655806388.0000 - _runtime: 158.0000\n",
            "Epoch 30/70\n",
            "1719/1719 [==============================] - 5s 3ms/step - loss: 0.0328 - accuracy: 0.9921 - val_loss: 0.2156 - val_accuracy: 0.9234 - _timestamp: 1655806393.0000 - _runtime: 163.0000\n",
            "Epoch 31/70\n",
            "1719/1719 [==============================] - 5s 3ms/step - loss: 0.0315 - accuracy: 0.9923 - val_loss: 0.2108 - val_accuracy: 0.9282 - _timestamp: 1655806399.0000 - _runtime: 169.0000\n",
            "Epoch 32/70\n",
            "1719/1719 [==============================] - 5s 3ms/step - loss: 0.0299 - accuracy: 0.9930 - val_loss: 0.2252 - val_accuracy: 0.9210 - _timestamp: 1655806404.0000 - _runtime: 174.0000\n",
            "Epoch 33/70\n",
            "1719/1719 [==============================] - 5s 3ms/step - loss: 0.0286 - accuracy: 0.9936 - val_loss: 0.1759 - val_accuracy: 0.9404 - _timestamp: 1655806410.0000 - _runtime: 180.0000\n",
            "Epoch 34/70\n",
            "1719/1719 [==============================] - 6s 3ms/step - loss: 0.0271 - accuracy: 0.9939 - val_loss: 0.2366 - val_accuracy: 0.9172 - _timestamp: 1655806415.0000 - _runtime: 185.0000\n",
            "Epoch 35/70\n",
            "1719/1719 [==============================] - 5s 3ms/step - loss: 0.0256 - accuracy: 0.9949 - val_loss: 0.2082 - val_accuracy: 0.9270 - _timestamp: 1655806421.0000 - _runtime: 191.0000\n",
            "Epoch 36/70\n",
            "1719/1719 [==============================] - 5s 3ms/step - loss: 0.0245 - accuracy: 0.9948 - val_loss: 0.2063 - val_accuracy: 0.9300 - _timestamp: 1655806426.0000 - _runtime: 196.0000\n",
            "Epoch 37/70\n",
            "1719/1719 [==============================] - 6s 3ms/step - loss: 0.0233 - accuracy: 0.9954 - val_loss: 0.2025 - val_accuracy: 0.9304 - _timestamp: 1655806432.0000 - _runtime: 202.0000\n",
            "Epoch 38/70\n",
            "1719/1719 [==============================] - 5s 3ms/step - loss: 0.0223 - accuracy: 0.9958 - val_loss: 0.2415 - val_accuracy: 0.9130 - _timestamp: 1655806437.0000 - _runtime: 207.0000\n",
            "Epoch 39/70\n",
            "1719/1719 [==============================] - 5s 3ms/step - loss: 0.0211 - accuracy: 0.9960 - val_loss: 0.2728 - val_accuracy: 0.9028 - _timestamp: 1655806443.0000 - _runtime: 213.0000\n",
            "Epoch 40/70\n",
            "1719/1719 [==============================] - 6s 3ms/step - loss: 0.0203 - accuracy: 0.9961 - val_loss: 0.2566 - val_accuracy: 0.9054 - _timestamp: 1655806448.0000 - _runtime: 218.0000\n",
            "Epoch 41/70\n",
            "1719/1719 [==============================] - 6s 3ms/step - loss: 0.0192 - accuracy: 0.9967 - val_loss: 0.2488 - val_accuracy: 0.9130 - _timestamp: 1655806454.0000 - _runtime: 224.0000\n",
            "Epoch 42/70\n",
            "1719/1719 [==============================] - 5s 3ms/step - loss: 0.0184 - accuracy: 0.9969 - val_loss: 0.2114 - val_accuracy: 0.9250 - _timestamp: 1655806459.0000 - _runtime: 229.0000\n",
            "Epoch 43/70\n",
            "1719/1719 [==============================] - 6s 3ms/step - loss: 0.0177 - accuracy: 0.9972 - val_loss: 0.2217 - val_accuracy: 0.9222 - _timestamp: 1655806465.0000 - _runtime: 235.0000\n",
            "Epoch 44/70\n",
            "1719/1719 [==============================] - 5s 3ms/step - loss: 0.0168 - accuracy: 0.9975 - val_loss: 0.2176 - val_accuracy: 0.9252 - _timestamp: 1655806470.0000 - _runtime: 240.0000\n",
            "Epoch 45/70\n",
            "1719/1719 [==============================] - 5s 3ms/step - loss: 0.0161 - accuracy: 0.9975 - val_loss: 0.2221 - val_accuracy: 0.9214 - _timestamp: 1655806476.0000 - _runtime: 246.0000\n",
            "Epoch 46/70\n",
            "1719/1719 [==============================] - 5s 3ms/step - loss: 0.0154 - accuracy: 0.9977 - val_loss: 0.2108 - val_accuracy: 0.9272 - _timestamp: 1655806481.0000 - _runtime: 251.0000\n",
            "Epoch 47/70\n",
            "1719/1719 [==============================] - 5s 3ms/step - loss: 0.0147 - accuracy: 0.9980 - val_loss: 0.2262 - val_accuracy: 0.9190 - _timestamp: 1655806486.0000 - _runtime: 256.0000\n",
            "Epoch 48/70\n",
            "1719/1719 [==============================] - 6s 3ms/step - loss: 0.0140 - accuracy: 0.9983 - val_loss: 0.2300 - val_accuracy: 0.9180 - _timestamp: 1655806492.0000 - _runtime: 262.0000\n",
            "Epoch 49/70\n",
            "1719/1719 [==============================] - 5s 3ms/step - loss: 0.0134 - accuracy: 0.9982 - val_loss: 0.2255 - val_accuracy: 0.9198 - _timestamp: 1655806497.0000 - _runtime: 267.0000\n",
            "Epoch 50/70\n",
            "1719/1719 [==============================] - 6s 3ms/step - loss: 0.0129 - accuracy: 0.9985 - val_loss: 0.2478 - val_accuracy: 0.9124 - _timestamp: 1655806503.0000 - _runtime: 273.0000\n",
            "Epoch 51/70\n",
            "1719/1719 [==============================] - 5s 3ms/step - loss: 0.0123 - accuracy: 0.9986 - val_loss: 0.2356 - val_accuracy: 0.9158 - _timestamp: 1655806508.0000 - _runtime: 278.0000\n",
            "Epoch 52/70\n",
            "1719/1719 [==============================] - 5s 3ms/step - loss: 0.0117 - accuracy: 0.9989 - val_loss: 0.2392 - val_accuracy: 0.9166 - _timestamp: 1655806514.0000 - _runtime: 284.0000\n",
            "Epoch 53/70\n",
            "1719/1719 [==============================] - 5s 3ms/step - loss: 0.0114 - accuracy: 0.9989 - val_loss: 0.2408 - val_accuracy: 0.9166 - _timestamp: 1655806519.0000 - _runtime: 289.0000\n",
            "Epoch 54/70\n",
            "1719/1719 [==============================] - 5s 3ms/step - loss: 0.0109 - accuracy: 0.9989 - val_loss: 0.2379 - val_accuracy: 0.9162 - _timestamp: 1655806525.0000 - _runtime: 295.0000\n",
            "Epoch 55/70\n",
            "1719/1719 [==============================] - 5s 3ms/step - loss: 0.0104 - accuracy: 0.9989 - val_loss: 0.2369 - val_accuracy: 0.9168 - _timestamp: 1655806530.0000 - _runtime: 300.0000\n",
            "Epoch 56/70\n",
            "1719/1719 [==============================] - 5s 3ms/step - loss: 0.0100 - accuracy: 0.9991 - val_loss: 0.2398 - val_accuracy: 0.9150 - _timestamp: 1655806536.0000 - _runtime: 306.0000\n",
            "Epoch 57/70\n",
            "1719/1719 [==============================] - 6s 3ms/step - loss: 0.0097 - accuracy: 0.9991 - val_loss: 0.2480 - val_accuracy: 0.9120 - _timestamp: 1655806541.0000 - _runtime: 311.0000\n",
            "Epoch 58/70\n",
            "1719/1719 [==============================] - 6s 3ms/step - loss: 0.0093 - accuracy: 0.9991 - val_loss: 0.2511 - val_accuracy: 0.9132 - _timestamp: 1655806547.0000 - _runtime: 317.0000\n",
            "Epoch 59/70\n",
            "1719/1719 [==============================] - 5s 3ms/step - loss: 0.0089 - accuracy: 0.9992 - val_loss: 0.2402 - val_accuracy: 0.9178 - _timestamp: 1655806552.0000 - _runtime: 322.0000\n",
            "Epoch 60/70\n",
            "1719/1719 [==============================] - 6s 4ms/step - loss: 0.0085 - accuracy: 0.9994 - val_loss: 0.2551 - val_accuracy: 0.9132 - _timestamp: 1655806559.0000 - _runtime: 329.0000\n",
            "Epoch 61/70\n",
            "1719/1719 [==============================] - 6s 3ms/step - loss: 0.0082 - accuracy: 0.9994 - val_loss: 0.2441 - val_accuracy: 0.9164 - _timestamp: 1655806565.0000 - _runtime: 335.0000\n",
            "Epoch 62/70\n",
            "1719/1719 [==============================] - 6s 3ms/step - loss: 0.0079 - accuracy: 0.9994 - val_loss: 0.2706 - val_accuracy: 0.9088 - _timestamp: 1655806570.0000 - _runtime: 340.0000\n",
            "Epoch 63/70\n",
            "1719/1719 [==============================] - 6s 3ms/step - loss: 0.0076 - accuracy: 0.9995 - val_loss: 0.2769 - val_accuracy: 0.9066 - _timestamp: 1655806576.0000 - _runtime: 346.0000\n",
            "Epoch 64/70\n",
            "1719/1719 [==============================] - 6s 3ms/step - loss: 0.0073 - accuracy: 0.9995 - val_loss: 0.2380 - val_accuracy: 0.9200 - _timestamp: 1655806581.0000 - _runtime: 351.0000\n",
            "Epoch 65/70\n",
            "1719/1719 [==============================] - 5s 3ms/step - loss: 0.0071 - accuracy: 0.9995 - val_loss: 0.2596 - val_accuracy: 0.9122 - _timestamp: 1655806587.0000 - _runtime: 357.0000\n",
            "Epoch 66/70\n",
            "1719/1719 [==============================] - 5s 3ms/step - loss: 0.0069 - accuracy: 0.9995 - val_loss: 0.2397 - val_accuracy: 0.9208 - _timestamp: 1655806592.0000 - _runtime: 362.0000\n",
            "Epoch 67/70\n",
            "1719/1719 [==============================] - 6s 3ms/step - loss: 0.0065 - accuracy: 0.9997 - val_loss: 0.2592 - val_accuracy: 0.9120 - _timestamp: 1655806598.0000 - _runtime: 368.0000\n",
            "Epoch 68/70\n",
            "1719/1719 [==============================] - 5s 3ms/step - loss: 0.0063 - accuracy: 0.9997 - val_loss: 0.2395 - val_accuracy: 0.9222 - _timestamp: 1655806603.0000 - _runtime: 373.0000\n",
            "Epoch 69/70\n",
            "1719/1719 [==============================] - 6s 3ms/step - loss: 0.0062 - accuracy: 0.9996 - val_loss: 0.2284 - val_accuracy: 0.9236 - _timestamp: 1655806609.0000 - _runtime: 379.0000\n",
            "Epoch 70/70\n",
            "1719/1719 [==============================] - 6s 3ms/step - loss: 0.0059 - accuracy: 0.9997 - val_loss: 0.2486 - val_accuracy: 0.9174 - _timestamp: 1655806615.0000 - _runtime: 385.0000\n"
          ]
        }
      ]
    },
    {
      "cell_type": "code",
      "source": [
        "model_best.evaluate(X_train,y_train)"
      ],
      "metadata": {
        "colab": {
          "base_uri": "https://localhost:8080/"
        },
        "id": "suOgJenWx2JK",
        "outputId": "219d6e0c-4fc7-45d4-f2e9-3e80bb5e86c4"
      },
      "execution_count": 41,
      "outputs": [
        {
          "output_type": "stream",
          "name": "stdout",
          "text": [
            "1875/1875 [==============================] - 5s 2ms/step - loss: 2.2915 - accuracy: 0.9944\n"
          ]
        },
        {
          "output_type": "execute_result",
          "data": {
            "text/plain": [
              "[2.2915163040161133, 0.994350016117096]"
            ]
          },
          "metadata": {},
          "execution_count": 41
        }
      ]
    },
    {
      "cell_type": "code",
      "source": [
        "predict_whole_data =  model_best.predict(X_train)\n",
        "predict_whole_data_class = tf.argmax(predict_whole_data,1)"
      ],
      "metadata": {
        "id": "0ZldwQir1Cif"
      },
      "execution_count": 42,
      "outputs": []
    },
    {
      "cell_type": "code",
      "source": [
        "from sklearn.metrics import confusion_matrix\n",
        "confusion_matrix(predict_whole_data_class,y_train)"
      ],
      "metadata": {
        "colab": {
          "base_uri": "https://localhost:8080/"
        },
        "id": "G2_49oE_1FHi",
        "outputId": "bf683dd6-7bce-4ae4-acd1-dd061ef86e81"
      },
      "execution_count": 44,
      "outputs": [
        {
          "output_type": "execute_result",
          "data": {
            "text/plain": [
              "array([[5920,    0,    0,    0,    0,    0,    4,    0,   16,    5],\n",
              "       [   1, 6735,    5,    0,    2,    1,    5,    4,   61,    7],\n",
              "       [   0,    0, 5947,    2,    2,    1,    1,    2,   29,    1],\n",
              "       [   2,    3,    4, 6123,    1,   11,    0,    1,   84,   16],\n",
              "       [   0,    2,    1,    0, 5833,    0,    1,    1,    2,    6],\n",
              "       [   0,    0,    0,    2,    0, 5403,    0,    1,    5,    0],\n",
              "       [   0,    1,    0,    0,    2,    2, 5907,    0,    5,    1],\n",
              "       [   0,    1,    1,    3,    1,    1,    0, 6254,    4,   16],\n",
              "       [   0,    0,    0,    0,    0,    1,    0,    0, 5642,    0],\n",
              "       [   0,    0,    0,    1,    1,    1,    0,    2,    3, 5897]])"
            ]
          },
          "metadata": {},
          "execution_count": 44
        }
      ]
    },
    {
      "cell_type": "code",
      "source": [
        "model_best.evaluate(X_valid_norm,y_valid_norm)"
      ],
      "metadata": {
        "colab": {
          "base_uri": "https://localhost:8080/"
        },
        "id": "9lG55v8XyPox",
        "outputId": "3415072a-cf7b-4bed-dd97-d9e34bff8114"
      },
      "execution_count": 45,
      "outputs": [
        {
          "output_type": "stream",
          "name": "stdout",
          "text": [
            "157/157 [==============================] - 0s 2ms/step - loss: 0.0700 - accuracy: 0.9816\n"
          ]
        },
        {
          "output_type": "execute_result",
          "data": {
            "text/plain": [
              "[0.07001801580190659, 0.9815999865531921]"
            ]
          },
          "metadata": {},
          "execution_count": 45
        }
      ]
    },
    {
      "cell_type": "code",
      "source": [
        "predict_without_noise_data =  model_best.predict(X_valid_norm)\n",
        "predict_without_noise_data_class = tf.argmax(predict_without_noise_data,1)"
      ],
      "metadata": {
        "id": "Z6vIb9Qs1NpR"
      },
      "execution_count": 46,
      "outputs": []
    },
    {
      "cell_type": "code",
      "source": [
        "confusion_matrix(predict_without_noise_data_class,y_valid_norm)"
      ],
      "metadata": {
        "colab": {
          "base_uri": "https://localhost:8080/"
        },
        "id": "WVib0nN81Wmd",
        "outputId": "9a20ac0d-0eae-4d90-e457-9a4ed72c2563"
      },
      "execution_count": 48,
      "outputs": [
        {
          "output_type": "execute_result",
          "data": {
            "text/plain": [
              "array([[473,   0,   0,   0,   0,   0,   1,   0,   1,   1],\n",
              "       [  0, 557,   5,   0,   0,   1,   1,   0,   3,   1],\n",
              "       [  0,   1, 475,   2,   1,   1,   1,   2,   0,   1],\n",
              "       [  0,   2,   3, 480,   1,   3,   0,   0,   2,   4],\n",
              "       [  0,   0,   1,   0, 530,   0,   1,   1,   0,   2],\n",
              "       [  2,   0,   0,   4,   0, 425,   1,   1,   3,   0],\n",
              "       [  1,   1,   1,   0,   2,   2, 495,   0,   1,   1],\n",
              "       [  2,   0,   1,   3,   0,   1,   0, 543,   0,   5],\n",
              "       [  1,   1,   2,   2,   0,   1,   1,   0, 451,   1],\n",
              "       [  0,   1,   0,   2,   1,   0,   0,   3,   1, 479]])"
            ]
          },
          "metadata": {},
          "execution_count": 48
        }
      ]
    },
    {
      "cell_type": "code",
      "source": [
        "model_best.evaluate(X_valid_norm,y_valid_norm)"
      ],
      "metadata": {
        "colab": {
          "base_uri": "https://localhost:8080/"
        },
        "id": "7raRSB6HyaKf",
        "outputId": "53aab810-803d-4ce2-a5ed-3a1bf0de329e"
      },
      "execution_count": 93,
      "outputs": [
        {
          "output_type": "stream",
          "name": "stdout",
          "text": [
            "157/157 [==============================] - 1s 4ms/step - loss: 0.0700 - accuracy: 0.9816\n"
          ]
        },
        {
          "output_type": "execute_result",
          "data": {
            "text/plain": [
              "[0.07001801580190659, 0.9815999865531921]"
            ]
          },
          "metadata": {},
          "execution_count": 93
        }
      ]
    },
    {
      "cell_type": "code",
      "source": [
        "predict_noise_data = model_best.predict(X_valid_norm_noise)"
      ],
      "metadata": {
        "id": "xofb1R-lyqEZ"
      },
      "execution_count": 50,
      "outputs": []
    },
    {
      "cell_type": "code",
      "source": [
        "predict_noise_class = tf.argmax(predict_noise_data,1)"
      ],
      "metadata": {
        "id": "nz96wacYyxjg"
      },
      "execution_count": 51,
      "outputs": []
    },
    {
      "cell_type": "code",
      "source": [
        "print(predict_noise_class == y_valid_norm)"
      ],
      "metadata": {
        "colab": {
          "base_uri": "https://localhost:8080/"
        },
        "id": "htSep9ORzIFI",
        "outputId": "99ef8333-7ece-4cbf-f71f-838822ac4ade"
      },
      "execution_count": 52,
      "outputs": [
        {
          "output_type": "stream",
          "name": "stdout",
          "text": [
            "tf.Tensor([ True  True  True ...  True False  True], shape=(5000,), dtype=bool)\n"
          ]
        }
      ]
    },
    {
      "cell_type": "code",
      "source": [
        " confusion_matrix(predict_noise_class,y_valid_norm)\n",
        " #from this matrix we can come to the conclusion that model is failed to predict Number 8 class, either we need more data or create some complex model to predict it\n",
        " #this confusion matrix is based on noise data, w/o noise it is able to predict most of the classes correctly"
      ],
      "metadata": {
        "colab": {
          "base_uri": "https://localhost:8080/"
        },
        "id": "JG9NJzKJ0DvK",
        "outputId": "ae840258-6ae7-4621-db30-bbf488ac8290"
      },
      "execution_count": 53,
      "outputs": [
        {
          "output_type": "execute_result",
          "data": {
            "text/plain": [
              "array([[469,   0,   1,   0,   0,   0,   1,   1,   0,   1],\n",
              "       [  0, 423,   2,   0,   1,   0,   0,   0,   1,   1],\n",
              "       [  0,   6, 461,   3,   4,   2,   2,   6,   0,   1],\n",
              "       [  1,   8,   4, 469,   1,   5,   0,  10,   2,   8],\n",
              "       [  0,   0,   1,   0, 501,   0,   2,   1,   0,   4],\n",
              "       [  2,   0,   1,   6,   0, 420,   7,   2,   2,   2],\n",
              "       [  1,   0,   0,   0,   2,   1, 453,   0,   0,   0],\n",
              "       [  0,   0,   1,   1,   1,   0,   0, 504,   0,   4],\n",
              "       [  6, 126,  17,  13,  11,   6,  36,  22, 457,  44],\n",
              "       [  0,   0,   0,   1,  14,   0,   0,   4,   0, 430]])"
            ]
          },
          "metadata": {},
          "execution_count": 53
        }
      ]
    },
    {
      "cell_type": "code",
      "source": [
        "model_best.save(\"best_model.h5\")"
      ],
      "metadata": {
        "id": "GRPZWDGx2TNz"
      },
      "execution_count": 58,
      "outputs": []
    },
    {
      "cell_type": "code",
      "source": [
        "wandb.save(\"best_model.h5\")"
      ],
      "metadata": {
        "colab": {
          "base_uri": "https://localhost:8080/"
        },
        "id": "f6Ppck8V3bFM",
        "outputId": "8ca1af64-eafa-448e-ffa7-53197666c892"
      },
      "execution_count": 59,
      "outputs": [
        {
          "output_type": "execute_result",
          "data": {
            "text/plain": [
              "['/content/wandb/run-20220621_101029-9f0qdebt/files/best_model.h5']"
            ]
          },
          "metadata": {},
          "execution_count": 59
        }
      ]
    },
    {
      "cell_type": "code",
      "source": [
        "wanbd_best = wandb.restore(\"model-best.h5\",run_path=\"basha/uncategorized/9f0qdebt\")"
      ],
      "metadata": {
        "id": "rs_-6KLr3a7e"
      },
      "execution_count": 6,
      "outputs": []
    },
    {
      "cell_type": "code",
      "source": [
        "wanbd_best = keras.models.load_model(wanbd_best.name)"
      ],
      "metadata": {
        "id": "9KMDwxxL4SYW"
      },
      "execution_count": 11,
      "outputs": []
    },
    {
      "cell_type": "code",
      "source": [
        "wanbd_best.evaluate(X_train,y_train)"
      ],
      "metadata": {
        "colab": {
          "base_uri": "https://localhost:8080/"
        },
        "id": "1jLFdJtN6kfS",
        "outputId": "799069f1-bf4e-4dfc-cb53-cb94bf139250"
      },
      "execution_count": 81,
      "outputs": [
        {
          "output_type": "stream",
          "name": "stdout",
          "text": [
            "1875/1875 [==============================] - 7s 4ms/step - loss: 4.2351 - accuracy: 0.9876\n"
          ]
        },
        {
          "output_type": "execute_result",
          "data": {
            "text/plain": [
              "[4.235066890716553, 0.987583339214325]"
            ]
          },
          "metadata": {},
          "execution_count": 81
        }
      ]
    },
    {
      "cell_type": "code",
      "source": [
        "wandb_predict_noise_data = wanbd_best.predict(X_valid_norm_noise)\n",
        "wandb_predict_noise_class = tf.argmax(wandb_predict_noise_data,1)"
      ],
      "metadata": {
        "id": "20dDKfqn7MOT"
      },
      "execution_count": 82,
      "outputs": []
    },
    {
      "cell_type": "code",
      "source": [
        "confusion_matrix(wandb_predict_noise_class,y_valid_norm)"
      ],
      "metadata": {
        "colab": {
          "base_uri": "https://localhost:8080/"
        },
        "id": "ZZaDZMJd7Rsl",
        "outputId": "1cf99ff6-b030-468a-f739-929722cccbcf"
      },
      "execution_count": 83,
      "outputs": [
        {
          "output_type": "execute_result",
          "data": {
            "text/plain": [
              "array([[472,   0,   1,   0,   0,   0,   1,   3,   0,   2],\n",
              "       [  0, 495,   2,   0,   1,   0,   1,   0,   1,   1],\n",
              "       [  0,   7, 460,   1,   4,   2,   3,   5,   0,   1],\n",
              "       [  1,   3,   5, 474,   1,   6,   0,  13,   2,   8],\n",
              "       [  0,   0,   1,   0, 510,   1,   3,   1,   0,   4],\n",
              "       [  2,   0,   1,   6,   0, 419,   6,   2,   2,   1],\n",
              "       [  1,   0,   0,   0,   2,   1, 465,   0,   0,   0],\n",
              "       [  0,   0,   2,   1,   1,   0,   0, 507,   0,   5],\n",
              "       [  3,  58,  16,   9,   7,   5,  22,  13, 457,  30],\n",
              "       [  0,   0,   0,   2,   9,   0,   0,   6,   0, 443]])"
            ]
          },
          "metadata": {},
          "execution_count": 83
        }
      ]
    },
    {
      "cell_type": "code",
      "source": [
        "wanbd_best.evaluate(X_valid_norm_noise,y_valid_norm)"
      ],
      "metadata": {
        "colab": {
          "base_uri": "https://localhost:8080/"
        },
        "id": "1sjOJr9U7oC-",
        "outputId": "4634715c-a283-4a89-c16e-4af3f93e983c"
      },
      "execution_count": 84,
      "outputs": [
        {
          "output_type": "stream",
          "name": "stdout",
          "text": [
            "157/157 [==============================] - 1s 6ms/step - loss: 0.1759 - accuracy: 0.9404\n"
          ]
        },
        {
          "output_type": "execute_result",
          "data": {
            "text/plain": [
              "[0.17590932548046112, 0.9404000043869019]"
            ]
          },
          "metadata": {},
          "execution_count": 84
        }
      ]
    },
    {
      "cell_type": "code",
      "source": [
        "wandb_predict_without_noise_data = wanbd_best.predict(X_valid_norm)\n",
        "wandb_predict_without_noise_class = tf.argmax(wandb_predict_without_noise_data,1)"
      ],
      "metadata": {
        "id": "eDztbst78A1D"
      },
      "execution_count": 86,
      "outputs": []
    },
    {
      "cell_type": "code",
      "source": [
        "confusion_matrix(wandb_predict_without_noise_class,y_valid_norm)"
      ],
      "metadata": {
        "colab": {
          "base_uri": "https://localhost:8080/"
        },
        "id": "ojsuhDpR8Kr6",
        "outputId": "594f9107-023b-42ea-beca-2f788969441a"
      },
      "execution_count": 88,
      "outputs": [
        {
          "output_type": "execute_result",
          "data": {
            "text/plain": [
              "array([[473,   0,   0,   0,   0,   0,   1,   1,   1,   3],\n",
              "       [  0, 556,   6,   0,   1,   1,   1,   2,   4,   1],\n",
              "       [  0,   2, 472,   3,   2,   1,   0,   2,   0,   0],\n",
              "       [  1,   2,   3, 482,   1,   3,   0,   0,   2,   3],\n",
              "       [  1,   0,   1,   0, 529,   0,   1,   1,   1,   5],\n",
              "       [  1,   0,   0,   3,   0, 424,   0,   1,   3,   0],\n",
              "       [  1,   1,   1,   0,   1,   2, 497,   0,   1,   1],\n",
              "       [  2,   0,   2,   2,   0,   1,   0, 539,   1,   5],\n",
              "       [  0,   1,   3,   1,   0,   1,   1,   0, 449,   0],\n",
              "       [  0,   1,   0,   2,   1,   1,   0,   4,   0, 477]])"
            ]
          },
          "metadata": {},
          "execution_count": 88
        }
      ]
    },
    {
      "cell_type": "code",
      "source": [
        "wanbd_best.evaluate(X_valid_norm,y_valid_norm)"
      ],
      "metadata": {
        "colab": {
          "base_uri": "https://localhost:8080/"
        },
        "id": "bTOEkr6l8Qa5",
        "outputId": "078611dc-585e-4ae7-f5d9-a648c5c45eb9"
      },
      "execution_count": 89,
      "outputs": [
        {
          "output_type": "stream",
          "name": "stdout",
          "text": [
            "157/157 [==============================] - 1s 4ms/step - loss: 0.0690 - accuracy: 0.9796\n"
          ]
        },
        {
          "output_type": "execute_result",
          "data": {
            "text/plain": [
              "[0.06896845996379852, 0.9796000123023987]"
            ]
          },
          "metadata": {},
          "execution_count": 89
        }
      ]
    },
    {
      "cell_type": "code",
      "source": [
        "wandb_predict_whole_data = wanbd_best.predict(X_train)\n",
        "wandb_predict_whole_class = tf.argmax(wandb_predict_whole_data,1)"
      ],
      "metadata": {
        "id": "BJiy95ep8lDd"
      },
      "execution_count": 12,
      "outputs": []
    },
    {
      "cell_type": "code",
      "source": [
        "confusion_matrix(wandb_predict_whole_class,y_train)"
      ],
      "metadata": {
        "colab": {
          "base_uri": "https://localhost:8080/",
          "height": 170
        },
        "id": "CYg3fdKF8niX",
        "outputId": "5e338df6-4d70-424e-e3f6-3e4f9dd1fcc6"
      },
      "execution_count": 13,
      "outputs": [
        {
          "output_type": "error",
          "ename": "NameError",
          "evalue": "ignored",
          "traceback": [
            "\u001b[0;31m---------------------------------------------------------------------------\u001b[0m",
            "\u001b[0;31mNameError\u001b[0m                                 Traceback (most recent call last)",
            "\u001b[0;32m<ipython-input-13-435bab485e01>\u001b[0m in \u001b[0;36m<module>\u001b[0;34m()\u001b[0m\n\u001b[0;32m----> 1\u001b[0;31m \u001b[0mconfusion_matrix\u001b[0m\u001b[0;34m(\u001b[0m\u001b[0mwandb_predict_whole_class\u001b[0m\u001b[0;34m,\u001b[0m\u001b[0my_train\u001b[0m\u001b[0;34m)\u001b[0m\u001b[0;34m\u001b[0m\u001b[0;34m\u001b[0m\u001b[0m\n\u001b[0m",
            "\u001b[0;31mNameError\u001b[0m: name 'confusion_matrix' is not defined"
          ]
        }
      ]
    },
    {
      "cell_type": "code",
      "source": [
        "wanbd_best.evaluate(X_train,y_train)"
      ],
      "metadata": {
        "colab": {
          "base_uri": "https://localhost:8080/"
        },
        "id": "byB6V5uf8p1i",
        "outputId": "344fb4d8-cb6a-4aa8-9d2d-dc03a6c563dc"
      },
      "execution_count": 92,
      "outputs": [
        {
          "output_type": "stream",
          "name": "stdout",
          "text": [
            "1875/1875 [==============================] - 4s 2ms/step - loss: 4.2351 - accuracy: 0.9876\n"
          ]
        },
        {
          "output_type": "execute_result",
          "data": {
            "text/plain": [
              "[4.235066890716553, 0.987583339214325]"
            ]
          },
          "metadata": {},
          "execution_count": 92
        }
      ]
    },
    {
      "cell_type": "code",
      "source": [
        "for _ in [\"macro\",\"micro\",\"weighted\",None]:\n",
        "  # print(_)\n",
        "  print(f1_score(wandb_predict_whole_class,y_train,average=_))"
      ],
      "metadata": {
        "colab": {
          "base_uri": "https://localhost:8080/"
        },
        "id": "RRbMy0XI94Ty",
        "outputId": "d7a3ddb0-59b7-4320-d606-1d00436b925e"
      },
      "execution_count": 27,
      "outputs": [
        {
          "output_type": "stream",
          "name": "stdout",
          "text": [
            "0.9875440286760708\n",
            "0.9875833333333334\n",
            "0.9876098732982805\n",
            "[0.99327731 0.98735666 0.990778   0.98089274 0.99122882 0.98762215\n",
            " 0.99215521 0.99232859 0.97416134 0.98563947]\n"
          ]
        }
      ]
    },
    {
      "cell_type": "code",
      "source": [
        "classnames = [\"0\",\"1\",\"2\",\"3\",\"4\",\"5\",\"6\",\"7\",\"8\",\"9\"]\n",
        "cls_report = classification_report(wandb_predict_whole_class,y_train,target_names= classnames)"
      ],
      "metadata": {
        "id": "p3uQp5AvCnJQ"
      },
      "execution_count": 45,
      "outputs": []
    },
    {
      "cell_type": "code",
      "source": [
        "print(cls_report)"
      ],
      "metadata": {
        "colab": {
          "base_uri": "https://localhost:8080/"
        },
        "id": "He8jQm7FDKm4",
        "outputId": "10672daa-63a7-468a-b741-7108f97c5dc0"
      },
      "execution_count": 46,
      "outputs": [
        {
          "output_type": "stream",
          "name": "stdout",
          "text": [
            "              precision    recall  f1-score   support\n",
            "\n",
            "           0       1.00      0.99      0.99      5977\n",
            "           1       1.00      0.98      0.99      6862\n",
            "           2       0.99      0.99      0.99      5970\n",
            "           3       1.00      0.97      0.98      6325\n",
            "           4       1.00      0.99      0.99      5901\n",
            "           5       0.98      1.00      0.99      5324\n",
            "           6       0.99      0.99      0.99      5937\n",
            "           7       0.99      0.99      0.99      6249\n",
            "           8       0.95      1.00      0.97      5566\n",
            "           9       0.98      0.99      0.99      5889\n",
            "\n",
            "    accuracy                           0.99     60000\n",
            "   macro avg       0.99      0.99      0.99     60000\n",
            "weighted avg       0.99      0.99      0.99     60000\n",
            "\n"
          ]
        }
      ]
    },
    {
      "cell_type": "code",
      "source": [
        "tf.config.experimental.list_physical_devices()"
      ],
      "metadata": {
        "colab": {
          "base_uri": "https://localhost:8080/"
        },
        "id": "GTBSirQuOrvw",
        "outputId": "4a5fd636-2547-4d1f-f4fe-8933e7f594c8"
      },
      "execution_count": 47,
      "outputs": [
        {
          "output_type": "execute_result",
          "data": {
            "text/plain": [
              "[PhysicalDevice(name='/physical_device:CPU:0', device_type='CPU')]"
            ]
          },
          "metadata": {},
          "execution_count": 47
        }
      ]
    },
    {
      "cell_type": "code",
      "source": [
        "import random\n",
        "my_num = random.sample(range(-100,100),100)\n",
        "my_output = [x*3+4 for x in my_num]\n",
        "\n",
        "my_num_valid,my_output_valid = my_num[:25] , my_output[:25]\n",
        "my_num_train,my_output_train = my_num[25:] , my_output[25:] \n",
        "# relu = [0 if x < 0 else x for x in my_num]"
      ],
      "metadata": {
        "id": "V3uvJw-H91xb"
      },
      "execution_count": 211,
      "outputs": []
    },
    {
      "cell_type": "code",
      "source": [
        "len(my_num_valid) , len(my_num_train)"
      ],
      "metadata": {
        "colab": {
          "base_uri": "https://localhost:8080/"
        },
        "id": "jv8TsLodB8xb",
        "outputId": "cecb6100-a9e2-4e37-c5d8-fb2fb2f680f6"
      },
      "execution_count": 51,
      "outputs": [
        {
          "output_type": "execute_result",
          "data": {
            "text/plain": [
              "(25, 75)"
            ]
          },
          "metadata": {},
          "execution_count": 51
        }
      ]
    },
    {
      "cell_type": "code",
      "source": [
        "my_num_train,my_output_train = tf.constant(my_num_train) , tf.constant(my_output_train)\n",
        "my_num_valid,my_output_valid = tf.constant(my_num_valid) , tf.constant(my_output_valid)"
      ],
      "metadata": {
        "id": "0VLeuj8nCIu7"
      },
      "execution_count": 212,
      "outputs": []
    },
    {
      "cell_type": "code",
      "source": [
        "my_num_train.shape,my_output_train.shape"
      ],
      "metadata": {
        "colab": {
          "base_uri": "https://localhost:8080/"
        },
        "id": "Gsw7j5uDDRfs",
        "outputId": "c24ff64d-69b2-4055-d5ec-c163968fea2d"
      },
      "execution_count": 53,
      "outputs": [
        {
          "output_type": "execute_result",
          "data": {
            "text/plain": [
              "(TensorShape([75]), TensorShape([75]))"
            ]
          },
          "metadata": {},
          "execution_count": 53
        }
      ]
    },
    {
      "cell_type": "code",
      "source": [
        "my_num_valid.shape"
      ],
      "metadata": {
        "colab": {
          "base_uri": "https://localhost:8080/"
        },
        "id": "hL1Dg6yoKL08",
        "outputId": "c47c2e3f-7f27-4884-9dbf-0da169c30acb"
      },
      "execution_count": 120,
      "outputs": [
        {
          "output_type": "execute_result",
          "data": {
            "text/plain": [
              "TensorShape([25])"
            ]
          },
          "metadata": {},
          "execution_count": 120
        }
      ]
    },
    {
      "cell_type": "code",
      "source": [
        "my_num_train,my_output_train = tf.reshape(my_num_train,[1,-1]) , tf.reshape(my_output_train,[1,-1])\n",
        "my_num_valid,my_output_valid = tf.reshape(my_num_valid,[1,-1]) , tf.reshape(my_output_valid,[1,-1])"
      ],
      "metadata": {
        "id": "5_mWgst9FYKX"
      },
      "execution_count": 213,
      "outputs": []
    },
    {
      "cell_type": "code",
      "source": [
        "tf.reshape(my_output_valid,[1,-1])"
      ],
      "metadata": {
        "id": "WnqEX-RxJq5D"
      },
      "execution_count": null,
      "outputs": []
    },
    {
      "cell_type": "code",
      "source": [
        "my_output_valid.shape"
      ],
      "metadata": {
        "colab": {
          "base_uri": "https://localhost:8080/"
        },
        "id": "KPxoQkNeLyqN",
        "outputId": "a867c84a-312a-47f2-8857-3496aa13fe39"
      },
      "execution_count": 141,
      "outputs": [
        {
          "output_type": "execute_result",
          "data": {
            "text/plain": [
              "TensorShape([25])"
            ]
          },
          "metadata": {},
          "execution_count": 141
        }
      ]
    },
    {
      "cell_type": "code",
      "source": [
        "my_output_valid"
      ],
      "metadata": {
        "id": "xQDER2x-LyjE"
      },
      "execution_count": null,
      "outputs": []
    },
    {
      "cell_type": "code",
      "source": [
        "my_num_train"
      ],
      "metadata": {
        "colab": {
          "base_uri": "https://localhost:8080/"
        },
        "id": "q-_DmThvHnrv",
        "outputId": "6ff57499-ef2b-4a3a-84e7-1b96d385be21"
      },
      "execution_count": 196,
      "outputs": [
        {
          "output_type": "execute_result",
          "data": {
            "text/plain": [
              "<tf.Tensor: shape=(1, 75), dtype=int32, numpy=\n",
              "array([[-17, -91, -52, -45,  10,  73,  28, -98, -41, -51,  30,  70,  98,\n",
              "        -27, -96, -46, -37,  65, -72,   2, -50,  -5, -24,  32,  44,   4,\n",
              "        -26,  91,  43,  97, -29, -88,  57, -59, -74,  38, -99, -15,  21,\n",
              "         94,  34, -81, -93,  31,  29,  -3,  -2, -73,  49,   6,  85, -68,\n",
              "         11, -71,  14, -14,  35,  20,  51,  56, -40, -10, -56,  92,  -6,\n",
              "        -95,  13, -28,  93, -60,  95, -85, -54,  59,  88]], dtype=int32)>"
            ]
          },
          "metadata": {},
          "execution_count": 196
        }
      ]
    },
    {
      "cell_type": "code",
      "source": [
        "alpha = 0.01\n",
        "leaky_relu = [alpha*x if x<0 else x for x in my_num]"
      ],
      "metadata": {
        "id": "g9v-14b2-miP"
      },
      "execution_count": 8,
      "outputs": []
    },
    {
      "cell_type": "code",
      "source": [
        "leaky_relu"
      ],
      "metadata": {
        "colab": {
          "base_uri": "https://localhost:8080/"
        },
        "id": "oCPOTVkL_PgH",
        "outputId": "ad4e7bf1-a988-4c2d-9676-4f543fa9a339"
      },
      "execution_count": 9,
      "outputs": [
        {
          "output_type": "execute_result",
          "data": {
            "text/plain": [
              "[10, 40, 20, 30, 40, 50, 1, 3, 65, 1000, -0.02, -0.04, -0.1]"
            ]
          },
          "metadata": {},
          "execution_count": 9
        }
      ]
    },
    {
      "cell_type": "code",
      "source": [
        ""
      ],
      "metadata": {
        "id": "a68V2A1-ESUA"
      },
      "execution_count": 57,
      "outputs": []
    },
    {
      "cell_type": "code",
      "source": [
        "my_num_train.shape[1:]"
      ],
      "metadata": {
        "colab": {
          "base_uri": "https://localhost:8080/"
        },
        "id": "lQGlrBgfESH0",
        "outputId": "804c43b3-64bc-45f6-deff-ca09214d2a9e"
      },
      "execution_count": 128,
      "outputs": [
        {
          "output_type": "execute_result",
          "data": {
            "text/plain": [
              "TensorShape([75])"
            ]
          },
          "metadata": {},
          "execution_count": 128
        }
      ]
    },
    {
      "cell_type": "code",
      "source": [
        "model = keras.models.Sequential([\n",
        "       keras.layers.Dense(75,input_shape=my_num_train.shape[1:]),\n",
        "       keras.layers.Dense(50,activation=\"relu\"),\n",
        "       keras.layers.Dense(1)                          \n",
        "])\n",
        "model.compile(optimizer=keras.optimizers.SGD(),loss=\"mse\",metrics=\"mse\")"
      ],
      "metadata": {
        "id": "5BlQVYpwArbE"
      },
      "execution_count": 214,
      "outputs": []
    },
    {
      "cell_type": "code",
      "source": [
        "# model.build(input_shape=(1,75))\n",
        "model.summary()"
      ],
      "metadata": {
        "colab": {
          "base_uri": "https://localhost:8080/"
        },
        "id": "9Ve6ZBc6EIIl",
        "outputId": "24efba96-047a-498f-88fb-f8c6ec723a0e"
      },
      "execution_count": 152,
      "outputs": [
        {
          "output_type": "stream",
          "name": "stdout",
          "text": [
            "Model: \"sequential_22\"\n",
            "_________________________________________________________________\n",
            " Layer (type)                Output Shape              Param #   \n",
            "=================================================================\n",
            " dense_64 (Dense)            (None, 75)                5700      \n",
            "                                                                 \n",
            " dense_65 (Dense)            (None, 1)                 76        \n",
            "                                                                 \n",
            "=================================================================\n",
            "Total params: 5,776\n",
            "Trainable params: 5,776\n",
            "Non-trainable params: 0\n",
            "_________________________________________________________________\n"
          ]
        }
      ]
    },
    {
      "cell_type": "code",
      "source": [
        "my_num_train"
      ],
      "metadata": {
        "colab": {
          "base_uri": "https://localhost:8080/"
        },
        "id": "VKtGiixlPc5O",
        "outputId": "d90c61ee-2cf3-45aa-88ed-a14bd0890092"
      },
      "execution_count": 215,
      "outputs": [
        {
          "output_type": "execute_result",
          "data": {
            "text/plain": [
              "<tf.Tensor: shape=(1, 75), dtype=int32, numpy=\n",
              "array([[ -46,  -31,  -71,  -66,  -97,  -76,    8,  -19,   42,   22,   77,\n",
              "          10,  -29,  -72,   47,   40,  -53,   19,  -74,    2,  -13,  -67,\n",
              "          36,   66,  -43,  -94,   33,  -93,   92,   99,  -68,   95,   64,\n",
              "         -69,   90,    4,   59,   97,   -5,   80,   69,  -42,   54,  -14,\n",
              "           7,  -57,   16,   93,  -92,  -64,  -38,  -21,  -84,   96,  -75,\n",
              "          67,   53, -100,  -77,   32,   38,   48,   57,  -34,  -82,  -63,\n",
              "          11,   26,   88,   24,  -47,   79,   83,   49,   44]],\n",
              "      dtype=int32)>"
            ]
          },
          "metadata": {},
          "execution_count": 215
        }
      ]
    },
    {
      "cell_type": "code",
      "source": [
        "tf.keras.activations.selu(\n",
        "   tf.cast(my_num_train,dtype=tf.float16)\n",
        ")"
      ],
      "metadata": {
        "colab": {
          "base_uri": "https://localhost:8080/"
        },
        "id": "GlIAZ6_tRSph",
        "outputId": "c6e43e84-986a-4bec-9718-e9ec0271f72f"
      },
      "execution_count": 216,
      "outputs": [
        {
          "output_type": "execute_result",
          "data": {
            "text/plain": [
              "<tf.Tensor: shape=(1, 75), dtype=float16, numpy=\n",
              "array([[ -1.758,  -1.758,  -1.758,  -1.758,  -1.758,  -1.758,   8.41 ,\n",
              "         -1.758,  44.12 ,  23.12 ,  80.94 ,  10.51 ,  -1.758,  -1.758,\n",
              "         49.38 ,  42.03 ,  -1.758,  19.97 ,  -1.758,   2.102,  -1.758,\n",
              "         -1.758,  37.8  ,  69.4  ,  -1.758,  -1.758,  34.7  ,  -1.758,\n",
              "         96.7  , 104.   ,  -1.758,  99.8  ,  67.25 ,  -1.758,  94.56 ,\n",
              "          4.203,  62.   , 101.94 ,  -1.746,  84.06 ,  72.5  ,  -1.758,\n",
              "         56.75 ,  -1.758,   7.355,  -1.758,  16.81 ,  97.75 ,  -1.758,\n",
              "         -1.758,  -1.758,  -1.758,  -1.758, 100.9  ,  -1.758,  70.4  ,\n",
              "         55.7  ,  -1.758,  -1.758,  33.62 ,  39.94 ,  50.44 ,  59.9  ,\n",
              "         -1.758,  -1.758,  -1.758,  11.56 ,  27.31 ,  92.5  ,  25.22 ,\n",
              "         -1.758,  83.   ,  87.2  ,  51.5  ,  46.25 ]], dtype=float16)>"
            ]
          },
          "metadata": {},
          "execution_count": 216
        }
      ]
    },
    {
      "cell_type": "code",
      "source": [
        "tf.keras.activations.elu(\n",
        "    tf.cast(my_num_train,dtype=tf.float16), alpha=1.0\n",
        ")"
      ],
      "metadata": {
        "colab": {
          "base_uri": "https://localhost:8080/"
        },
        "id": "SE_mjRZWRktV",
        "outputId": "08804aa4-27db-48e0-b5a1-2215bd0607c0"
      },
      "execution_count": 217,
      "outputs": [
        {
          "output_type": "execute_result",
          "data": {
            "text/plain": [
              "<tf.Tensor: shape=(1, 75), dtype=float16, numpy=\n",
              "array([[-1.   , -1.   , -1.   , -1.   , -1.   , -1.   ,  8.   , -1.   ,\n",
              "        42.   , 22.   , 77.   , 10.   , -1.   , -1.   , 47.   , 40.   ,\n",
              "        -1.   , 19.   , -1.   ,  2.   , -1.   , -1.   , 36.   , 66.   ,\n",
              "        -1.   , -1.   , 33.   , -1.   , 92.   , 99.   , -1.   , 95.   ,\n",
              "        64.   , -1.   , 90.   ,  4.   , 59.   , 97.   , -0.993, 80.   ,\n",
              "        69.   , -1.   , 54.   , -1.   ,  7.   , -1.   , 16.   , 93.   ,\n",
              "        -1.   , -1.   , -1.   , -1.   , -1.   , 96.   , -1.   , 67.   ,\n",
              "        53.   , -1.   , -1.   , 32.   , 38.   , 48.   , 57.   , -1.   ,\n",
              "        -1.   , -1.   , 11.   , 26.   , 88.   , 24.   , -1.   , 79.   ,\n",
              "        83.   , 49.   , 44.   ]], dtype=float16)>"
            ]
          },
          "metadata": {},
          "execution_count": 217
        }
      ]
    },
    {
      "cell_type": "code",
      "source": [
        ""
      ],
      "metadata": {
        "id": "IIOnU9MTUnE7"
      },
      "execution_count": null,
      "outputs": []
    },
    {
      "cell_type": "code",
      "source": [
        "tf.nn.leaky_relu(\n",
        "     tf.cast(my_num_train,dtype=tf.float16), alpha=0.2, name=None\n",
        ")"
      ],
      "metadata": {
        "colab": {
          "base_uri": "https://localhost:8080/"
        },
        "id": "If4D3JnrUm7N",
        "outputId": "27ce2ac8-a8e5-42d9-9801-736e374efb7c"
      },
      "execution_count": 235,
      "outputs": [
        {
          "output_type": "execute_result",
          "data": {
            "text/plain": [
              "<tf.Tensor: shape=(1, 75), dtype=float16, numpy=\n",
              "array([[ -9.195,  -6.2  , -14.195, -13.195, -19.39 , -15.195,   8.   ,\n",
              "         -3.799,  42.   ,  22.   ,  77.   ,  10.   ,  -5.797, -14.4  ,\n",
              "         47.   ,  40.   , -10.59 ,  19.   , -14.8  ,   2.   ,  -2.6  ,\n",
              "        -13.4  ,  36.   ,  66.   ,  -8.6  , -18.8  ,  33.   , -18.6  ,\n",
              "         92.   ,  99.   , -13.59 ,  95.   ,  64.   , -13.8  ,  90.   ,\n",
              "          4.   ,  59.   ,  97.   ,  -1.   ,  80.   ,  69.   ,  -8.4  ,\n",
              "         54.   ,  -2.799,   7.   , -11.4  ,  16.   ,  93.   , -18.39 ,\n",
              "        -12.8  ,  -7.598,  -4.2  , -16.8  ,  96.   , -15.   ,  67.   ,\n",
              "         53.   , -20.   , -15.4  ,  32.   ,  38.   ,  48.   ,  57.   ,\n",
              "         -6.797, -16.39 , -12.59 ,  11.   ,  26.   ,  88.   ,  24.   ,\n",
              "         -9.4  ,  79.   ,  83.   ,  49.   ,  44.   ]], dtype=float16)>"
            ]
          },
          "metadata": {},
          "execution_count": 235
        }
      ]
    },
    {
      "cell_type": "code",
      "source": [
        "my_num_train_scale"
      ],
      "metadata": {
        "colab": {
          "base_uri": "https://localhost:8080/"
        },
        "id": "F_IY7ZQPQeSx",
        "outputId": "54061ec6-be41-4272-9529-0ee24d9fb925"
      },
      "execution_count": 200,
      "outputs": [
        {
          "output_type": "execute_result",
          "data": {
            "text/plain": [
              "array([[0., 0., 0., 0., 0., 0., 0., 0., 0., 0., 0., 0., 0., 0., 0., 0.,\n",
              "        0., 0., 0., 0., 0., 0., 0., 0., 0., 0., 0., 0., 0., 0., 0., 0.,\n",
              "        0., 0., 0., 0., 0., 0., 0., 0., 0., 0., 0., 0., 0., 0., 0., 0.,\n",
              "        0., 0., 0., 0., 0., 0., 0., 0., 0., 0., 0., 0., 0., 0., 0., 0.,\n",
              "        0., 0., 0., 0., 0., 0., 0., 0., 0., 0., 0.]])"
            ]
          },
          "metadata": {},
          "execution_count": 200
        }
      ]
    },
    {
      "cell_type": "code",
      "source": [
        "scaler.inverse_transform(my_num_train_scale)"
      ],
      "metadata": {
        "colab": {
          "base_uri": "https://localhost:8080/"
        },
        "id": "EDbTDVTSQljv",
        "outputId": "36ca19e9-41d7-4cf1-dd54-be7cae1fd281"
      },
      "execution_count": 220,
      "outputs": [
        {
          "output_type": "execute_result",
          "data": {
            "text/plain": [
              "array([[ -46.,  -31.,  -71.,  -66.,  -97.,  -76.,    8.,  -19.,   42.,\n",
              "          22.,   77.,   10.,  -29.,  -72.,   47.,   40.,  -53.,   19.,\n",
              "         -74.,    2.,  -13.,  -67.,   36.,   66.,  -43.,  -94.,   33.,\n",
              "         -93.,   92.,   99.,  -68.,   95.,   64.,  -69.,   90.,    4.,\n",
              "          59.,   97.,   -5.,   80.,   69.,  -42.,   54.,  -14.,    7.,\n",
              "         -57.,   16.,   93.,  -92.,  -64.,  -38.,  -21.,  -84.,   96.,\n",
              "         -75.,   67.,   53., -100.,  -77.,   32.,   38.,   48.,   57.,\n",
              "         -34.,  -82.,  -63.,   11.,   26.,   88.,   24.,  -47.,   79.,\n",
              "          83.,   49.,   44.]])"
            ]
          },
          "metadata": {},
          "execution_count": 220
        }
      ]
    },
    {
      "cell_type": "code",
      "source": [
        "from sklearn.preprocessing import StandardScaler\n",
        "scaler = StandardScaler()\n",
        "my_num_train_scale = scaler.fit_transform(my_num_train)\n",
        "my_output_train_scale = scaler.transform(my_output_train)"
      ],
      "metadata": {
        "id": "kM1VIs6bBdNV"
      },
      "execution_count": 233,
      "outputs": []
    },
    {
      "cell_type": "code",
      "source": [
        "my_num_valid_scale = scaler.transform(my_num_valid)"
      ],
      "metadata": {
        "colab": {
          "base_uri": "https://localhost:8080/",
          "height": 320
        },
        "id": "LAIKv3TcTXy4",
        "outputId": "827d5e76-6977-4959-e575-0e560be8fdf3"
      },
      "execution_count": 223,
      "outputs": [
        {
          "output_type": "error",
          "ename": "ValueError",
          "evalue": "ignored",
          "traceback": [
            "\u001b[0;31m---------------------------------------------------------------------------\u001b[0m",
            "\u001b[0;31mValueError\u001b[0m                                Traceback (most recent call last)",
            "\u001b[0;32m<ipython-input-223-f423060aa31e>\u001b[0m in \u001b[0;36m<module>\u001b[0;34m()\u001b[0m\n\u001b[0;32m----> 1\u001b[0;31m \u001b[0mmy_num_valid_scale\u001b[0m \u001b[0;34m=\u001b[0m \u001b[0mscaler\u001b[0m\u001b[0;34m.\u001b[0m\u001b[0mtransform\u001b[0m\u001b[0;34m(\u001b[0m\u001b[0mmy_num_valid\u001b[0m\u001b[0;34m)\u001b[0m\u001b[0;34m\u001b[0m\u001b[0;34m\u001b[0m\u001b[0m\n\u001b[0m",
            "\u001b[0;32m/usr/local/lib/python3.7/dist-packages/sklearn/preprocessing/_data.py\u001b[0m in \u001b[0;36mtransform\u001b[0;34m(self, X, copy)\u001b[0m\n\u001b[1;32m    978\u001b[0m             \u001b[0mestimator\u001b[0m\u001b[0;34m=\u001b[0m\u001b[0mself\u001b[0m\u001b[0;34m,\u001b[0m\u001b[0;34m\u001b[0m\u001b[0;34m\u001b[0m\u001b[0m\n\u001b[1;32m    979\u001b[0m             \u001b[0mdtype\u001b[0m\u001b[0;34m=\u001b[0m\u001b[0mFLOAT_DTYPES\u001b[0m\u001b[0;34m,\u001b[0m\u001b[0;34m\u001b[0m\u001b[0;34m\u001b[0m\u001b[0m\n\u001b[0;32m--> 980\u001b[0;31m             \u001b[0mforce_all_finite\u001b[0m\u001b[0;34m=\u001b[0m\u001b[0;34m\"allow-nan\"\u001b[0m\u001b[0;34m,\u001b[0m\u001b[0;34m\u001b[0m\u001b[0;34m\u001b[0m\u001b[0m\n\u001b[0m\u001b[1;32m    981\u001b[0m         )\n\u001b[1;32m    982\u001b[0m \u001b[0;34m\u001b[0m\u001b[0m\n",
            "\u001b[0;32m/usr/local/lib/python3.7/dist-packages/sklearn/base.py\u001b[0m in \u001b[0;36m_validate_data\u001b[0;34m(self, X, y, reset, validate_separately, **check_params)\u001b[0m\n\u001b[1;32m    583\u001b[0m \u001b[0;34m\u001b[0m\u001b[0m\n\u001b[1;32m    584\u001b[0m         \u001b[0;32mif\u001b[0m \u001b[0;32mnot\u001b[0m \u001b[0mno_val_X\u001b[0m \u001b[0;32mand\u001b[0m \u001b[0mcheck_params\u001b[0m\u001b[0;34m.\u001b[0m\u001b[0mget\u001b[0m\u001b[0;34m(\u001b[0m\u001b[0;34m\"ensure_2d\"\u001b[0m\u001b[0;34m,\u001b[0m \u001b[0;32mTrue\u001b[0m\u001b[0;34m)\u001b[0m\u001b[0;34m:\u001b[0m\u001b[0;34m\u001b[0m\u001b[0;34m\u001b[0m\u001b[0m\n\u001b[0;32m--> 585\u001b[0;31m             \u001b[0mself\u001b[0m\u001b[0;34m.\u001b[0m\u001b[0m_check_n_features\u001b[0m\u001b[0;34m(\u001b[0m\u001b[0mX\u001b[0m\u001b[0;34m,\u001b[0m \u001b[0mreset\u001b[0m\u001b[0;34m=\u001b[0m\u001b[0mreset\u001b[0m\u001b[0;34m)\u001b[0m\u001b[0;34m\u001b[0m\u001b[0;34m\u001b[0m\u001b[0m\n\u001b[0m\u001b[1;32m    586\u001b[0m \u001b[0;34m\u001b[0m\u001b[0m\n\u001b[1;32m    587\u001b[0m         \u001b[0;32mreturn\u001b[0m \u001b[0mout\u001b[0m\u001b[0;34m\u001b[0m\u001b[0;34m\u001b[0m\u001b[0m\n",
            "\u001b[0;32m/usr/local/lib/python3.7/dist-packages/sklearn/base.py\u001b[0m in \u001b[0;36m_check_n_features\u001b[0;34m(self, X, reset)\u001b[0m\n\u001b[1;32m    399\u001b[0m         \u001b[0;32mif\u001b[0m \u001b[0mn_features\u001b[0m \u001b[0;34m!=\u001b[0m \u001b[0mself\u001b[0m\u001b[0;34m.\u001b[0m\u001b[0mn_features_in_\u001b[0m\u001b[0;34m:\u001b[0m\u001b[0;34m\u001b[0m\u001b[0;34m\u001b[0m\u001b[0m\n\u001b[1;32m    400\u001b[0m             raise ValueError(\n\u001b[0;32m--> 401\u001b[0;31m                 \u001b[0;34mf\"X has {n_features} features, but {self.__class__.__name__} \"\u001b[0m\u001b[0;34m\u001b[0m\u001b[0;34m\u001b[0m\u001b[0m\n\u001b[0m\u001b[1;32m    402\u001b[0m                 \u001b[0;34mf\"is expecting {self.n_features_in_} features as input.\"\u001b[0m\u001b[0;34m\u001b[0m\u001b[0;34m\u001b[0m\u001b[0m\n\u001b[1;32m    403\u001b[0m             )\n",
            "\u001b[0;31mValueError\u001b[0m: X has 25 features, but StandardScaler is expecting 75 features as input."
          ]
        }
      ]
    },
    {
      "cell_type": "code",
      "source": [
        "history = model.fit(my_num_train_scale,my_output_train_scale,epochs=10,verbose=1)"
      ],
      "metadata": {
        "colab": {
          "base_uri": "https://localhost:8080/"
        },
        "id": "-az9q43APjFA",
        "outputId": "a6c2fc99-e1f5-4d44-a6af-fba6249f879a"
      },
      "execution_count": 234,
      "outputs": [
        {
          "output_type": "stream",
          "name": "stdout",
          "text": [
            "Epoch 1/10\n",
            "1/1 [==============================] - 0s 486ms/step - loss: 15184.6396 - mse: 15184.6396\n",
            "Epoch 2/10\n",
            "1/1 [==============================] - 0s 10ms/step - loss: 15182.2715 - mse: 15182.2715\n",
            "Epoch 3/10\n",
            "1/1 [==============================] - 0s 9ms/step - loss: 15179.9980 - mse: 15179.9980\n",
            "Epoch 4/10\n",
            "1/1 [==============================] - 0s 9ms/step - loss: 15177.8135 - mse: 15177.8135\n",
            "Epoch 5/10\n",
            "1/1 [==============================] - 0s 10ms/step - loss: 15175.7148 - mse: 15175.7148\n",
            "Epoch 6/10\n",
            "1/1 [==============================] - 0s 13ms/step - loss: 15173.7002 - mse: 15173.7002\n",
            "Epoch 7/10\n",
            "1/1 [==============================] - 0s 10ms/step - loss: 15171.7646 - mse: 15171.7646\n",
            "Epoch 8/10\n",
            "1/1 [==============================] - 0s 17ms/step - loss: 15169.9053 - mse: 15169.9053\n",
            "Epoch 9/10\n",
            "1/1 [==============================] - 0s 8ms/step - loss: 15168.1201 - mse: 15168.1201\n",
            "Epoch 10/10\n",
            "1/1 [==============================] - 0s 14ms/step - loss: 15166.4062 - mse: 15166.4062\n"
          ]
        }
      ]
    },
    {
      "cell_type": "code",
      "source": [
        ""
      ],
      "metadata": {
        "id": "3z-IY5r6Ox-8"
      },
      "execution_count": null,
      "outputs": []
    },
    {
      "cell_type": "code",
      "source": [
        "tf.reshape(my_num_train,[1,-1]).shape"
      ],
      "metadata": {
        "colab": {
          "base_uri": "https://localhost:8080/"
        },
        "id": "kmH2rRxsEwT9",
        "outputId": "a6129752-0bc7-4acd-dfe8-09ff7d7e2bb2"
      },
      "execution_count": 76,
      "outputs": [
        {
          "output_type": "execute_result",
          "data": {
            "text/plain": [
              "TensorShape([1, 75])"
            ]
          },
          "metadata": {},
          "execution_count": 76
        }
      ]
    },
    {
      "cell_type": "code",
      "source": [
        "my_num_train"
      ],
      "metadata": {
        "colab": {
          "base_uri": "https://localhost:8080/"
        },
        "id": "QEBmabrIFPpm",
        "outputId": "7821561c-414a-4902-c7e7-f70a4003b672"
      },
      "execution_count": 68,
      "outputs": [
        {
          "output_type": "execute_result",
          "data": {
            "text/plain": [
              "<tf.Tensor: shape=(75,), dtype=int32, numpy=\n",
              "array([-59,  33,  49,  37,  44, -33, -48,  -4, -81, -14,  18,  66, -13,\n",
              "       -29, -38, -26, -73,  63,  57,  89, -44, -74,  21, -16,   3, -64,\n",
              "        85, -99,  -3, -10,  43,  -9, -17,  12,  40,  52, -34, -60, -15,\n",
              "        90, -55, -84,  80,  10, -53,  13, -45, -36, -90, -68, -49, -89,\n",
              "       -12, -40, -25,  41,  74,  71, -93, -61,  16, -62, -52, -57,  17,\n",
              "         9,  72,   1, -19, -87,  46, -30, -76, -85,  27], dtype=int32)>"
            ]
          },
          "metadata": {},
          "execution_count": 68
        }
      ]
    }
  ]
}