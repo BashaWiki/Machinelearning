{
  "nbformat": 4,
  "nbformat_minor": 0,
  "metadata": {
    "colab": {
      "name": "Untitled0.ipynb",
      "provenance": [],
      "collapsed_sections": [],
      "authorship_tag": "ABX9TyPHWxGAfbdtAloGsAw141Yo",
      "include_colab_link": true
    },
    "kernelspec": {
      "name": "python3",
      "display_name": "Python 3"
    },
    "language_info": {
      "name": "python"
    }
  },
  "cells": [
    {
      "cell_type": "markdown",
      "metadata": {
        "id": "view-in-github",
        "colab_type": "text"
      },
      "source": [
        "<a href=\"https://colab.research.google.com/github/basha-dev-coder/Machinelearning/blob/main/Custom%20Loss%20in%20Tensorflow.ipynb\" target=\"_parent\"><img src=\"https://colab.research.google.com/assets/colab-badge.svg\" alt=\"Open In Colab\"/></a>"
      ]
    },
    {
      "cell_type": "code",
      "execution_count": 1,
      "metadata": {
        "id": "uCEGzWfJtJ4y"
      },
      "outputs": [],
      "source": [
        "import tensorflow as tf\n",
        "import plotly.express as plx\n",
        "import seaborn as sns\n",
        "from tensorflow import keras\n"
      ]
    },
    {
      "cell_type": "code",
      "source": [
        "#@title Select Params\n",
        "name = \"basha\"\n",
        "summa = \"adsad\" #@param [\"adsad\",\"bane\"]\n",
        "trying_out = \"basha\" #@param [\"basha\", \"aabi\"]\n",
        "variable_name = \"good\" #@param [\"\"] {allow-input: true}\n",
        "print(summa)\n",
        "\n",
        "\n"
      ],
      "metadata": {
        "id": "9G_Wz_r1tsHV",
        "colab": {
          "base_uri": "https://localhost:8080/"
        },
        "outputId": "5f154508-c14b-4638-fb5e-d60b8e265730"
      },
      "execution_count": 9,
      "outputs": [
        {
          "output_type": "stream",
          "name": "stdout",
          "text": [
            "adsad\n"
          ]
        }
      ]
    },
    {
      "cell_type": "code",
      "source": [
        "array = tf.constant(([3,5,4,5],[2,5,5,3]))\n",
        "transpose_array = tf.transpose(array)\n",
        "array.shape , transpose_array.shape"
      ],
      "metadata": {
        "id": "7Ya3oADUwqyg",
        "colab": {
          "base_uri": "https://localhost:8080/"
        },
        "outputId": "5268d3b6-17b2-4c80-efd8-5faa2fcbccbd"
      },
      "execution_count": 13,
      "outputs": [
        {
          "output_type": "execute_result",
          "data": {
            "text/plain": [
              "(TensorShape([2, 4]), TensorShape([4, 2]))"
            ]
          },
          "metadata": {},
          "execution_count": 13
        }
      ]
    },
    {
      "cell_type": "code",
      "source": [
        "tf.matmul(array,transpose_array)"
      ],
      "metadata": {
        "colab": {
          "base_uri": "https://localhost:8080/"
        },
        "id": "sPH-8GSLuwqL",
        "outputId": "afaa22c0-71a6-4612-ecd4-df8cd092456a"
      },
      "execution_count": 14,
      "outputs": [
        {
          "output_type": "execute_result",
          "data": {
            "text/plain": [
              "<tf.Tensor: shape=(2, 2), dtype=int32, numpy=\n",
              "array([[75, 66],\n",
              "       [66, 63]], dtype=int32)>"
            ]
          },
          "metadata": {},
          "execution_count": 14
        }
      ]
    },
    {
      "cell_type": "code",
      "source": [
        "tf.matmul(transpose_array,array)"
      ],
      "metadata": {
        "colab": {
          "base_uri": "https://localhost:8080/"
        },
        "id": "a9xY57W5vFDg",
        "outputId": "8cc29e65-e12e-4f43-82ef-c63b98d1b28b"
      },
      "execution_count": 15,
      "outputs": [
        {
          "output_type": "execute_result",
          "data": {
            "text/plain": [
              "<tf.Tensor: shape=(4, 4), dtype=int32, numpy=\n",
              "array([[13, 25, 22, 21],\n",
              "       [25, 50, 45, 40],\n",
              "       [22, 45, 41, 35],\n",
              "       [21, 40, 35, 34]], dtype=int32)>"
            ]
          },
          "metadata": {},
          "execution_count": 15
        }
      ]
    },
    {
      "cell_type": "code",
      "source": [
        "set1 = tf.constant([[2, 3, 5, 7], [7, 9, 0, 0]])\n",
        "set2 = tf.constant([[4, 5, 6,8], [9, 10, 0,3]])\n",
        "print(tf.sets.union(set1, set2))"
      ],
      "metadata": {
        "colab": {
          "base_uri": "https://localhost:8080/"
        },
        "id": "AB9oFj0tyb7b",
        "outputId": "a2577f4e-ed9d-4ba6-8d23-077cb72f5cdf"
      },
      "execution_count": 27,
      "outputs": [
        {
          "output_type": "stream",
          "name": "stdout",
          "text": [
            "SparseTensor(indices=tf.Tensor(\n",
            "[[0 0]\n",
            " [0 1]\n",
            " [0 2]\n",
            " [0 3]\n",
            " [0 4]\n",
            " [0 5]\n",
            " [0 6]\n",
            " [1 0]\n",
            " [1 1]\n",
            " [1 2]\n",
            " [1 3]\n",
            " [1 4]], shape=(12, 2), dtype=int64), values=tf.Tensor([ 2  3  4  5  6  7  8  0  3  7  9 10], shape=(12,), dtype=int32), dense_shape=tf.Tensor([2 7], shape=(2,), dtype=int64))\n"
          ]
        }
      ]
    },
    {
      "cell_type": "code",
      "source": [
        "set1.shape , set2.shape"
      ],
      "metadata": {
        "colab": {
          "base_uri": "https://localhost:8080/"
        },
        "id": "zCC_-DERzt3k",
        "outputId": "1529d660-63d8-475e-f216-cce884442e20"
      },
      "execution_count": 28,
      "outputs": [
        {
          "output_type": "execute_result",
          "data": {
            "text/plain": [
              "(TensorShape([2, 4]), TensorShape([2, 4]))"
            ]
          },
          "metadata": {},
          "execution_count": 28
        }
      ]
    },
    {
      "cell_type": "code",
      "source": [
        "tf.sparse.to_dense(tf.sets.union(set1, set2))"
      ],
      "metadata": {
        "colab": {
          "base_uri": "https://localhost:8080/"
        },
        "id": "e9LzK3N8ydXH",
        "outputId": "85106a09-604c-4b90-b849-4a3857482202"
      },
      "execution_count": 29,
      "outputs": [
        {
          "output_type": "execute_result",
          "data": {
            "text/plain": [
              "<tf.Tensor: shape=(2, 7), dtype=int32, numpy=\n",
              "array([[ 2,  3,  4,  5,  6,  7,  8],\n",
              "       [ 0,  3,  7,  9, 10,  0,  0]], dtype=int32)>"
            ]
          },
          "metadata": {},
          "execution_count": 29
        }
      ]
    },
    {
      "cell_type": "code",
      "source": [
        "faga = tf.Variable(set1)"
      ],
      "metadata": {
        "id": "cEDaw5UP1hYA"
      },
      "execution_count": 32,
      "outputs": []
    },
    {
      "cell_type": "code",
      "source": [
        "set1[0,1]= (2121)"
      ],
      "metadata": {
        "colab": {
          "base_uri": "https://localhost:8080/",
          "height": 170
        },
        "id": "99p6HeJU1yek",
        "outputId": "2b9d45b2-bab4-46c3-adc7-50641809e99d"
      },
      "execution_count": 41,
      "outputs": [
        {
          "output_type": "error",
          "ename": "TypeError",
          "evalue": "ignored",
          "traceback": [
            "\u001b[0;31m---------------------------------------------------------------------------\u001b[0m",
            "\u001b[0;31mTypeError\u001b[0m                                 Traceback (most recent call last)",
            "\u001b[0;32m<ipython-input-41-861954601a3d>\u001b[0m in \u001b[0;36m<module>\u001b[0;34m()\u001b[0m\n\u001b[0;32m----> 1\u001b[0;31m \u001b[0mset1\u001b[0m\u001b[0;34m[\u001b[0m\u001b[0;36m0\u001b[0m\u001b[0;34m,\u001b[0m\u001b[0;36m1\u001b[0m\u001b[0;34m]\u001b[0m\u001b[0;34m=\u001b[0m \u001b[0;34m(\u001b[0m\u001b[0;36m2121\u001b[0m\u001b[0;34m)\u001b[0m\u001b[0;34m\u001b[0m\u001b[0;34m\u001b[0m\u001b[0m\n\u001b[0m",
            "\u001b[0;31mTypeError\u001b[0m: 'tensorflow.python.framework.ops.EagerTensor' object does not support item assignment"
          ]
        }
      ]
    },
    {
      "cell_type": "code",
      "source": [
        "faga[0,1].assign(21)"
      ],
      "metadata": {
        "colab": {
          "base_uri": "https://localhost:8080/"
        },
        "id": "EihgGxAC1u-P",
        "outputId": "f4d9cba5-db21-4f77-c47b-5c255108612c"
      },
      "execution_count": 39,
      "outputs": [
        {
          "output_type": "execute_result",
          "data": {
            "text/plain": [
              "<tf.Variable 'UnreadVariable' shape=(2, 4) dtype=int32, numpy=\n",
              "array([[ 2, 21,  5,  7],\n",
              "       [ 7,  9,  0,  0]], dtype=int32)>"
            ]
          },
          "metadata": {},
          "execution_count": 39
        }
      ]
    },
    {
      "cell_type": "code",
      "source": [
        "from sklearn.datasets import fetch_california_housing\n",
        "from sklearn.model_selection import train_test_split\n",
        "from sklearn.preprocessing import StandardScaler\n",
        "\n",
        "housing = fetch_california_housing()\n",
        "X_train_full, X_test, y_train_full, y_test = train_test_split(\n",
        "    housing.data, housing.target.reshape(-1, 1), random_state=42)\n",
        "X_train, X_valid, y_train, y_valid = train_test_split(\n",
        "    X_train_full, y_train_full, random_state=42)\n",
        "\n",
        "scaler = StandardScaler()\n",
        "X_train_scaled = scaler.fit_transform(X_train)\n",
        "X_valid_scaled = scaler.transform(X_valid)\n",
        "X_test_scaled = scaler.transform(X_test)"
      ],
      "metadata": {
        "id": "BEu8JRwz5XJd"
      },
      "execution_count": 45,
      "outputs": []
    },
    {
      "cell_type": "code",
      "source": [
        "##Custom Loss function\n",
        "def Huber_loss(y_true,y_pred):\n",
        "  error = y_true - y_pred\n",
        "  print(error)\n",
        "  is_small_error = tf.abs(error) < 1\n",
        "  mse = tf.square(error) / 2  \n",
        "  error_abs = tf.abs(error) - 0.5\n",
        "  return tf.where(is_small_error, mse, error_abs)"
      ],
      "metadata": {
        "id": "cezin-b42wR7"
      },
      "execution_count": 49,
      "outputs": []
    },
    {
      "cell_type": "code",
      "source": [
        "input_shape = X_train.shape[1:]\n",
        "model = keras.Sequential([\n",
        "        keras.layers.Dense(30,name=\"input\"),\n",
        "        keras.layers.Dense(1,activation=\"selu\",name=\"output\")\n",
        "  ])\n",
        "model.compile(optimizer=keras.optimizers.Nadam(),metrics=\"accuracy\",loss=Huber_loss)\n",
        "\n",
        "#"
      ],
      "metadata": {
        "id": "Z6pxtisX4c04"
      },
      "execution_count": 51,
      "outputs": []
    },
    {
      "cell_type": "code",
      "source": [
        "model.fit(X_train_scaled, y_train, epochs=2,\n",
        "          validation_data=(X_valid_scaled, y_valid))"
      ],
      "metadata": {
        "colab": {
          "base_uri": "https://localhost:8080/"
        },
        "id": "C9jH9woD5vFk",
        "outputId": "4c92f717-5e07-44a9-97c2-d5d1d28ec84d"
      },
      "execution_count": 52,
      "outputs": [
        {
          "output_type": "stream",
          "name": "stdout",
          "text": [
            "Epoch 1/2\n",
            "Tensor(\"Huber_loss/sub:0\", shape=(None, 1), dtype=float32)\n",
            "Tensor(\"Huber_loss/sub:0\", shape=(None, 1), dtype=float32)\n",
            "338/363 [==========================>...] - ETA: 0s - loss: 0.6442 - accuracy: 0.0021Tensor(\"Huber_loss/sub:0\", shape=(None, 1), dtype=float32)\n",
            "363/363 [==============================] - 1s 2ms/step - loss: 0.6154 - accuracy: 0.0022 - val_loss: 0.2053 - val_accuracy: 0.0044\n",
            "Epoch 2/2\n",
            "363/363 [==============================] - 1s 2ms/step - loss: 0.2110 - accuracy: 0.0028 - val_loss: 0.1936 - val_accuracy: 0.0044\n"
          ]
        },
        {
          "output_type": "execute_result",
          "data": {
            "text/plain": [
              "<keras.callbacks.History at 0x7fc26374f650>"
            ]
          },
          "metadata": {},
          "execution_count": 52
        }
      ]
    },
    {
      "cell_type": "code",
      "source": [
        "class HuberLosss(keras.losses.Loss):\n",
        "  def __init__(self,thershold=1.0,**kwargs):\n",
        "    self.thershold = thershold\n",
        "    super().__init__(**kwargs)\n",
        "\n",
        "  def call(self,y_true,y_pred):\n",
        "    error = y_true - y_pred\n",
        "    is_small_error = tf.abs(error) < self.thershold\n",
        "    mse = tf.square(error) / 2  \n",
        "    error_abs = tf.abs(error) - 0.5\n",
        "    return tf.where(is_small_error, mse, error_abs)\n",
        "\n",
        "  def get_config(self):\n",
        "    base_config = super().get_config()\n",
        "    return {**base_config,\"thershold\":self.thershold}"
      ],
      "metadata": {
        "id": "e0e1Ooje6X7D"
      },
      "execution_count": 100,
      "outputs": []
    },
    {
      "cell_type": "code",
      "source": [
        "model.compile(optimizer=keras.optimizers.Nadam(),metrics=\"accuracy\",loss=HuberLosss(2.0))"
      ],
      "metadata": {
        "id": "_it0vKs67lqs"
      },
      "execution_count": 101,
      "outputs": []
    },
    {
      "cell_type": "code",
      "source": [
        "model.fit(X_train_scaled, y_train, epochs=2,batch_size = 64,\n",
        "          validation_data=(X_valid_scaled, y_valid))"
      ],
      "metadata": {
        "colab": {
          "base_uri": "https://localhost:8080/"
        },
        "id": "RoIRhjTx7wzT",
        "outputId": "fb7c36c2-46a1-4897-8763-5721a46b7b45"
      },
      "execution_count": 102,
      "outputs": [
        {
          "output_type": "stream",
          "name": "stdout",
          "text": [
            "Epoch 1/2\n",
            "182/182 [==============================] - 2s 3ms/step - loss: 0.2184 - accuracy: 0.0027 - val_loss: 0.2033 - val_accuracy: 0.0044\n",
            "Epoch 2/2\n",
            "182/182 [==============================] - 0s 2ms/step - loss: 0.2179 - accuracy: 0.0026 - val_loss: 0.2029 - val_accuracy: 0.0044\n"
          ]
        },
        {
          "output_type": "execute_result",
          "data": {
            "text/plain": [
              "<keras.callbacks.History at 0x7fc261244f10>"
            ]
          },
          "metadata": {},
          "execution_count": 102
        }
      ]
    },
    {
      "cell_type": "code",
      "source": [
        "model.fit(X_train_scaled, y_train, epochs=2,steps_per_epoch=len(X_train_scaled) // 64,batch_size=32,\n",
        "          validation_data=(X_valid_scaled, y_valid))\n",
        "\n"
      ],
      "metadata": {
        "colab": {
          "base_uri": "https://localhost:8080/"
        },
        "id": "E3W84ZmK9CC0",
        "outputId": "27354ea3-61a6-49d3-9a26-8149f01a0a5d"
      },
      "execution_count": 103,
      "outputs": [
        {
          "output_type": "stream",
          "name": "stdout",
          "text": [
            "Epoch 1/2\n",
            "181/181 [==============================] - 0s 3ms/step - loss: 0.2176 - accuracy: 0.0024 - val_loss: 0.2049 - val_accuracy: 0.0044\n",
            "Epoch 2/2\n",
            "181/181 [==============================] - 0s 2ms/step - loss: 0.2206 - accuracy: 0.0028 - val_loss: 0.2098 - val_accuracy: 0.0044\n"
          ]
        },
        {
          "output_type": "execute_result",
          "data": {
            "text/plain": [
              "<keras.callbacks.History at 0x7fc26110f490>"
            ]
          },
          "metadata": {},
          "execution_count": 103
        }
      ]
    },
    {
      "cell_type": "code",
      "source": [
        "model.save('my_model_custom_loss_class.h5')\n",
        "\n",
        "# model = keras.models.load_model(\"my_model_with_a_custom_loss_class.h5\",\n",
        "                                # custom_objects={\"HuberLoss\": HuberLoss})"
      ],
      "metadata": {
        "id": "PCN1FwpA-4ay"
      },
      "execution_count": 104,
      "outputs": []
    },
    {
      "cell_type": "code",
      "source": [
        "custom_loss_model = keras.models.load_model('my_model_custom_loss_class.h5', custom_objects={\"HuberLosss\": HuberLosss})"
      ],
      "metadata": {
        "id": "Zcd06i-uA2Pa"
      },
      "execution_count": 107,
      "outputs": []
    },
    {
      "cell_type": "code",
      "source": [
        "custom_loss_model.loss.get_config()"
      ],
      "metadata": {
        "colab": {
          "base_uri": "https://localhost:8080/"
        },
        "id": "_IWXn8KOBBgC",
        "outputId": "5083da7e-0b77-4d16-8f4a-c770bdc8fffb"
      },
      "execution_count": 115,
      "outputs": [
        {
          "output_type": "execute_result",
          "data": {
            "text/plain": [
              "{'name': None, 'reduction': 'auto', 'thershold': 2.0}"
            ]
          },
          "metadata": {},
          "execution_count": 115
        }
      ]
    },
    {
      "cell_type": "code",
      "source": [
        "custom_loss_model.optimizer.get_config()"
      ],
      "metadata": {
        "colab": {
          "base_uri": "https://localhost:8080/"
        },
        "id": "kJquGgoDBr0i",
        "outputId": "2400c47a-3b71-4a4d-f09d-b3ad87979672"
      },
      "execution_count": 117,
      "outputs": [
        {
          "output_type": "execute_result",
          "data": {
            "text/plain": [
              "{'beta_1': 0.9,\n",
              " 'beta_2': 0.999,\n",
              " 'decay': 0.004,\n",
              " 'epsilon': 1e-07,\n",
              " 'learning_rate': 0.001,\n",
              " 'name': 'Nadam'}"
            ]
          },
          "metadata": {},
          "execution_count": 117
        }
      ]
    },
    {
      "cell_type": "code",
      "source": [
        "als = lambda x: tf.exp(x)\n",
        "print(als(tf.constant([1],dtype=tf.float32)))"
      ],
      "metadata": {
        "colab": {
          "base_uri": "https://localhost:8080/"
        },
        "id": "mAP0YKemF1n7",
        "outputId": "88462d7a-fda6-497c-f799-bfe75505c380"
      },
      "execution_count": 9,
      "outputs": [
        {
          "output_type": "stream",
          "name": "stdout",
          "text": [
            "tf.Tensor([2.7182817], shape=(1,), dtype=float32)\n"
          ]
        }
      ]
    },
    {
      "cell_type": "code",
      "source": [
        "from tensorflow.python.ops.init_ops_v2 import Initializer\n",
        "class MyLayer(keras.layers.Layer):\n",
        "  def __init__(self,units,activation=None,**kwargs):\n",
        "    super().__init__(**kwargs)\n",
        "    self.activation = keras.activations.get(activation)\n",
        "    self.units = units\n",
        "   \n",
        "\n",
        "  def build(self,batch_input_shape):\n",
        "    self.kernel = self.add_weight(name=\"kernel\",shape=(batch_input_shape[-1],self.units),\n",
        "                                  initializer='glorat_normal')\n",
        "    self.bias = self.add_weight(name=\"bias\",shape=(self.units),\n",
        "                              initializer='zeros')\n",
        "    super().build(batch_input_shape)\n",
        "  \n",
        "  def call(self,X):\n",
        "    return self.activation(tf.matmul(X @ self.kernal) + self.bias)\n",
        "  \n",
        "  def compute_output_shape(self,batch_input_shape):\n",
        "    return tf.TensorShape(batch_input_shape.as_list()[:-1]+[self.bias])\n",
        "\n",
        "  def get_config(self):\n",
        "    base_config = super().get_config()\n",
        "    return {**base_config,\"units\": self.units,\"activation\": keras.activations.serialize(self.activation)}"
      ],
      "metadata": {
        "id": "Oc0pgUCcbhcx"
      },
      "execution_count": 22,
      "outputs": []
    },
    {
      "cell_type": "code",
      "source": [
        "layer = MyLayer([5,6])"
      ],
      "metadata": {
        "id": "sK5eovscf_C9"
      },
      "execution_count": 21,
      "outputs": []
    },
    {
      "cell_type": "code",
      "source": [
        "x = tf.constant(3.0)\n",
        "with tf.GradientTape() as g:\n",
        "  g.watch(x)\n",
        "  y = x * x\n",
        "dy_dx = g.gradient(y, x)\n",
        "print(dy_dx)"
      ],
      "metadata": {
        "colab": {
          "base_uri": "https://localhost:8080/"
        },
        "id": "Eq6Md_pWtWm4",
        "outputId": "6ea3643c-1fcf-46e1-bf4b-1dc5b219bdb8"
      },
      "execution_count": 33,
      "outputs": [
        {
          "output_type": "stream",
          "name": "stdout",
          "text": [
            "tf.Tensor(6.0, shape=(), dtype=float32)\n"
          ]
        }
      ]
    },
    {
      "cell_type": "code",
      "source": [
        "tf.constant(3.0) * tf.constant(3.0)"
      ],
      "metadata": {
        "colab": {
          "base_uri": "https://localhost:8080/"
        },
        "id": "TyWLnbE-tlMH",
        "outputId": "99afe4fc-267e-4637-de82-231ab3eb959d"
      },
      "execution_count": 34,
      "outputs": [
        {
          "output_type": "execute_result",
          "data": {
            "text/plain": [
              "<tf.Tensor: shape=(), dtype=float32, numpy=9.0>"
            ]
          },
          "metadata": {},
          "execution_count": 34
        }
      ]
    },
    {
      "cell_type": "code",
      "source": [
        "from numpy import dtype\n",
        "y = tf.random.uniform(shape=[100],minval=-1,maxval=1,dtype=tf.float16)\n",
        "y"
      ],
      "metadata": {
        "colab": {
          "base_uri": "https://localhost:8080/"
        },
        "id": "V5jJQZbaelHd",
        "outputId": "0392cf22-560a-4cad-8ba0-0058b477e48e"
      },
      "execution_count": 35,
      "outputs": [
        {
          "output_type": "execute_result",
          "data": {
            "text/plain": [
              "<tf.Tensor: shape=(100,), dtype=float16, numpy=\n",
              "array([ 0.8574 , -0.9473 ,  0.1172 , -0.9355 ,  0.5586 ,  0.506  ,\n",
              "        0.412  ,  0.7246 ,  0.7188 , -0.3398 ,  0.496  ,  0.1914 ,\n",
              "       -0.3242 ,  0.463  , -0.42   , -0.0781 ,  0.836  ,  0.926  ,\n",
              "        0.3906 , -0.8457 , -0.4355 ,  0.625  ,  0.8145 , -0.1738 ,\n",
              "        0.5605 ,  0.2832 , -0.293  ,  0.7363 , -0.6543 ,  0.58   ,\n",
              "       -0.4805 , -0.377  , -0.2734 ,  0.5566 , -0.254  , -0.3516 ,\n",
              "       -0.5664 ,  0.8496 ,  0.2598 ,  0.334  , -0.2031 ,  0.01953,\n",
              "        0.6797 ,  0.9766 , -0.2109 , -0.3203 , -0.6406 ,  0.867  ,\n",
              "        0.635  ,  0.6387 , -0.5625 ,  0.8633 , -0.10156,  0.541  ,\n",
              "        0.254  ,  0.4375 ,  0.4824 , -0.1836 , -0.5254 ,  0.1172 ,\n",
              "       -0.293  ,  0.715  , -0.3477 ,  0.3691 ,  0.2148 ,  0.01563,\n",
              "        0.5254 , -0.2012 ,  0.7285 , -0.5977 , -0.8887 , -0.4824 ,\n",
              "       -0.9004 , -0.668  , -0.6855 ,  0.8516 , -0.0918 , -0.92   ,\n",
              "        0.4648 ,  0.836  ,  0.5137 , -0.6387 , -0.7637 , -0.3281 ,\n",
              "       -0.4102 , -0.625  ,  0.084  ,  0.1133 ,  0.5977 , -0.705  ,\n",
              "        0.254  , -0.9824 , -0.2676 ,  0.668  , -0.418  , -0.084  ,\n",
              "       -0.1816 , -0.6387 , -0.885  , -0.166  ], dtype=float16)>"
            ]
          },
          "metadata": {},
          "execution_count": 35
        }
      ]
    },
    {
      "cell_type": "code",
      "source": [
        "sigmoid = tf.nn.softmax(y)\n",
        "relu = tf.nn.relu(y)"
      ],
      "metadata": {
        "id": "zAbHPu3OfuGJ"
      },
      "execution_count": 36,
      "outputs": []
    },
    {
      "cell_type": "code",
      "source": [
        "sigmoid"
      ],
      "metadata": {
        "colab": {
          "base_uri": "https://localhost:8080/"
        },
        "id": "QdzllXWRgG7S",
        "outputId": "758773f0-587d-402a-daf6-8fc7e3ee6e0e"
      },
      "execution_count": 29,
      "outputs": [
        {
          "output_type": "execute_result",
          "data": {
            "text/plain": [
              "<tf.Tensor: shape=(100,), dtype=float16, numpy=\n",
              "array([0.00913 , 0.01198 , 0.003275, 0.01869 , 0.00785 , 0.01805 ,\n",
              "       0.00815 , 0.004654, 0.004158, 0.005516, 0.003616, 0.004414,\n",
              "       0.02037 , 0.0202  , 0.005848, 0.005623, 0.003849, 0.00849 ,\n",
              "       0.003897, 0.004147, 0.0076  , 0.00571 , 0.01275 , 0.00328 ,\n",
              "       0.00579 , 0.02269 , 0.0136  , 0.007812, 0.010345, 0.007774,\n",
              "       0.00568 , 0.009026, 0.02216 , 0.01303 , 0.00826 , 0.01596 ,\n",
              "       0.00807 , 0.00575 , 0.01442 , 0.00544 , 0.01143 , 0.01723 ,\n",
              "       0.00542 , 0.0109  , 0.01112 , 0.01746 , 0.02173 , 0.00708 ,\n",
              "       0.003704, 0.005592, 0.004044, 0.00673 , 0.003902, 0.02203 ,\n",
              "       0.00789 , 0.00361 , 0.003567, 0.02014 , 0.00578 , 0.004715,\n",
              "       0.02151 , 0.0056  , 0.00846 , 0.01143 , 0.01962 , 0.00742 ,\n",
              "       0.02069 , 0.00659 , 0.02354 , 0.02194 , 0.00798 , 0.006824,\n",
              "       0.00495 , 0.0045  , 0.00428 , 0.003843, 0.01584 , 0.01165 ,\n",
              "       0.01367 , 0.00874 , 0.02246 , 0.01189 , 0.00372 , 0.006344,\n",
              "       0.004147, 0.00731 , 0.011604, 0.00822 , 0.003616, 0.00426 ,\n",
              "       0.01381 , 0.01371 , 0.015526, 0.003963, 0.004616, 0.004066,\n",
              "       0.01059 , 0.02118 , 0.004574, 0.02391 ], dtype=float16)>"
            ]
          },
          "metadata": {},
          "execution_count": 29
        }
      ]
    },
    {
      "cell_type": "code",
      "source": [
        "relu"
      ],
      "metadata": {
        "colab": {
          "base_uri": "https://localhost:8080/"
        },
        "id": "jt7WFIr2iC52",
        "outputId": "f7d0996c-5665-4a78-a82a-ba0b8a6f912b"
      },
      "execution_count": 39,
      "outputs": [
        {
          "output_type": "execute_result",
          "data": {
            "text/plain": [
              "<tf.Tensor: shape=(100,), dtype=float16, numpy=\n",
              "array([0.8574 , 0.     , 0.1172 , 0.     , 0.5586 , 0.506  , 0.412  ,\n",
              "       0.7246 , 0.7188 , 0.     , 0.496  , 0.1914 , 0.     , 0.463  ,\n",
              "       0.     , 0.     , 0.836  , 0.926  , 0.3906 , 0.     , 0.     ,\n",
              "       0.625  , 0.8145 , 0.     , 0.5605 , 0.2832 , 0.     , 0.7363 ,\n",
              "       0.     , 0.58   , 0.     , 0.     , 0.     , 0.5566 , 0.     ,\n",
              "       0.     , 0.     , 0.8496 , 0.2598 , 0.334  , 0.     , 0.01953,\n",
              "       0.6797 , 0.9766 , 0.     , 0.     , 0.     , 0.867  , 0.635  ,\n",
              "       0.6387 , 0.     , 0.8633 , 0.     , 0.541  , 0.254  , 0.4375 ,\n",
              "       0.4824 , 0.     , 0.     , 0.1172 , 0.     , 0.715  , 0.     ,\n",
              "       0.3691 , 0.2148 , 0.01563, 0.5254 , 0.     , 0.7285 , 0.     ,\n",
              "       0.     , 0.     , 0.     , 0.     , 0.     , 0.8516 , 0.     ,\n",
              "       0.     , 0.4648 , 0.836  , 0.5137 , 0.     , 0.     , 0.     ,\n",
              "       0.     , 0.     , 0.084  , 0.1133 , 0.5977 , 0.     , 0.254  ,\n",
              "       0.     , 0.     , 0.668  , 0.     , 0.     , 0.     , 0.     ,\n",
              "       0.     , 0.     ], dtype=float16)>"
            ]
          },
          "metadata": {},
          "execution_count": 39
        }
      ]
    },
    {
      "cell_type": "code",
      "source": [
        "with tf.GradientTape() as tape:\n",
        "  tape.watch(y)\n",
        "  g = tf.nn.softmax(y)\n",
        "\n",
        "x = tape.gradient(g, y)\n",
        "print(x)"
      ],
      "metadata": {
        "colab": {
          "base_uri": "https://localhost:8080/"
        },
        "id": "2Qtr2AhJgGvV",
        "outputId": "4fbecde1-7ca5-4bbc-b97f-4172a4c7fda0"
      },
      "execution_count": 37,
      "outputs": [
        {
          "output_type": "stream",
          "name": "stdout",
          "text": [
            "tf.Tensor(\n",
            "[9.656e-06 1.609e-06 4.590e-06 1.609e-06 7.153e-06 6.795e-06 6.199e-06\n",
            " 8.464e-06 8.404e-06 2.921e-06 6.735e-06 4.947e-06 2.980e-06 6.497e-06\n",
            " 2.682e-06 3.755e-06 9.418e-06 1.031e-05 6.020e-06 1.729e-06 2.623e-06\n",
            " 7.629e-06 9.239e-06 3.457e-06 7.153e-06 5.424e-06 3.040e-06 8.523e-06\n",
            " 2.146e-06 7.272e-06 2.503e-06 2.801e-06 3.099e-06 7.153e-06 3.159e-06\n",
            " 2.861e-06 2.325e-06 9.537e-06 5.305e-06 5.722e-06 3.338e-06 4.172e-06\n",
            " 8.047e-06 1.085e-05 3.338e-06 2.980e-06 2.146e-06 9.716e-06 7.689e-06\n",
            " 7.749e-06 2.325e-06 9.656e-06 3.695e-06 7.033e-06 5.245e-06 6.318e-06\n",
            " 6.616e-06 3.397e-06 2.444e-06 4.590e-06 3.040e-06 8.345e-06 2.861e-06\n",
            " 5.901e-06 5.066e-06 4.172e-06 6.914e-06 3.338e-06 8.464e-06 2.265e-06\n",
            " 1.669e-06 2.503e-06 1.669e-06 2.086e-06 2.086e-06 9.596e-06 3.755e-06\n",
            " 1.609e-06 6.497e-06 9.418e-06 6.855e-06 2.146e-06 1.907e-06 2.921e-06\n",
            " 2.682e-06 2.205e-06 4.470e-06 4.590e-06 7.451e-06 2.027e-06 5.245e-06\n",
            " 1.550e-06 3.099e-06 7.987e-06 2.682e-06 3.755e-06 3.397e-06 2.146e-06\n",
            " 1.669e-06 3.457e-06], shape=(100,), dtype=float16)\n"
          ]
        }
      ]
    },
    {
      "cell_type": "code",
      "source": [
        "with tf.GradientTape() as tape:\n",
        "  tape.watch(y)\n",
        "  g = tf.nn.relu(y)\n",
        "\n",
        "x = tape.gradient(g, y)\n",
        "print(x)"
      ],
      "metadata": {
        "colab": {
          "base_uri": "https://localhost:8080/"
        },
        "id": "R1Iz8wrZh4sa",
        "outputId": "8d3e49a7-a1d0-4dd9-d415-b53714aab1bf"
      },
      "execution_count": 38,
      "outputs": [
        {
          "output_type": "stream",
          "name": "stdout",
          "text": [
            "tf.Tensor(\n",
            "[1. 0. 1. 0. 1. 1. 1. 1. 1. 0. 1. 1. 0. 1. 0. 0. 1. 1. 1. 0. 0. 1. 1. 0.\n",
            " 1. 1. 0. 1. 0. 1. 0. 0. 0. 1. 0. 0. 0. 1. 1. 1. 0. 1. 1. 1. 0. 0. 0. 1.\n",
            " 1. 1. 0. 1. 0. 1. 1. 1. 1. 0. 0. 1. 0. 1. 0. 1. 1. 1. 1. 0. 1. 0. 0. 0.\n",
            " 0. 0. 0. 1. 0. 0. 1. 1. 1. 0. 0. 0. 0. 0. 1. 1. 1. 0. 1. 0. 0. 1. 0. 0.\n",
            " 0. 0. 0. 0.], shape=(100,), dtype=float16)\n"
          ]
        }
      ]
    },
    {
      "cell_type": "code",
      "source": [
        "x - sigmoid"
      ],
      "metadata": {
        "colab": {
          "base_uri": "https://localhost:8080/"
        },
        "id": "4ZW0RIE0hhbG",
        "outputId": "f56adb73-e717-48c7-894f-4090c999a0fd"
      },
      "execution_count": 32,
      "outputs": [
        {
          "output_type": "execute_result",
          "data": {
            "text/plain": [
              "<tf.Tensor: shape=(100,), dtype=float16, numpy=\n",
              "array([-0.009125, -0.01197 , -0.003273, -0.01868 , -0.00784 , -0.01804 ,\n",
              "       -0.00814 , -0.00465 , -0.004154, -0.005512, -0.003614, -0.00441 ,\n",
              "       -0.02036 , -0.02019 , -0.005844, -0.00562 , -0.003847, -0.008484,\n",
              "       -0.003895, -0.004143, -0.007595, -0.005707, -0.01274 , -0.003279,\n",
              "       -0.005787, -0.02267 , -0.013596, -0.00781 , -0.01034 , -0.00777 ,\n",
              "       -0.005676, -0.00902 , -0.02214 , -0.01302 , -0.008255, -0.01595 ,\n",
              "       -0.008064, -0.005745, -0.01441 , -0.005436, -0.01142 , -0.01721 ,\n",
              "       -0.005417, -0.010895, -0.011116, -0.01744 , -0.02171 , -0.007076,\n",
              "       -0.003702, -0.00559 , -0.00404 , -0.006725, -0.0039  , -0.02202 ,\n",
              "       -0.00788 , -0.003609, -0.003565, -0.02013 , -0.005775, -0.00471 ,\n",
              "       -0.0215  , -0.005596, -0.00845 , -0.01142 , -0.0196  , -0.007416,\n",
              "       -0.02068 , -0.006588, -0.02353 , -0.02193 , -0.00797 , -0.00682 ,\n",
              "       -0.004948, -0.004498, -0.004276, -0.003841, -0.01582 , -0.01164 ,\n",
              "       -0.013664, -0.008736, -0.02245 , -0.01188 , -0.003717, -0.00634 ,\n",
              "       -0.004143, -0.007305, -0.0116  , -0.00821 , -0.003614, -0.004257,\n",
              "       -0.0138  , -0.0137  , -0.01552 , -0.00396 , -0.004612, -0.004063,\n",
              "       -0.01058 , -0.02116 , -0.00457 , -0.0239  ], dtype=float16)>"
            ]
          },
          "metadata": {},
          "execution_count": 32
        }
      ]
    }
  ]
}